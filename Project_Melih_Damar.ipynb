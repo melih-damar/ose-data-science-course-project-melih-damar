{
 "cells": [
  {
   "cell_type": "markdown",
   "id": "ade82d2c-454e-4f47-be4e-aed303fc967b",
   "metadata": {},
   "source": [
    "Term paper for the course in Microeconometrics. Summer 2021, M.Sc. Economics, University of Bonn. Melih Damar\n",
    "\n",
    "---\n",
    "# Replication of Acemoglu et al.(2014): Institutions, Human Capital, and Development\n",
    "---\n"
   ]
  },
  {
   "cell_type": "markdown",
   "id": "61434f90-bc1d-46bf-8d8d-bcd7e7c0d215",
   "metadata": {},
   "source": [
    "This paper contains my replication of the following paper:\n",
    "  * [Acemoglu,D., Gallego,F.A., & Robinson, J.A.(2014). Institutions, Human Capital, and Development. *Annual Reviews of   Economics, 6*, 875-912.](https://doi.org/10.1146/annurev-economics-080213-041119)\n",
    "  \n",
    "#### Information about the organization of the paper\n",
    "* Throught the paper, I will be in line with the original structure of the paper in order for readers to compare the results with the original paper. I excluded the section called \"Comments on the Previous Literature\" All tables and figures will be labeled in accordence with the original paper.\n",
    "\n",
    "* All sections contining my independent contributions to the original paper will be labeled as *extentions*"
   ]
  },
  {
   "cell_type": "markdown",
   "id": "f9ad1094-fb4e-4ab3-8dc5-173bfa737d03",
   "metadata": {},
   "source": [
    "## Table of Content"
   ]
  },
  {
   "cell_type": "markdown",
   "id": "eb5a9be4-e612-45be-8120-3b899e3c80af",
   "metadata": {},
   "source": [
    "* [1. Introduction](#Introduction)<br>\n",
    "    * [1.1 Background](#background)<br>\n",
    "    * [1.2 This Article](#this_article)<br>\n",
    "* [2. Colonization and Human Capital](#colonization_and_human_capital)<br>\n",
    "* [3. Data and Descriptive Statistics](#data_and_descriptive_statistics)<br>\n",
    "    * [3.1 Cross-Country Data](#cross_country_data)<br>\n",
    "    * [3.2 Sources of Variation in Human Capital](#sources_of_variation_in_human_capital)<br>\n",
    "    * [3.3 Regional Data](#regional_data)<br>\n",
    "* [4. Cross-Country Evidence](#cross_country_evidence)<br>\n",
    "    * [4.1 Ordinary Least Squares Regressions](#ordinary_least_squares_regressions)<br>  \n",
    "    * [4.2 Semistructural Models](#semistructural_models)<br>  \n",
    "    * [4.3 Full Two-Stage Least Squares Models](#full_two-stage_least_squares_models)   \n",
    "    * [4.4 Full Two-Stage Least Squares Models](#does_human_capital_cause_institutions)\n",
    "* [5. Cross-Regional Evidence](#cross_regional_evidence)<br>\n",
    "    * [5.1 Ordinary Least Squares Regressions](#ordinary_least_squares_regressions2)<br>\n",
    "    * [5.2 Two-Stage Least Squares Models](#two_stage_least_squares_models)<br>\n",
    "* [6. Conclusion](#conclusion)<br>"
   ]
  },
  {
   "cell_type": "code",
   "execution_count": 8,
   "id": "4b4dff75-b041-46be-b273-d2f4943e9117",
   "metadata": {},
   "outputs": [],
   "source": [
    "import pandas as pd\n",
    "import numpy as np\n",
    "import statsmodels.formula.api as smf\n",
    "from stargazer.stargazer import Stargazer\n",
    "from IPython.core.display import HTML\n",
    "from statsmodels.iolib import summary2\n",
    "from statsmodels.iolib import summary\n",
    "from linearmodels import IV2SLS\n",
    "from linearmodels import IVLIML\n",
    "\n",
    "from auxiliary.project_auxiliary_table import *"
   ]
  },
  {
   "cell_type": "markdown",
   "id": "c5838cec-afae-4837-b344-4bdacce9ef08",
   "metadata": {},
   "source": [
    "---\n",
    "\n",
    "## 1. Introduction <a class=\"anchor\" id=\"Introduction\"></a>\n",
    "\n",
    "---"
   ]
  },
  {
   "cell_type": "markdown",
   "id": "6966044f-920d-47c1-b300-efde5f8619a5",
   "metadata": {},
   "source": [
    "### 1.1. Background <a class=\"anchor\" id=\"background\"></a>"
   ]
  },
  {
   "cell_type": "markdown",
   "id": "c2f4f9ac-66a0-422e-8754-8c8dec8cf26a",
   "metadata": {
    "tags": []
   },
   "source": [
    "In this paper, the authors revisited the relationship between institutions, human capital and development since they think that taking human capital and instituions as an exogenous variables in emprical researches causes to estimate very large returns on human capital compered to the Mincerian estimates because of omitted variable bias problem and differantial measurement error in the variables. They take historicaly determined differences in human capital and the effect of institutions into account, they found a estimate for the returns of human capital consistent with Mincerian estimates by using cross-country and cross-regional regressions.\n",
    "\n",
    "North and Thomas(1973) lists innovation (TFP), education and capital accumulation as proximate determinants of economic growth when explaning why some countries are richer than others. The diagrams below shows the intiution behind this argument.\n",
    "<center>$ fundamental \\ determinants \\Longrightarrow\\ proximate\\ determinants\\Longrightarrow\\ economic\\ development$</center>\n",
    "More spesifically;\n",
    "<center>$Institutions \\Longrightarrow\\begin{array}\\\\ \n",
    "TFP\\\\\n",
    "human \\ capital\\\\\n",
    "physical \\ capital\n",
    "\\end{array}\n",
    "\\Bigg\\}\\Longrightarrow\\ Economic \\ Development $</center>\n",
    "\n",
    "The same logic also applies when fundamental determinant is culture or geography instead of institutions.\n",
    "\n",
    "One of the interesting question arising from this argument is why some countries have more innovation, human capital and capital accumulation than others.\n",
    "\n",
    "Even though institutions are always present in the economic theory, it is generally incleduded implicitly. Most of the early economic modes assumes a set of institutions such as property right of factors of production or ownershio of some assets in economics. However, the the effect of institutions on economic growth was left wasn't paid more attention to examine. However, it is difficult to build a model to obtain convincing result about the relationships of institutions with other economic variable as institutions are generally exogenous and they are mostly related with other factors which are affecting economic performance of a nation.\n",
    "\n",
    "Recently,there has been an attempt to find different methods to be able to control to pure effect of institutions which are treated as an exogenous variable. Acemoglu et al.(2001) used historically determined factors to obtain exogenous measure of institutions. They suggest that during colonization of New World, Europens brought different type of institutions from their countries based on certain characteristics of the colonized regions. At one extreme sitution, they form extractive institutions in such a way to transfer resources to Europe, which was the reason for the formation of economic institutions which led to the creation of rules enabling slavery, discrimation, monopolies and insecure property rights. Most of the African countries is an example for this type of institutions. At the other extreme situtation, European colonizers settled down to the colonized region and brought European institutions, which contibute more to sustainable economic development. The decision whether to settle down or not was based on the mortality rate of European settlers. If the mortality rate of settlers were high, they constituted more extractive institutions whereas they formed better institutions which were so similar to , even sometimes better than European laws in colonies where mortality rate is low enough to settle down. After the independence of the old colonies, these institutions persisted to exist. Therefore, Acemoglu et al.(2001) argued that the mortality rate of early European colonizers can be used as an instrumental variable for the current institutions of the countries beacuse the mortality rate was determined exogonously and randomly which has no direct effect on current development sitution of a country. The following diagram can show this relations;\n",
    "\n",
    "<center>$ Potential \\ mortality \\ rate \\ of \\ European\\ settlers\\Longrightarrow\\ Settlements \\Longrightarrow\\ Past \\ institutions \\Longrightarrow\\ Current \\ institutions $</center> \n",
    "    \n",
    "   \n",
    "Acemoglu et al.(2001) used two-stage least squares (2SLS) regression model where log GDP per capita 2005 was the dependent variable and protection against the risk of expropriation, as a measure of current instutions, was the main explanatory variable instrumented by logarithm of settlers mortality rate. Even further, Acemoglu et al.(2012) used capped potential settler mortality rate as an alternative instrumental variable. The results demonstrate that instutions have a large effect on long-run economic development of a country with both of the formulation of instrumental variable, accounting 75% of difference between high and low institutions countries. Moreover, these results were robust to controlling various geographical characteristics of a country that could be correlated with the economic development. The authors didn't control for the proximate determinants of economic development in the framework defined by North&Thomas(1973) as the channel instutions affect economic growth of a country is the proximate determinants and controlling for them would lead to a \"bad control\" as Angrist & Pischke(2008) suggested.\n",
    "\n",
    "The framework suggested by Acemoglu(2001) was challenged by Glaeser et al.(2004) for putting institutions before human capital. They suggested that, on the contary to Acemoglu et al(2001), European settlers brought human capital and the places they brought more human capital constitute more organized and better societies which enabled them to experience economic developmnet."
   ]
  },
  {
   "cell_type": "markdown",
   "id": "96b069a0-65b1-4283-a087-0fed569d4b99",
   "metadata": {},
   "source": [
    "### 1.2. This Article <a class=\"anchor\" id=\"this_article\"></a>      "
   ]
  },
  {
   "cell_type": "markdown",
   "id": "71a6f0c2-5b65-4838-86ce-4546569394d5",
   "metadata": {},
   "source": [
    "In this article, Acemoglu et al.(2001) has there main contribution in terms of evaluating the the impact of human capital and institutions on the economic performance of a country. The first main contribution is to give a brief historical explanation about the human capital European colonizers brought to their colonies in order to show that, on the contray to what Glaeser et al.(2004) suppose, more human capital was brouught to the extractive colonies than inclusive colonies, which means the main reason for the differences in economic development of early colonized countries is not the human capital they brought rather the institutions which supports mass schooling. \n",
    "\n",
    "The second main contribution of this paper is that when they treat human capital as an exogenous variable or instrument with early Protestant missionary activities, the estimate is 25-35%, which is similar to the results of Glaeser et al.(2004) whereas when they control the human capital and historical determinants of institutions or simultaneously treat them as endogenous variables the impact of human capital on economic development is estimated closer to Mincerian evidence (contribution of one more year of schooling on individual earnings) as 6-10%, which is less than what Galeaser et. al.(2004) estimated. The authours suggested that the main reason why these two numbers are different is omitted variables whose effect is captured by human capital and they think that it is institutions. This results suggest that instituions have effect on long-run development through human capital channel.\n",
    "\n",
    "The third contribution is that they investigated the effect of human capital on long-run development by using a cross-regional data and they concluded that the huge inequalities between region is correlated with the educational background of the inhabitants of the regions. They found the results similar to the second contribution when they treat the human capital seperately as an exogenous variable and endogonous variable instrumented with Protestant missionary activities. \n",
    "\n",
    "To conclude, Acemoglu et al.(2014) suggested that human capital is one of the channel institutions has an effect on economic development once historically instrumental differences are controlled with a plausible rate implied by Mincerian evidence."
   ]
  },
  {
   "cell_type": "markdown",
   "id": "34a9202c-b013-42cd-b8cf-34bf9d94f628",
   "metadata": {},
   "source": [
    "### 2. Colonization and Human Capital <a class=\"anchor\" id=\"colonization_and_human_capital\"></a>   "
   ]
  },
  {
   "cell_type": "markdown",
   "id": "62b723ff-0430-4f1a-b870-5e035bbc4dd9",
   "metadata": {},
   "source": [
    "Colonization of New World with Europens created not only different types of institutions in colonized countries but also variation in human capital brought by early colonizers. Glaeser et al.(2004) argued that the variation in economic developments of former colonies of European countries was created by the difference in human capital they brought not the instutitons. However, historical evidences suggest that the conquistadors who colonized South America was more educated than the ones who colonized the North America, which is the opposite of what Glaeser et al.(2004) suggested. Based on the work of Avellaneda(1995), average literacy of the conquistadors in five different expeditions to South America was 78.7%. The main reasons were that early colonizers of South America came from urban areas in Spain and they were mostly second or thirs sons of nobles who could not inherit any land under Spanish law.\n",
    "\n",
    "Even though they were highly educated people amoong the early colonizers of North America, they consitute the small portion of people who migrated the North America. Grubb(1990) exploited the jury list to come up with a literacy rate and the figures suggest that the literacy rate of colonizers of North America in Virginia was 54% in the 1600s.\n",
    "\n",
    "When we looked at the literacy and education level in nineteenth century, North America was better than South America. However, this doesn't has nothing to do with the level of human capital they brough when they first settled down. Instead, it has everything to do with the institution they created, which increased the investment in human capital and school construction.\n",
    "To sum up, historical evidences don't provide support to the idea that the differences in countries' economic development level is because of the variation in human capital they brought when they first settled rather than institutions they formed. "
   ]
  },
  {
   "cell_type": "markdown",
   "id": "84a1f7c7-d216-4e04-bf14-c21ce915c37e",
   "metadata": {},
   "source": [
    "### 3. Data and Descriptive Statistics<a class=\"anchor\" id=\"data_and_descriptive_statistics\"></a>   "
   ]
  },
  {
   "cell_type": "markdown",
   "id": "dc9dc5d9-f42f-418c-a6fa-06b3695beec3",
   "metadata": {},
   "source": [
    "The authors utilized two different data sets. The first data consists of information for 62 countries which were once colonized. The second data includes informations for 684 regions in 48 different former colonies. **[Table 1](#table_1)** shows description statistics for each data sets."
   ]
  },
  {
   "cell_type": "markdown",
   "id": "4a1d4bbd-13ac-4566-a4cd-9561ecee248a",
   "metadata": {},
   "source": [
    "##### 3.1 Cross-Country Data<a class=\"anchor\" id=\"cross_country_data\"></a>   "
   ]
  },
  {
   "cell_type": "markdown",
   "id": "e9352a44-23d9-4e30-be94-9282cb6cefae",
   "metadata": {},
   "source": [
    "The main dependent variable is the log GDP per capita( purchasing power parity basis) in 2005. The log GDP per capita of an average country in the cross-country sample is 8.29. The same variable for an average region is so similar, 8,35. Average years of schooling of the population above age 15 in 2005 is used as the main indicator of current educational attainment for cross-country analyis. The average value of current educational attainment variable is 6 years. The main measure for current instutional level of a country is rule of law index for 2005. Rule of law index measures the extent to which countries comply with the rule of law in practive. It has 8 categories; limited government powers, absence of corruptioni, order and security, fundamental rights, open government, regulatory enforcement, civil justice, and criminal justice. The index varies between -2,5 (weak adherence to rule of law) and 2,5 (strong adherence to rule of law). The average value for cross country sample is -0.32. As intrumental varibles, the authors use the log of potential settler mortality(capped at a maximum level of 250) and the lof population density in 1500."
   ]
  },
  {
   "cell_type": "markdown",
   "id": "b04bbfe0-9833-46e2-a156-0632e8411611",
   "metadata": {},
   "source": [
    "##### Table 1: Summary Statistics<a class=\"anchor\" id=\"table_1\"></a>   "
   ]
  },
  {
   "cell_type": "code",
   "execution_count": 4,
   "id": "646fe446-6c8d-4d77-a190-f89b06b6791b",
   "metadata": {},
   "outputs": [
    {
     "data": {
      "text/html": [
       "<div>\n",
       "<style scoped>\n",
       "    .dataframe tbody tr th:only-of-type {\n",
       "        vertical-align: middle;\n",
       "    }\n",
       "\n",
       "    .dataframe tbody tr th {\n",
       "        vertical-align: top;\n",
       "    }\n",
       "\n",
       "    .dataframe thead th {\n",
       "        text-align: right;\n",
       "    }\n",
       "</style>\n",
       "<table border=\"1\" class=\"dataframe\">\n",
       "  <thead>\n",
       "    <tr style=\"text-align: right;\">\n",
       "      <th></th>\n",
       "      <th></th>\n",
       "      <th>Observations</th>\n",
       "      <th>Mean</th>\n",
       "      <th>SD</th>\n",
       "    </tr>\n",
       "  </thead>\n",
       "  <tbody>\n",
       "    <tr>\n",
       "      <th rowspan=\"14\" valign=\"top\">Cross-country sample</th>\n",
       "      <th>Log GDP per capita</th>\n",
       "      <td>62.0</td>\n",
       "      <td>8.291009</td>\n",
       "      <td>1.213168</td>\n",
       "    </tr>\n",
       "    <tr>\n",
       "      <th>Years of schooling</th>\n",
       "      <td>62.0</td>\n",
       "      <td>6.179061</td>\n",
       "      <td>2.878306</td>\n",
       "    </tr>\n",
       "    <tr>\n",
       "      <th>Rule of law</th>\n",
       "      <td>62.0</td>\n",
       "      <td>-0.326935</td>\n",
       "      <td>0.895110</td>\n",
       "    </tr>\n",
       "    <tr>\n",
       "      <th>Primary school enrollment 1900</th>\n",
       "      <td>62.0</td>\n",
       "      <td>16.664515</td>\n",
       "      <td>23.046547</td>\n",
       "    </tr>\n",
       "    <tr>\n",
       "      <th>Protestant missionaries in the early twentieth century</th>\n",
       "      <td>62.0</td>\n",
       "      <td>0.457945</td>\n",
       "      <td>0.547192</td>\n",
       "    </tr>\n",
       "    <tr>\n",
       "      <th>Log capped potential settler mortality</th>\n",
       "      <td>62.0</td>\n",
       "      <td>4.444997</td>\n",
       "      <td>0.960907</td>\n",
       "    </tr>\n",
       "    <tr>\n",
       "      <th>Log population density 1500</th>\n",
       "      <td>62.0</td>\n",
       "      <td>0.545168</td>\n",
       "      <td>1.727288</td>\n",
       "    </tr>\n",
       "    <tr>\n",
       "      <th>Dummy for different source of Protestant missions</th>\n",
       "      <td>62.0</td>\n",
       "      <td>0.096774</td>\n",
       "      <td>0.298063</td>\n",
       "    </tr>\n",
       "    <tr>\n",
       "      <th>Latitude</th>\n",
       "      <td>62.0</td>\n",
       "      <td>0.180646</td>\n",
       "      <td>0.134148</td>\n",
       "    </tr>\n",
       "    <tr>\n",
       "      <th>British colony</th>\n",
       "      <td>62.0</td>\n",
       "      <td>0.387097</td>\n",
       "      <td>0.491062</td>\n",
       "    </tr>\n",
       "    <tr>\n",
       "      <th>French colony</th>\n",
       "      <td>62.0</td>\n",
       "      <td>0.241935</td>\n",
       "      <td>0.431751</td>\n",
       "    </tr>\n",
       "    <tr>\n",
       "      <th>Africa</th>\n",
       "      <td>62.0</td>\n",
       "      <td>0.419355</td>\n",
       "      <td>0.497482</td>\n",
       "    </tr>\n",
       "    <tr>\n",
       "      <th>Asia</th>\n",
       "      <td>62.0</td>\n",
       "      <td>0.145161</td>\n",
       "      <td>0.355139</td>\n",
       "    </tr>\n",
       "    <tr>\n",
       "      <th>America</th>\n",
       "      <td>62.0</td>\n",
       "      <td>0.387097</td>\n",
       "      <td>0.491062</td>\n",
       "    </tr>\n",
       "    <tr>\n",
       "      <th rowspan=\"8\" valign=\"top\">Cross-region sample</th>\n",
       "      <th>Log GDP per capita</th>\n",
       "      <td>684.0</td>\n",
       "      <td>8.358535</td>\n",
       "      <td>1.212870</td>\n",
       "    </tr>\n",
       "    <tr>\n",
       "      <th>Years of schooling</th>\n",
       "      <td>684.0</td>\n",
       "      <td>5.683356</td>\n",
       "      <td>3.052703</td>\n",
       "    </tr>\n",
       "    <tr>\n",
       "      <th>Temperature</th>\n",
       "      <td>684.0</td>\n",
       "      <td>21.436157</td>\n",
       "      <td>5.794331</td>\n",
       "    </tr>\n",
       "    <tr>\n",
       "      <th>Inverse distance to coast</th>\n",
       "      <td>684.0</td>\n",
       "      <td>0.857595</td>\n",
       "      <td>0.136601</td>\n",
       "    </tr>\n",
       "    <tr>\n",
       "      <th>Landlocked region</th>\n",
       "      <td>684.0</td>\n",
       "      <td>0.519006</td>\n",
       "      <td>0.500003</td>\n",
       "    </tr>\n",
       "    <tr>\n",
       "      <th>Presence of Protestant missionaries in early twentieth century</th>\n",
       "      <td>684.0</td>\n",
       "      <td>0.526316</td>\n",
       "      <td>0.499672</td>\n",
       "    </tr>\n",
       "    <tr>\n",
       "      <th>Capital city</th>\n",
       "      <td>684.0</td>\n",
       "      <td>0.074561</td>\n",
       "      <td>0.262874</td>\n",
       "    </tr>\n",
       "    <tr>\n",
       "      <th>Log population density before colonization</th>\n",
       "      <td>642.0</td>\n",
       "      <td>0.866954</td>\n",
       "      <td>2.385784</td>\n",
       "    </tr>\n",
       "  </tbody>\n",
       "</table>\n",
       "</div>"
      ],
      "text/plain": [
       "                                                                         Observations  \\\n",
       "Cross-country sample Log GDP per capita                                          62.0   \n",
       "                     Years of schooling                                          62.0   \n",
       "                     Rule of law                                                 62.0   \n",
       "                     Primary school enrollment 1900                              62.0   \n",
       "                     Protestant missionaries in the early twentieth ...          62.0   \n",
       "                     Log capped potential settler mortality                      62.0   \n",
       "                     Log population density 1500                                 62.0   \n",
       "                     Dummy for different source of Protestant missions           62.0   \n",
       "                     Latitude                                                    62.0   \n",
       "                     British colony                                              62.0   \n",
       "                     French colony                                               62.0   \n",
       "                     Africa                                                      62.0   \n",
       "                     Asia                                                        62.0   \n",
       "                     America                                                     62.0   \n",
       "Cross-region sample  Log GDP per capita                                         684.0   \n",
       "                     Years of schooling                                         684.0   \n",
       "                     Temperature                                                684.0   \n",
       "                     Inverse distance to coast                                  684.0   \n",
       "                     Landlocked region                                          684.0   \n",
       "                     Presence of Protestant missionaries in early tw...         684.0   \n",
       "                     Capital city                                               684.0   \n",
       "                     Log population density before colonization                 642.0   \n",
       "\n",
       "                                                                              Mean  \\\n",
       "Cross-country sample Log GDP per capita                                   8.291009   \n",
       "                     Years of schooling                                   6.179061   \n",
       "                     Rule of law                                         -0.326935   \n",
       "                     Primary school enrollment 1900                      16.664515   \n",
       "                     Protestant missionaries in the early twentieth ...   0.457945   \n",
       "                     Log capped potential settler mortality               4.444997   \n",
       "                     Log population density 1500                          0.545168   \n",
       "                     Dummy for different source of Protestant missions    0.096774   \n",
       "                     Latitude                                             0.180646   \n",
       "                     British colony                                       0.387097   \n",
       "                     French colony                                        0.241935   \n",
       "                     Africa                                               0.419355   \n",
       "                     Asia                                                 0.145161   \n",
       "                     America                                              0.387097   \n",
       "Cross-region sample  Log GDP per capita                                   8.358535   \n",
       "                     Years of schooling                                   5.683356   \n",
       "                     Temperature                                         21.436157   \n",
       "                     Inverse distance to coast                            0.857595   \n",
       "                     Landlocked region                                    0.519006   \n",
       "                     Presence of Protestant missionaries in early tw...   0.526316   \n",
       "                     Capital city                                         0.074561   \n",
       "                     Log population density before colonization           0.866954   \n",
       "\n",
       "                                                                                SD  \n",
       "Cross-country sample Log GDP per capita                                   1.213168  \n",
       "                     Years of schooling                                   2.878306  \n",
       "                     Rule of law                                          0.895110  \n",
       "                     Primary school enrollment 1900                      23.046547  \n",
       "                     Protestant missionaries in the early twentieth ...   0.547192  \n",
       "                     Log capped potential settler mortality               0.960907  \n",
       "                     Log population density 1500                          1.727288  \n",
       "                     Dummy for different source of Protestant missions    0.298063  \n",
       "                     Latitude                                             0.134148  \n",
       "                     British colony                                       0.491062  \n",
       "                     French colony                                        0.431751  \n",
       "                     Africa                                               0.497482  \n",
       "                     Asia                                                 0.355139  \n",
       "                     America                                              0.491062  \n",
       "Cross-region sample  Log GDP per capita                                   1.212870  \n",
       "                     Years of schooling                                   3.052703  \n",
       "                     Temperature                                          5.794331  \n",
       "                     Inverse distance to coast                            0.136601  \n",
       "                     Landlocked region                                    0.500003  \n",
       "                     Presence of Protestant missionaries in early tw...   0.499672  \n",
       "                     Capital city                                         0.262874  \n",
       "                     Log population density before colonization           2.385784  "
      ]
     },
     "metadata": {},
     "output_type": "display_data"
    }
   ],
   "source": [
    "country_data=pd.read_stata(\"data/xcountry_data.dta\")\n",
    "region_data = pd.read_stata(\"data/xregion_data.dta\")\n",
    "table1=get_summary_statistics(country_data,region_data)\n",
    "display(table1)"
   ]
  },
  {
   "cell_type": "markdown",
   "id": "f9365fa2-5fe1-4b9a-ace8-43e62b9311ac",
   "metadata": {},
   "source": [
    "##### 3.2. Sources of Variation in Human Capital<a class=\"anchor\" id=\"sources_of_variation_in_human_capital\"></a>   "
   ]
  },
  {
   "cell_type": "markdown",
   "id": "1066a01e-db47-4354-9abf-062b6ef4451f",
   "metadata": {},
   "source": [
    "The authors' main source of potentially exogenous variation in human capital is Protestant missionary activities per 10.000 people in the early twentieth century. They use two different data. During all the analysis, a dummy variable will be added to indicate that a different source of information for Protestant missionary activities is used. One can argue that missionary activities are excludable from regressions of economic development for the following reason. First, the location of missionary activities was clearly chosen. Second, missionary activities in French and British colonies were different as well as across different continents. Third, missionary activity might have affected the evolution of some instutitons such as emergence of democracy or schooling system. Fourth, missionary activity might have influenced long-run development by affecting the current religious composition of the population. However, by controlling continent dummies , the identity of the colonial power and institutions, the allocatio of missionary activities across and within countries may be a candidate for insturmental variable for human capital. The average value of Protestant missionary activities per 10.000 people is  0.46.\n",
    "Another source of variation in human capital is primary school enrollment rates in 1900. Only one data set is utilized and for countries with missing values in the data set, enrollment rate of  0.6% is imputed by the authors. "
   ]
  },
  {
   "cell_type": "markdown",
   "id": "55ae458d-2ec1-4306-82dc-5dffcc8e3dc4",
   "metadata": {},
   "source": [
    "##### 3.3. Regional Data<a class=\"anchor\" id=\"regional_data\"></a>   "
   ]
  },
  {
   "cell_type": "markdown",
   "id": "fd7cb95e-0f09-4c0f-b359-0079483ea323",
   "metadata": {},
   "source": [
    "For regional data, the main dependent variable is again log GDP per capita. The average value for log GDP per capita for regions is 8.35. The main indicator of current education attatintment is again average years of schooling of the population above age 15 in 2005 and the average value is 5.7 years of schooling. The exogenous variable to explain the variation in average years of schooling today is again historical variation in Protestant missionaries. However, in this time, authors utilized the location of mission stations rather than the total number of missionaries normalized by population. A dummy variable is created to distinguish regions with and without Protestant missionaries.\n",
    "\n",
    "There were 4 main contrubitors for the location of missions station within the countries; climate and geograpy, path dependence in terms of previous missionary work, different strategies applied by Protestant missionaries when they face a group with competing religious, and possible interest in places with a large native population. As a result, the authors created dummy variables for whether the region was landlocked and distance to the sea ( proxies for transportations costs), climate conditions, and the capital of the country around 1920.\n",
    "\n",
    "Because there is not reliable measures of institutions within country, the authors focused on the returns to human capital using variation in the presence of Protestant missionaries. In robustness check, a proxy for the population density before colonization is used because it might have affected the regional path of instutitional development."
   ]
  },
  {
   "cell_type": "markdown",
   "id": "11f4e269-d972-4214-9cfb-68629fe53c36",
   "metadata": {},
   "source": [
    "### 4. Cross-Country Evidence<a class=\"anchor\" id=\"cross_country_evidence\"></a>   "
   ]
  },
  {
   "cell_type": "markdown",
   "id": "cdff0bdd-f292-4c5a-9d72-2120b4a0b935",
   "metadata": {},
   "source": [
    "In this section, the authors first show the correlation between human capital and instituions, and GDP per capita. The results suffer from omitted variable biases. Then, they present semistructural models in which one of the one of institutions and human capital are instrumented and various historical determinants were controlled to decresea the effect of omitted variable biases problem. The effect of human capital on current economic development is decreased. Finally, the authors present 2SLS and limited information maximum likelihood(LIML) models where both institutions and human capital are treated as endogenous. "
   ]
  },
  {
   "cell_type": "markdown",
   "id": "f3d54b05-3051-4a03-ab56-139b0d974576",
   "metadata": {},
   "source": [
    "##### 4.1 Ordinary Least Squares Regressions <a class=\"anchor\" id=\"ordinary_least_squares_regressions1\"></a>   "
   ]
  },
  {
   "cell_type": "markdown",
   "id": "e9077e44-a6ba-4e56-953a-ba160fa69df7",
   "metadata": {},
   "source": [
    "In **[Table 2](#table_2)**, various OLS regressions are run to present the correlation between economic development today (measured by GDP per capita in 2005) and measures of human capital and institutions. The sample consists of 62 former countries for which there is data. Heteroscedasticity robust standard errors are shown in parantheses. In the first column, the results belong to the regression of years of schooling on log GDP per capita in 2005. The relationship between them is significant with a coefficient of 0.352. The coefficient is very large. Considering the fact that the coefficient of years of schooling should match with the coefficient estimated with Mincer equation (generally estimated to be between 0.06 and 0.10) with an elastic supply of capital, no externalitiesand no omitted variable bias, the huge difference between coefficients suggests that there are omitted variable bias as the huge human capital externalities weren't supported by existing literature. Column 2 shows the relationship between the rule of law and log GDP per capital. There is a strong correlation between them with a coefficient of 0.930. Column 3 consists of the result of regression with years of schooling and the rule of law as explanatory variables. The coefficient of the rule of law significantly decreases whereas the effect of years of schooling slightly decreases, which is still relatively higher than Mincerian estimate.\n",
    "Other columns shows the result of regressions with different combination of control variables. The control variables are latitute( absolute value of distance from the country to the equator), dummy variables for the continent of Africa, America, Asia where Australasia is the omitted group, and dummies for British and French colonies where other European countries are omitted variables. The motivating reason why there are control variables for countries are that they may have had different institutions, human capital policies and different types of missionary activities. The control variables have a small impact on the result. Even though the column 12 includes all the control variables, there is small decrease in years of schooling.\n",
    "\n",
    "However, there are some potential problems in the results. The first reasons is the possible differential measurement error in human capital and institutions.Because human capital is partly determined by institutions and correlated with them, some of the effects of institutions on log GDP per capita will be loaded on to human capital, which means upward bias in the estimates of human capital and downward bias in the estimates of institutions. This problem can be corrected by including instrumental variable into our model. Second, there might be a reverse causality between human capital and log GDP per capita.Higher income might lead to higher schooling level.\n",
    "\n",
    "To sum up, even though there is a correlation between human capital and institutions, and economic development of a country, these cannot be seen as a casual relation beacuse of possible omitted variable problem."
   ]
  },
  {
   "cell_type": "markdown",
   "id": "495c3643-56be-4485-bd77-aebc994f5ee5",
   "metadata": {},
   "source": [
    "##### Table 2 Ordinary least squares (OLS) cross-country regressions<a class=\"anchor\" id=\"table_2\"></a>  "
   ]
  },
  {
   "cell_type": "code",
   "execution_count": 7,
   "id": "4bc509a6-da69-475c-8ff4-4694da70878a",
   "metadata": {},
   "outputs": [
    {
     "data": {
      "text/html": [
       "<table style=\"text-align:center\"><tr><td colspan=\"13\" style=\"border-bottom: 1px solid black\"></td></tr><tr><td style=\"text-align:left\"></td><td colspan=\"12\"><em>Dependent Variable: log GDP per capita </em></td></tr><tr><td style=\"text-align:left\"></td><tr><td style=\"text-align:left\"></td><td>(1)</td><td>(2)</td><td>(3)</td><td>(4)</td><td>(5)</td><td>(6)</td><td>(7)</td><td>(8)</td><td>(9)</td><td>(10)</td><td>(11)</td><td>(12)</td></tr><tr><td colspan=\"13\" style=\"border-bottom: 1px solid black\"></td></tr><tr><td style=\"text-align:left\">Years of schooling</td><td>0.352<sup>***</sup></td><td></td><td>0.287<sup>***</sup></td><td>0.332<sup>***</sup></td><td></td><td>0.286<sup>***</sup></td><td>0.304<sup>***</sup></td><td></td><td>0.229<sup>***</sup></td><td>0.322<sup>***</sup></td><td></td><td>0.248<sup>***</sup></td></tr><tr><td style=\"text-align:left\"></td><td>(0.028)</td><td></td><td>(0.037)</td><td>(0.036)</td><td></td><td>(0.038)</td><td>(0.055)</td><td></td><td>(0.058)</td><td>(0.058)</td><td></td><td>(0.061)</td></tr><tr><td style=\"text-align:left\">Rule of law</td><td></td><td>0.930<sup>***</sup></td><td>0.315<sup>**</sup></td><td></td><td>0.865<sup>***</sup></td><td>0.280<sup></sup></td><td></td><td>0.818<sup>***</sup></td><td>0.411<sup>*</sup></td><td></td><td>0.821<sup>***</sup></td><td>0.428<sup>**</sup></td></tr><tr><td style=\"text-align:left\"></td><td></td><td>(0.101)</td><td>(0.139)</td><td></td><td>(0.144)</td><td>(0.196)</td><td></td><td>(0.177)</td><td>(0.216)</td><td></td><td>(0.188)</td><td>(0.218)</td></tr><tr><td style=\"text-align:left\">Latitude</td><td></td><td></td><td></td><td>1.072<sup></sup></td><td>0.801<sup></sup></td><td>0.460<sup></sup></td><td>1.110<sup></sup></td><td>0.067<sup></sup></td><td>0.288<sup></sup></td><td>1.132<sup></sup></td><td>0.053<sup></sup></td><td>0.301<sup></sup></td></tr><tr><td style=\"text-align:left\"></td><td></td><td></td><td></td><td>(0.817)</td><td>(0.955)</td><td>(1.012)</td><td>(0.834)</td><td>(0.991)</td><td>(0.982)</td><td>(0.866)</td><td>(1.087)</td><td>(0.996)</td></tr><tr><td style=\"text-align:left\">Africa</td><td></td><td></td><td></td><td></td><td></td><td></td><td>-0.243<sup></sup></td><td>-0.726<sup>*</sup></td><td>0.005<sup></sup></td><td>-0.263<sup></sup></td><td>-0.736<sup>*</sup></td><td>-0.000<sup></sup></td></tr><tr><td style=\"text-align:left\"></td><td></td><td></td><td></td><td></td><td></td><td></td><td>(0.430)</td><td>(0.403)</td><td>(0.462)</td><td>(0.441)</td><td>(0.430)</td><td>(0.465)</td></tr><tr><td style=\"text-align:left\">America</td><td></td><td></td><td></td><td></td><td></td><td></td><td>0.015<sup></sup></td><td>0.437<sup></sup></td><td>0.456<sup></sup></td><td>-0.087<sup></sup></td><td>0.435<sup></sup></td><td>0.348<sup></sup></td></tr><tr><td style=\"text-align:left\"></td><td></td><td></td><td></td><td></td><td></td><td></td><td>(0.292)</td><td>(0.330)</td><td>(0.373)</td><td>(0.341)</td><td>(0.357)</td><td>(0.414)</td></tr><tr><td style=\"text-align:left\">Asia</td><td></td><td></td><td></td><td></td><td></td><td></td><td>0.055<sup></sup></td><td>-0.263<sup></sup></td><td>0.192<sup></sup></td><td>0.095<sup></sup></td><td>-0.266<sup></sup></td><td>0.249<sup></sup></td></tr><tr><td style=\"text-align:left\"></td><td></td><td></td><td></td><td></td><td></td><td></td><td>(0.529)</td><td>(0.403)</td><td>(0.481)</td><td>(0.533)</td><td>(0.418)</td><td>(0.486)</td></tr><tr><td style=\"text-align:left\">British colony</td><td></td><td></td><td></td><td></td><td></td><td></td><td></td><td></td><td></td><td>-0.216<sup></sup></td><td>-0.004<sup></sup></td><td>-0.269<sup></sup></td></tr><tr><td style=\"text-align:left\"></td><td></td><td></td><td></td><td></td><td></td><td></td><td></td><td></td><td></td><td>(0.283)</td><td>(0.297)</td><td>(0.279)</td></tr><tr><td style=\"text-align:left\">French Colony</td><td></td><td></td><td></td><td></td><td></td><td></td><td></td><td></td><td></td><td>0.042<sup></sup></td><td>0.021<sup></sup></td><td>0.024<sup></sup></td></tr><tr><td style=\"text-align:left\"></td><td></td><td></td><td></td><td></td><td></td><td></td><td></td><td></td><td></td><td>(0.335)</td><td>(0.399)</td><td>(0.327)</td></tr><td colspan=\"13\" style=\"border-bottom: 1px solid black\"></td></tr><tr><td style=\"text-align: left\">Observations</td><td>62</td><td>62</td><td>62</td><td>62</td><td>62</td><td>62</td><td>62</td><td>62</td><td>62</td><td>62</td><td>62</td><td>62</td></tr><tr><td style=\"text-align: left\">R<sup>2</sup></td><td>0.699</td><td>0.470</td><td>0.729</td><td>0.711</td><td>0.476</td><td>0.731</td><td>0.718</td><td>0.655</td><td>0.750</td><td>0.724</td><td>0.655</td><td>0.758</td></tr><tr><td colspan=\"13\" style=\"border-bottom: 1px solid black\"></td></tr><tr><td style=\"text-align: left\">Note:</td>\n",
       " <td colspan=\"12\" style=\"text-align: right\">\n",
       "  <sup>*</sup>p&lt;0.1;\n",
       "  <sup>**</sup>p&lt;0.05;\n",
       "  <sup>***</sup>p&lt;0.01\n",
       " </td></tr><tr><td></td><td colspan=\"12\" style=\"text-align: right\">These are OLS regressions with one observation per country</td></tr><tr><td></td><td colspan=\"12\" style=\"text-align: right\">Standard errors robust against heteroscedasticity are in parentheses</td></tr><tr><td></td><td colspan=\"12\" style=\"text-align: right\">Dependent variable: log GDP per capita in 2005 </td></tr></table>"
      ],
      "text/plain": [
       "<stargazer.stargazer.Stargazer at 0x173f3681ca0>"
      ]
     },
     "execution_count": 7,
     "metadata": {},
     "output_type": "execute_result"
    }
   ],
   "source": [
    "get_table2(country_data)"
   ]
  },
  {
   "cell_type": "code",
   "execution_count": null,
   "id": "5daf319e-622a-4603-b3ec-b55c6b1df9ac",
   "metadata": {},
   "outputs": [],
   "source": []
  },
  {
   "cell_type": "code",
   "execution_count": null,
   "id": "21f17608-a4b2-436c-bbba-c753a37faaab",
   "metadata": {},
   "outputs": [],
   "source": []
  },
  {
   "cell_type": "code",
   "execution_count": null,
   "id": "f23433c6-9280-400f-b396-98922c6e1faa",
   "metadata": {},
   "outputs": [],
   "source": []
  }
 ],
 "metadata": {
  "kernelspec": {
   "display_name": "Python 3",
   "language": "python",
   "name": "python3"
  },
  "language_info": {
   "codemirror_mode": {
    "name": "ipython",
    "version": 3
   },
   "file_extension": ".py",
   "mimetype": "text/x-python",
   "name": "python",
   "nbconvert_exporter": "python",
   "pygments_lexer": "ipython3",
   "version": "3.8.5"
  }
 },
 "nbformat": 4,
 "nbformat_minor": 5
}
