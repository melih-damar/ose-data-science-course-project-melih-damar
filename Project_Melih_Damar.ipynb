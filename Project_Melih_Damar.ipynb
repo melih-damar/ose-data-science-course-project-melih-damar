{
 "cells": [
  {
   "cell_type": "markdown",
   "id": "ade82d2c-454e-4f47-be4e-aed303fc967b",
   "metadata": {},
   "source": [
    "Term paper for the course in Microeconometrics. Summer 2021, M.Sc. Economics, University of Bonn. Melih Damar\n",
    "\n",
    "---\n",
    "# Replication of Acemoglu et al.(2014): Institutions, Human Capital, and Development\n",
    "---\n"
   ]
  },
  {
   "cell_type": "markdown",
   "id": "61434f90-bc1d-46bf-8d8d-bcd7e7c0d215",
   "metadata": {},
   "source": [
    "This paper contains my replication of the following paper:\n",
    "  * [Acemoglu,D., Gallego,F.A., & Robinson, J.A.(2014). Institutions, Human Capital, and Development. *Annual Reviews of   Economics, 6*, 875-912.](https://doi.org/10.1146/annurev-economics-080213-041119)\n",
    "  \n",
    "#### Information about the organization of the paper\n",
    "* Throught the paper, I will be in line with the original structure of the paper in order for readers to compare the results with the original paper. I excluded the section called \"Comments on the Previous Literature\" All tables and figures will be labeled in accordence with the original paper.\n",
    "\n",
    "* All sections contining my independent contributions to the original paper will be labeled as *extentions*"
   ]
  },
  {
   "cell_type": "markdown",
   "id": "f9ad1094-fb4e-4ab3-8dc5-173bfa737d03",
   "metadata": {},
   "source": [
    "## Table of Content"
   ]
  },
  {
   "cell_type": "markdown",
   "id": "eb5a9be4-e612-45be-8120-3b899e3c80af",
   "metadata": {},
   "source": [
    "* [1. Introduction](#Introduction)<br>\n",
    "    * [1.1 Background](#background)<br>\n",
    "    * [1.2 This Article](#this_article)<br>\n",
    "* [2. Colonization and Human Capital](#colonization_and_human_capital)<br>\n",
    "* [3. Data and Descriptive Statistics](#data_and_descriptive_statistics)<br>\n",
    "    * [3.1 Cross-Country Data](#cross_country_data)<br>\n",
    "    * [3.2 Sources of Variation in Human Capital](#sources_of_variation_in_human_capital)<br>\n",
    "    * [3.3 Regional Data](#regional_data)<br>\n",
    "* [4. Cross-Country Evidence](#cross_country_evidence)<br>\n",
    "    * [4.1 Ordinary Least Squares Regressions](#ordinary_least_squares_regressions)<br>  \n",
    "    * [4.2 Semistructural Models](#semistructural_models)<br>  \n",
    "    * [4.3 Full Two-Stage Least Squares Models](#full_two-stage_least_squares_models)   \n",
    "    * [4.4 Full Two-Stage Least Squares Models](#does_human_capital_cause_institutions)\n",
    "* [5. Cross-Regional Evidence](#cross_regional_evidence)<br>\n",
    "    * [5.1 Ordinary Least Squares Regressions](#ordinary_least_squares_regressions2)<br>\n",
    "    * [5.2 Two-Stage Least Squares Models](#two_stage_least_squares_models)<br>\n",
    "* [6. Conclusion](#conclusion)<br>"
   ]
  },
  {
   "cell_type": "code",
   "execution_count": null,
   "id": "4b4dff75-b041-46be-b273-d2f4943e9117",
   "metadata": {},
   "outputs": [],
   "source": []
  },
  {
   "cell_type": "markdown",
   "id": "c5838cec-afae-4837-b344-4bdacce9ef08",
   "metadata": {},
   "source": [
    "---\n",
    "\n",
    "## 1. Introduction <a class=\"anchor\" id=\"Introduction\"></a>\n",
    "\n",
    "---"
   ]
  },
  {
   "cell_type": "markdown",
   "id": "6966044f-920d-47c1-b300-efde5f8619a5",
   "metadata": {},
   "source": [
    "### 1.1. Background <a class=\"anchor\" id=\"background\"></a>"
   ]
  },
  {
   "cell_type": "markdown",
   "id": "c2f4f9ac-66a0-422e-8754-8c8dec8cf26a",
   "metadata": {},
   "source": [
    "In this paper, the authors revisited the relationship between institutions, human capital and development since they think that taking human capital and instituions as an exogenous variables in emprical researches causes to estimate very large returns on human capital compered to the Mincerian estimates because of omitted variable bias problem and differantial measurement error in the variables. They take historicaly determined differences in human capital and the effect of institutions into account, they found a estimate for the returns of human capital consistent with Mincerian estimates by using cross-country and cross-regional regressions.\n",
    "\n",
    "North and Thomas(1973) lists innovation (TFP), education and capital accumulation as proximate determinants of economic growth when explaning why some countries are richer than others. The diagrams below shows the intiution behind this argument.\n",
    "<center>$ fundamental \\ determinants \\Longrightarrow\\ proximate\\ determinants\\Longrightarrow\\ economic\\ development$</center>\n",
    "More spesifically;\n",
    "<center>$Institutions \\Longrightarrow\\begin{array}\\\\ \n",
    "TFP\\\\\n",
    "human \\ capital\\\\\n",
    "physical \\ capital\n",
    "\\end{array}\n",
    "\\Bigg\\}\\Longrightarrow\\ Economic \\ Development $</center>\n",
    "\n",
    "The same logic also applies when fundamental determinant is culture or geography instead of institutions.\n",
    "\n",
    "One of the interesting question arising from this argument is why some countries have more innovation, human capital and capital accumulation than others.\n",
    "\n",
    "Even though institutions are always present in the economic theory, it is generally incleduded implicitly. Most of the early economic modes assumes a set of institutions such as property right of factors of production or ownershio of some assets in economics. However, the the effect of institutions on economic growth was left wasn't paid more attention to examine. However, it is difficult to build a model to obtain convincing result about the relationships of institutions with other economic variable as institutions are generally exogenous and they are mostly related with other factors which are affecting economic performance of a nation.\n",
    "\n",
    "Recently,there has been an attempt to find different methods to be able to control to pure effect of institutions which are treated as an exogenous variable. Acemoglu et al.(2001) used historically determined factors to obtain exogenous measure of institutions. They suggest that during colonization of New World, Europens brought different type of institutions from their countries based on certain characteristics of the colonized regions. At one extreme sitution, they form extractive institutions in such a way to transfer resources to Europe, which was the reason for the formation of economic institutions which led to the creation of rules enabling slavery, discrimation, monopolies and insecure property rights. Most of the African countries is an example for this type of institutions. At the other extreme situtation, European colonizers settled down to the colonized region and brought European institutions, which contibute more to sustainable economic development. The decision whether to settle down or not was based on the mortality rate of European settlers. If the mortality rate of settlers were high, they constituted more extractive institutions whereas they formed better institutions which were so similar to , even sometimes better than European laws in colonies where mortality rate is low enough to settle down. After the independence of the old colonies, these institutions persisted to exist. Therefore, Acemoglu et al.(2001) argued that the mortality rate of early European colonizers can be used as an instrumental variable for the current institutions of the countries beacuse the mortality rate was determined exogonously and randomly which has no direct effect on current development sitution of a country. The following diagram can show this relations;\n",
    "\n",
    "<center>$ Potential \\ mortality \\ rate \\ of \\ European\\ settlers\\Longrightarrow\\ Settlements \\Longrightarrow\\ Past \\ institutions \\Longrightarrow\\ Current \\ institutions $</center> \n",
    "    \n",
    "   \n",
    "Acemoglu et al.(2001) used two-stage least squares (2SLS) regression model where log GDP per capita 2005 was the dependent variable and protection against the risk of expropriation, as a measure of current instutions, was the main explanatory variable instrumented by logarithm of settlers mortality rate. Even further, Acemoglu et al.(2012) used capped potential settler mortality rate as an alternative instrumental variable. The results demonstrate that instutions have a large effect on long-run economic development of a country with both of the formulation of instrumental variable, accounting 75% of difference between high and low institutions countries. Moreover, these results were robust to controlling various geographical characteristics of a country that could be correlated with the economic development. The authors didn't control for the proximate determinants of economic development in the framework defined by North&Thomas(1973) as the channel instutions affect economic growth of a country is the proximate determinants and controlling for them would lead to a \"bad control\" as Angrist & Pischke(2008) suggested.\n",
    "\n",
    "The framework suggested by Acemoglu(2001) was challenged by Glaeser et al.(2004) for putting institutions before human capital. They suggested that, on the contary to Acemoglu et al(2001), European settlers brought human capital and the places they brought more human capital constitute more organized and better societies which enabled them to experience economic developmnet."
   ]
  }
 ],
 "metadata": {
  "kernelspec": {
   "display_name": "Python 3",
   "language": "python",
   "name": "python3"
  },
  "language_info": {
   "codemirror_mode": {
    "name": "ipython",
    "version": 3
   },
   "file_extension": ".py",
   "mimetype": "text/x-python",
   "name": "python",
   "nbconvert_exporter": "python",
   "pygments_lexer": "ipython3",
   "version": "3.8.5"
  }
 },
 "nbformat": 4,
 "nbformat_minor": 5
}
