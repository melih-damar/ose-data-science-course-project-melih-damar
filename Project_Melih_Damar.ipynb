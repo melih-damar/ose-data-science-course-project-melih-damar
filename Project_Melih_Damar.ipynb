{
 "cells": [
  {
   "cell_type": "markdown",
   "id": "ade82d2c-454e-4f47-be4e-aed303fc967b",
   "metadata": {},
   "source": [
    "Term paper for the course in Microeconometrics. Summer 2021, M.Sc. Economics, University of Bonn. Melih Damar\n",
    "\n",
    "---\n",
    "# Replication of Acemoglu et al.(2014): Institutions, Human Capital, and Development\n",
    "---\n"
   ]
  },
  {
   "cell_type": "markdown",
   "id": "61434f90-bc1d-46bf-8d8d-bcd7e7c0d215",
   "metadata": {},
   "source": [
    "This paper contains my replication of the following paper:\n",
    "  * [Acemoglu,D., Gallego,F.A., & Robinson, J.A.(2014). Institutions, Human Capital, and Development. *Annual Reviews of   Economics, 6*, 875-912.](https://doi.org/10.1146/annurev-economics-080213-041119)\n",
    "  \n",
    "#### Information about the organization of the paper\n",
    "* Throught the paper, I will be in line with the original structure of the paper in order for readers to compare the results with the original paper. I excluded the section called \"Comments on the Previous Literature\" All tables and figures will be labeled in accordence with the original paper.\n",
    "\n",
    "* All sections contining my independent contributions to the original paper will be labeled as *extentions*"
   ]
  },
  {
   "cell_type": "markdown",
   "id": "f9ad1094-fb4e-4ab3-8dc5-173bfa737d03",
   "metadata": {},
   "source": [
    "## Table of Content"
   ]
  },
  {
   "cell_type": "markdown",
   "id": "eb5a9be4-e612-45be-8120-3b899e3c80af",
   "metadata": {},
   "source": [
    "* [1. Introduction](#Introduction)<br>\n",
    "    * [1.1 Background](#background)<br>\n",
    "    * [1.2 This Article](#this_article)<br>\n",
    "* [2. Colonization and Human Capital](#colonization_and_human_capital)<br>\n",
    "* [3. Data and Descriptive Statistics](#data_and_descriptive_statistics)<br>\n",
    "    * [3.1 Cross-Country Data](#cross_country_data)<br>\n",
    "    * [3.2 Sources of Variation in Human Capital](#sources_of_variation_in_human_capital)<br>\n",
    "    * [3.3 Regional Data](#regional_data)<br>\n",
    "* [4. Cross-Country Evidence](#cross_country_evidence)<br>\n",
    "    * [4.1 Ordinary Least Squares Regressions](#ordinary_least_squares_regressions)<br>  \n",
    "    * [4.2 Semistructural Models](#semistructural_models)<br>  \n",
    "    * [4.3 Full Two-Stage Least Squares Models](#full_two-stage_least_squares_models)   \n",
    "    * [4.4 Full Two-Stage Least Squares Models](#does_human_capital_cause_institutions)\n",
    "* [5. Cross-Regional Evidence](#cross_regional_evidence)<br>\n",
    "    * [5.1 Ordinary Least Squares Regressions](#ordinary_least_squares_regressions2)<br>\n",
    "    * [5.2 Two-Stage Least Squares Models](#two_stage_least_squares_models)<br>\n",
    "* [6. Conclusion](#conclusion)<br>"
   ]
  },
  {
   "cell_type": "code",
   "execution_count": null,
   "id": "5470fcba-3768-4fcb-b010-647b8e975431",
   "metadata": {},
   "outputs": [],
   "source": [
    "pip install linearmodels"
   ]
  },
  {
   "cell_type": "code",
   "execution_count": 13,
   "id": "4b4dff75-b041-46be-b273-d2f4943e9117",
   "metadata": {
    "tags": []
   },
   "outputs": [],
   "source": [
    "import pandas as pd\n",
    "import numpy as np\n",
    "import statsmodels.formula.api as smf\n",
    "from stargazer.stargazer import Stargazer\n",
    "from IPython.core.display import HTML\n",
    "from statsmodels.iolib import summary2\n",
    "from statsmodels.iolib import summary\n",
    "from linearmodels import IV2SLS \n",
    "from linearmodels import IVLIML\n",
    "\n",
    "from auxiliary.project_auxiliary_table import *\n",
    "from auxiliary.project_auxiliary_plot import *\n"
   ]
  },
  {
   "cell_type": "markdown",
   "id": "c5838cec-afae-4837-b344-4bdacce9ef08",
   "metadata": {
    "tags": []
   },
   "source": [
    "---\n",
    "\n",
    "## 1. Introduction <a class=\"anchor\" id=\"Introduction\"></a>\n",
    "\n",
    "---"
   ]
  },
  {
   "cell_type": "markdown",
   "id": "6966044f-920d-47c1-b300-efde5f8619a5",
   "metadata": {},
   "source": [
    "### 1.1. Background <a class=\"anchor\" id=\"background\"></a>"
   ]
  },
  {
   "cell_type": "markdown",
   "id": "c2f4f9ac-66a0-422e-8754-8c8dec8cf26a",
   "metadata": {
    "tags": []
   },
   "source": [
    "In this paper, the authors revisited the relationship between institutions, human capital and development since they think that taking human capital and instituions as an exogenous variables in emprical researches causes to estimate very large returns on human capital compered to the Mincerian estimates because of omitted variable bias problem and differantial measurement error in the variables. They take historicaly determined differences in human capital and the effect of institutions into account, they found a estimate for the returns of human capital consistent with Mincerian estimates by using cross-country and cross-regional regressions. The casual \n",
    "\n",
    "North and Thomas(1973) lists innovation (TFP), education and capital accumulation as proximate determinants of economic growth when explaning why some countries are richer than others. The diagrams below shows the intiution behind this argument.\n",
    "<center>$ fundamental \\ determinants \\Longrightarrow\\ proximate\\ determinants\\Longrightarrow\\ economic\\ development$</center>\n",
    "More spesifically;\n",
    "<center>$Institutions \\Longrightarrow\\begin{array}\\\\ \n",
    "TFP\\\\\n",
    "human \\ capital\\\\\n",
    "physical \\ capital\n",
    "\\end{array}\n",
    "\\Bigg\\}\\Longrightarrow\\ Economic \\ Development $</center>\n",
    "\n",
    "The same logic also applies when fundamental determinant is culture or geography instead of institutions.\n",
    "\n",
    "One of the interesting question arising from this argument is why some countries have more innovation, human capital and capital accumulation than others.\n",
    "\n",
    "Even though institutions are always present in the economic theory, it is generally incleduded implicitly. Most of the early economic modes assumes a set of institutions such as property right of factors of production or ownershio of some assets in economics. However, the the effect of institutions on economic growth was left wasn't paid more attention to examine. However, it is difficult to build a model to obtain convincing result about the relationships of institutions with other economic variable as institutions are generally exogenous and they are mostly related with other factors which are affecting economic performance of a nation.\n",
    "\n",
    "Recently,there has been an attempt to find different methods to be able to control to pure effect of institutions which are treated as an exogenous variable. Acemoglu et al.(2001) used historically determined factors to obtain exogenous measure of institutions. They suggest that during colonization of New World, Europens brought different type of institutions from their countries based on certain characteristics of the colonized regions. At one extreme sitution, they form extractive institutions in such a way to transfer resources to Europe, which was the reason for the formation of economic institutions which led to the creation of rules enabling slavery, discrimation, monopolies and insecure property rights. Most of the African countries is an example for this type of institutions. At the other extreme situtation, European colonizers settled down to the colonized region and brought European institutions, which contibute more to sustainable economic development. The decision whether to settle down or not was based on the mortality rate of European settlers. If the mortality rate of settlers were high, they constituted more extractive institutions whereas they formed better institutions which were so similar to , even sometimes better than European laws in colonies where mortality rate is low enough to settle down. After the independence of the old colonies, these institutions persisted to exist. Therefore, Acemoglu et al.(2001) argued that the mortality rate of early European colonizers can be used as an instrumental variable for the current institutions of the countries beacuse the mortality rate was determined exogonously and randomly which has no direct effect on current development sitution of a country. The following diagram can show this relations;\n",
    "\n",
    "<center>$ Potential \\ mortality \\ rate \\ of \\ European\\ settlers\\Longrightarrow\\ Settlements \\Longrightarrow\\ Past \\ institutions \\Longrightarrow\\ Current \\ institutions $</center> \n",
    "    \n",
    "   \n",
    "Acemoglu et al.(2001) used two-stage least squares (2SLS) regression model where log GDP per capita 2005 was the dependent variable and protection against the risk of expropriation, as a measure of current instutions, was the main explanatory variable instrumented by logarithm of settlers mortality rate. Even further, Acemoglu et al.(2012) used capped potential settler mortality rate as an alternative instrumental variable. The results demonstrate that instutions have a large effect on long-run economic development of a country with both of the formulation of instrumental variable, accounting 75% of difference between high and low institutions countries. Moreover, these results were robust to controlling various geographical characteristics of a country that could be correlated with the economic development. The authors didn't control for the proximate determinants of economic development in the framework defined by North&Thomas(1973) as the channel instutions affect economic growth of a country is the proximate determinants and controlling for them would lead to a \"bad control\" as Angrist & Pischke(2008) suggested.\n",
    "\n",
    "The framework suggested by Acemoglu(2001) was challenged by Glaeser et al.(2004) for putting institutions before human capital. They suggested that, on the contary to Acemoglu et al(2001), European settlers brought human capital and the places they brought more human capital constitute more organized and better societies which enabled them to experience economic developmnet."
   ]
  },
  {
   "cell_type": "markdown",
   "id": "96b069a0-65b1-4283-a087-0fed569d4b99",
   "metadata": {},
   "source": [
    "### 1.2. This Article <a class=\"anchor\" id=\"this_article\"></a>      "
   ]
  },
  {
   "cell_type": "markdown",
   "id": "71a6f0c2-5b65-4838-86ce-4546569394d5",
   "metadata": {},
   "source": [
    "In this article, Acemoglu et al.(2001) has there main contribution in terms of evaluating the the impact of human capital and institutions on the economic performance of a country. The first main contribution is to give a brief historical explanation about the human capital European colonizers brought to their colonies in order to show that, on the contray to what Glaeser et al.(2004) suppose, more human capital was brouught to the extractive colonies than inclusive colonies, which means the main reason for the differences in economic development of early colonized countries is not the human capital they brought rather the institutions which supports mass schooling. \n",
    "\n",
    "The second main contribution of this paper is that when they treat human capital as an exogenous variable or instrument with early Protestant missionary activities, the estimate is 25-35%, which is similar to the results of Glaeser et al.(2004) whereas when they control the human capital and historical determinants of institutions or simultaneously treat them as endogenous variables the impact of human capital on economic development is estimated closer to Mincerian evidence (contribution of one more year of schooling on individual earnings) as 6-10%, which is less than what Galeaser et. al.(2004) estimated. The authours suggested that the main reason why these two numbers are different is omitted variables whose effect is captured by human capital and they think that it is institutions. This results suggest that instituions have effect on long-run development through human capital channel.\n",
    "\n",
    "The third contribution is that they investigated the effect of human capital on long-run development by using a cross-regional data and they concluded that the huge inequalities between region is correlated with the educational background of the inhabitants of the regions. They found the results similar to the second contribution when they treat the human capital seperately as an exogenous variable and endogonous variable instrumented with Protestant missionary activities. \n",
    "\n",
    "To conclude, Acemoglu et al.(2014) suggested that human capital is one of the channel institutions has an effect on economic development once historically instrumental differences are controlled with a plausible rate implied by Mincerian evidence."
   ]
  },
  {
   "cell_type": "markdown",
   "id": "34a9202c-b013-42cd-b8cf-34bf9d94f628",
   "metadata": {},
   "source": [
    "### 2. Colonization and Human Capital <a class=\"anchor\" id=\"colonization_and_human_capital\"></a>   "
   ]
  },
  {
   "cell_type": "markdown",
   "id": "62b723ff-0430-4f1a-b870-5e035bbc4dd9",
   "metadata": {},
   "source": [
    "Colonization of New World with Europens created not only different types of institutions in colonized countries but also variation in human capital brought by early colonizers. Glaeser et al.(2004) argued that the variation in economic developments of former colonies of European countries was created by the difference in human capital they brought not the instutitons. However, historical evidences suggest that the conquistadors who colonized South America was more educated than the ones who colonized the North America, which is the opposite of what Glaeser et al.(2004) suggested. Based on the work of Avellaneda(1995), average literacy of the conquistadors in five different expeditions to South America was 78.7%. The main reasons were that early colonizers of South America came from urban areas in Spain and they were mostly second or thirs sons of nobles who could not inherit any land under Spanish law.\n",
    "\n",
    "Even though they were highly educated people amoong the early colonizers of North America, they consitute the small portion of people who migrated the North America. Grubb(1990) exploited the jury list to come up with a literacy rate and the figures suggest that the literacy rate of colonizers of North America in Virginia was 54% in the 1600s.\n",
    "\n",
    "When we looked at the literacy and education level in nineteenth century, North America was better than South America. However, this doesn't has nothing to do with the level of human capital they brough when they first settled down. Instead, it has everything to do with the institution they created, which increased the investment in human capital and school construction.\n",
    "To sum up, historical evidences don't provide support to the idea that the differences in countries' economic development level is because of the variation in human capital they brought when they first settled rather than institutions they formed. "
   ]
  },
  {
   "cell_type": "markdown",
   "id": "3b464b58-e10a-4a84-8d63-b1eddd5f1a1b",
   "metadata": {},
   "source": [
    "### Extension | Identification <a class=\"anchor\" id=\"identification\"></a>   "
   ]
  },
  {
   "cell_type": "markdown",
   "id": "54f83ec1-ad75-4da8-ad84-ff956a7f8a83",
   "metadata": {},
   "source": [
    "In this paper, the purpose of Acemoglu et al.(2001) is to investigate the relationship between human capital, institutions and economic prosperity of a country as previous literature which treat both institutions and human capital as exogenous suggest a higher return of human capital on development than Mincerian estimates. The authors beleive that the literature suffers from omitted variable bias problems and differential measurement error in these variables. To eliminate this problem, the authors instrumented human capital with historically determined variables and controled for the effect of institutions on human capital.\n",
    "\n",
    "The casual graph below illustrates the relationship between main variables suggested by Acemoglu et al.(2001). While the main determinants of log GDP per capita is institutions and human capital, institutions have effect on the path of human capital development of a country through supporting mass schooling policies. For instance, the reason why the US has more educated population than Mexico or Peru is not beause of human capital brought by early colonizer, rather, it is because of the instutitons they brought. Moreover, population density in 1500 and early settlers mortality rate affect log GDP per capita not directly but through institutions while Prostestant missionaries in the early 20th century and primary enrollment rate in 1900 has an impact on log GDP per capita through human capital. Thus, as it can be seen from the casual graph, there is a back-door path which needs to closed to see the true effect of human capital on economic prosperity. Moreover, we can not condition on human capital to see the true effect of institutions on log GDP per capita because human capital is descendent of institutions. Also, as current institutions is an endogenous variable in the economic development process of a country, in other word, institutions can be coorelated with some unobservable error term $(U_{1})$, Acemoglu et al.(2001) implement instrumental variable approach to isolate exogenous part of institutions by using historically determined variation. The same logic also applies to human capital variable. \n",
    "\n",
    "<span style=\"color:red\">![**ERROR**: Here there should be casual graph](files\\casual_graph.png)</span>\n"
   ]
  },
  {
   "cell_type": "markdown",
   "id": "84a1f7c7-d216-4e04-bf14-c21ce915c37e",
   "metadata": {},
   "source": [
    "### 3. Data and Descriptive Statistics<a class=\"anchor\" id=\"data_and_descriptive_statistics\"></a>   "
   ]
  },
  {
   "cell_type": "markdown",
   "id": "dc9dc5d9-f42f-418c-a6fa-06b3695beec3",
   "metadata": {},
   "source": [
    "The authors utilized two different data sets. The first data consists of information for 62 countries which were once colonized. The second data includes informations for 684 regions in 48 different former colonies. **[Table 1](#table_1)** shows description statistics for each data sets."
   ]
  },
  {
   "cell_type": "markdown",
   "id": "4a1d4bbd-13ac-4566-a4cd-9561ecee248a",
   "metadata": {},
   "source": [
    "##### 3.1 Cross-Country Data<a class=\"anchor\" id=\"cross_country_data\"></a>   "
   ]
  },
  {
   "cell_type": "markdown",
   "id": "e9352a44-23d9-4e30-be94-9282cb6cefae",
   "metadata": {},
   "source": [
    "The main dependent variable is the log GDP per capita( purchasing power parity basis) in 2005. The log GDP per capita of an average country in the cross-country sample is 8.29. The same variable for an average region is so similar, 8,35. Average years of schooling of the population above age 15 in 2005 is used as the main indicator of current educational attainment for cross-country analyis. The average value of current educational attainment variable is 6 years. The main measure for current instutional level of a country is rule of law index for 2005. Rule of law index measures the extent to which countries comply with the rule of law in practive. It has 8 categories; limited government powers, absence of corruptioni, order and security, fundamental rights, open government, regulatory enforcement, civil justice, and criminal justice. The index varies between -2,5 (weak adherence to rule of law) and 2,5 (strong adherence to rule of law). The average value for cross country sample is -0.32. As intrumental varibles, the authors use the log of potential settler mortality(capped at a maximum level of 250) and the lof population density in 1500."
   ]
  },
  {
   "cell_type": "markdown",
   "id": "b04bbfe0-9833-46e2-a156-0632e8411611",
   "metadata": {},
   "source": [
    "##### Table 1: Summary Statistics<a class=\"anchor\" id=\"table_1\"></a>   "
   ]
  },
  {
   "cell_type": "code",
   "execution_count": 2,
   "id": "646fe446-6c8d-4d77-a190-f89b06b6791b",
   "metadata": {},
   "outputs": [
    {
     "data": {
      "text/html": [
       "<div>\n",
       "<style scoped>\n",
       "    .dataframe tbody tr th:only-of-type {\n",
       "        vertical-align: middle;\n",
       "    }\n",
       "\n",
       "    .dataframe tbody tr th {\n",
       "        vertical-align: top;\n",
       "    }\n",
       "\n",
       "    .dataframe thead th {\n",
       "        text-align: right;\n",
       "    }\n",
       "</style>\n",
       "<table border=\"1\" class=\"dataframe\">\n",
       "  <thead>\n",
       "    <tr style=\"text-align: right;\">\n",
       "      <th></th>\n",
       "      <th></th>\n",
       "      <th>Observations</th>\n",
       "      <th>Mean</th>\n",
       "      <th>SD</th>\n",
       "    </tr>\n",
       "  </thead>\n",
       "  <tbody>\n",
       "    <tr>\n",
       "      <th rowspan=\"14\" valign=\"top\">Cross-country sample</th>\n",
       "      <th>Log GDP per capita</th>\n",
       "      <td>62.0</td>\n",
       "      <td>8.291009</td>\n",
       "      <td>1.213168</td>\n",
       "    </tr>\n",
       "    <tr>\n",
       "      <th>Years of schooling</th>\n",
       "      <td>62.0</td>\n",
       "      <td>6.179061</td>\n",
       "      <td>2.878306</td>\n",
       "    </tr>\n",
       "    <tr>\n",
       "      <th>Rule of law</th>\n",
       "      <td>62.0</td>\n",
       "      <td>-0.326935</td>\n",
       "      <td>0.895110</td>\n",
       "    </tr>\n",
       "    <tr>\n",
       "      <th>Primary school enrollment 1900</th>\n",
       "      <td>62.0</td>\n",
       "      <td>16.664515</td>\n",
       "      <td>23.046547</td>\n",
       "    </tr>\n",
       "    <tr>\n",
       "      <th>Protestant missionaries in the early twentieth century</th>\n",
       "      <td>62.0</td>\n",
       "      <td>0.457945</td>\n",
       "      <td>0.547192</td>\n",
       "    </tr>\n",
       "    <tr>\n",
       "      <th>Log capped potential settler mortality</th>\n",
       "      <td>62.0</td>\n",
       "      <td>4.444997</td>\n",
       "      <td>0.960907</td>\n",
       "    </tr>\n",
       "    <tr>\n",
       "      <th>Log population density 1500</th>\n",
       "      <td>62.0</td>\n",
       "      <td>0.545168</td>\n",
       "      <td>1.727288</td>\n",
       "    </tr>\n",
       "    <tr>\n",
       "      <th>Dummy for different source of Protestant missions</th>\n",
       "      <td>62.0</td>\n",
       "      <td>0.096774</td>\n",
       "      <td>0.298063</td>\n",
       "    </tr>\n",
       "    <tr>\n",
       "      <th>Latitude</th>\n",
       "      <td>62.0</td>\n",
       "      <td>0.180646</td>\n",
       "      <td>0.134148</td>\n",
       "    </tr>\n",
       "    <tr>\n",
       "      <th>British colony</th>\n",
       "      <td>62.0</td>\n",
       "      <td>0.387097</td>\n",
       "      <td>0.491062</td>\n",
       "    </tr>\n",
       "    <tr>\n",
       "      <th>French colony</th>\n",
       "      <td>62.0</td>\n",
       "      <td>0.241935</td>\n",
       "      <td>0.431751</td>\n",
       "    </tr>\n",
       "    <tr>\n",
       "      <th>Africa</th>\n",
       "      <td>62.0</td>\n",
       "      <td>0.419355</td>\n",
       "      <td>0.497482</td>\n",
       "    </tr>\n",
       "    <tr>\n",
       "      <th>Asia</th>\n",
       "      <td>62.0</td>\n",
       "      <td>0.145161</td>\n",
       "      <td>0.355139</td>\n",
       "    </tr>\n",
       "    <tr>\n",
       "      <th>America</th>\n",
       "      <td>62.0</td>\n",
       "      <td>0.387097</td>\n",
       "      <td>0.491062</td>\n",
       "    </tr>\n",
       "    <tr>\n",
       "      <th rowspan=\"8\" valign=\"top\">Cross-region sample</th>\n",
       "      <th>Log GDP per capita</th>\n",
       "      <td>684.0</td>\n",
       "      <td>8.358535</td>\n",
       "      <td>1.212870</td>\n",
       "    </tr>\n",
       "    <tr>\n",
       "      <th>Years of schooling</th>\n",
       "      <td>684.0</td>\n",
       "      <td>5.683356</td>\n",
       "      <td>3.052703</td>\n",
       "    </tr>\n",
       "    <tr>\n",
       "      <th>Temperature</th>\n",
       "      <td>684.0</td>\n",
       "      <td>21.436157</td>\n",
       "      <td>5.794331</td>\n",
       "    </tr>\n",
       "    <tr>\n",
       "      <th>Inverse distance to coast</th>\n",
       "      <td>684.0</td>\n",
       "      <td>0.857595</td>\n",
       "      <td>0.136601</td>\n",
       "    </tr>\n",
       "    <tr>\n",
       "      <th>Landlocked region</th>\n",
       "      <td>684.0</td>\n",
       "      <td>0.519006</td>\n",
       "      <td>0.500003</td>\n",
       "    </tr>\n",
       "    <tr>\n",
       "      <th>Presence of Protestant missionaries in early twentieth century</th>\n",
       "      <td>684.0</td>\n",
       "      <td>0.526316</td>\n",
       "      <td>0.499672</td>\n",
       "    </tr>\n",
       "    <tr>\n",
       "      <th>Capital city</th>\n",
       "      <td>684.0</td>\n",
       "      <td>0.074561</td>\n",
       "      <td>0.262874</td>\n",
       "    </tr>\n",
       "    <tr>\n",
       "      <th>Log population density before colonization</th>\n",
       "      <td>642.0</td>\n",
       "      <td>0.866954</td>\n",
       "      <td>2.385784</td>\n",
       "    </tr>\n",
       "  </tbody>\n",
       "</table>\n",
       "</div>"
      ],
      "text/plain": [
       "                                                                         Observations  \\\n",
       "Cross-country sample Log GDP per capita                                          62.0   \n",
       "                     Years of schooling                                          62.0   \n",
       "                     Rule of law                                                 62.0   \n",
       "                     Primary school enrollment 1900                              62.0   \n",
       "                     Protestant missionaries in the early twentieth ...          62.0   \n",
       "                     Log capped potential settler mortality                      62.0   \n",
       "                     Log population density 1500                                 62.0   \n",
       "                     Dummy for different source of Protestant missions           62.0   \n",
       "                     Latitude                                                    62.0   \n",
       "                     British colony                                              62.0   \n",
       "                     French colony                                               62.0   \n",
       "                     Africa                                                      62.0   \n",
       "                     Asia                                                        62.0   \n",
       "                     America                                                     62.0   \n",
       "Cross-region sample  Log GDP per capita                                         684.0   \n",
       "                     Years of schooling                                         684.0   \n",
       "                     Temperature                                                684.0   \n",
       "                     Inverse distance to coast                                  684.0   \n",
       "                     Landlocked region                                          684.0   \n",
       "                     Presence of Protestant missionaries in early tw...         684.0   \n",
       "                     Capital city                                               684.0   \n",
       "                     Log population density before colonization                 642.0   \n",
       "\n",
       "                                                                              Mean  \\\n",
       "Cross-country sample Log GDP per capita                                   8.291009   \n",
       "                     Years of schooling                                   6.179061   \n",
       "                     Rule of law                                         -0.326935   \n",
       "                     Primary school enrollment 1900                      16.664515   \n",
       "                     Protestant missionaries in the early twentieth ...   0.457945   \n",
       "                     Log capped potential settler mortality               4.444997   \n",
       "                     Log population density 1500                          0.545168   \n",
       "                     Dummy for different source of Protestant missions    0.096774   \n",
       "                     Latitude                                             0.180646   \n",
       "                     British colony                                       0.387097   \n",
       "                     French colony                                        0.241935   \n",
       "                     Africa                                               0.419355   \n",
       "                     Asia                                                 0.145161   \n",
       "                     America                                              0.387097   \n",
       "Cross-region sample  Log GDP per capita                                   8.358535   \n",
       "                     Years of schooling                                   5.683356   \n",
       "                     Temperature                                         21.436157   \n",
       "                     Inverse distance to coast                            0.857595   \n",
       "                     Landlocked region                                    0.519006   \n",
       "                     Presence of Protestant missionaries in early tw...   0.526316   \n",
       "                     Capital city                                         0.074561   \n",
       "                     Log population density before colonization           0.866954   \n",
       "\n",
       "                                                                                SD  \n",
       "Cross-country sample Log GDP per capita                                   1.213168  \n",
       "                     Years of schooling                                   2.878306  \n",
       "                     Rule of law                                          0.895110  \n",
       "                     Primary school enrollment 1900                      23.046547  \n",
       "                     Protestant missionaries in the early twentieth ...   0.547192  \n",
       "                     Log capped potential settler mortality               0.960907  \n",
       "                     Log population density 1500                          1.727288  \n",
       "                     Dummy for different source of Protestant missions    0.298063  \n",
       "                     Latitude                                             0.134148  \n",
       "                     British colony                                       0.491062  \n",
       "                     French colony                                        0.431751  \n",
       "                     Africa                                               0.497482  \n",
       "                     Asia                                                 0.355139  \n",
       "                     America                                              0.491062  \n",
       "Cross-region sample  Log GDP per capita                                   1.212870  \n",
       "                     Years of schooling                                   3.052703  \n",
       "                     Temperature                                          5.794331  \n",
       "                     Inverse distance to coast                            0.136601  \n",
       "                     Landlocked region                                    0.500003  \n",
       "                     Presence of Protestant missionaries in early tw...   0.499672  \n",
       "                     Capital city                                         0.262874  \n",
       "                     Log population density before colonization           2.385784  "
      ]
     },
     "metadata": {},
     "output_type": "display_data"
    }
   ],
   "source": [
    "country_data=pd.read_stata(\"data/xcountry_data.dta\")\n",
    "region_data = pd.read_stata(\"data/xregion_data.dta\")\n",
    "table1=get_summary_statistics(country_data,region_data)\n",
    "display(table1)"
   ]
  },
  {
   "cell_type": "markdown",
   "id": "f9365fa2-5fe1-4b9a-ace8-43e62b9311ac",
   "metadata": {},
   "source": [
    "##### 3.2. Sources of Variation in Human Capital<a class=\"anchor\" id=\"sources_of_variation_in_human_capital\"></a>   "
   ]
  },
  {
   "cell_type": "markdown",
   "id": "1066a01e-db47-4354-9abf-062b6ef4451f",
   "metadata": {},
   "source": [
    "The authors' main source of potentially exogenous variation in human capital is Protestant missionary activities per 10.000 people in the early twentieth century. They use two different data. During all the analysis, a dummy variable will be added to indicate that a different source of information for Protestant missionary activities is used. One can argue that missionary activities are excludable from regressions of economic development for the following reason. First, the location of missionary activities was clearly chosen. Second, missionary activities in French and British colonies were different as well as across different continents. Third, missionary activity might have affected the evolution of some instutitons such as emergence of democracy or schooling system. Fourth, missionary activity might have influenced long-run development by affecting the current religious composition of the population. However, by controlling continent dummies , the identity of the colonial power and institutions, the allocatio of missionary activities across and within countries may be a candidate for insturmental variable for human capital. The average value of Protestant missionary activities per 10.000 people is  0.46.\n",
    "Another source of variation in human capital is primary school enrollment rates in 1900. Only one data set is utilized and for countries with missing values in the data set, enrollment rate of  0.6% is imputed by the authors. "
   ]
  },
  {
   "cell_type": "markdown",
   "id": "55ae458d-2ec1-4306-82dc-5dffcc8e3dc4",
   "metadata": {},
   "source": [
    "##### 3.3. Regional Data<a class=\"anchor\" id=\"regional_data\"></a>   "
   ]
  },
  {
   "cell_type": "markdown",
   "id": "fd7cb95e-0f09-4c0f-b359-0079483ea323",
   "metadata": {},
   "source": [
    "For regional data, the main dependent variable is again log GDP per capita. The average value for log GDP per capita for regions is 8.35. The main indicator of current education attatintment is again average years of schooling of the population above age 15 in 2005 and the average value is 5.7 years of schooling. The exogenous variable to explain the variation in average years of schooling today is again historical variation in Protestant missionaries. However, in this time, authors utilized the location of mission stations rather than the total number of missionaries normalized by population. A dummy variable is created to distinguish regions with and without Protestant missionaries.\n",
    "\n",
    "There were 4 main contrubitors for the location of missions station within the countries; climate and geograpy, path dependence in terms of previous missionary work, different strategies applied by Protestant missionaries when they face a group with competing religious, and possible interest in places with a large native population. As a result, the authors created dummy variables for whether the region was landlocked and distance to the sea ( proxies for transportations costs), climate conditions, and the capital of the country around 1920.\n",
    "\n",
    "Because there is not reliable measures of institutions within country, the authors focused on the returns to human capital using variation in the presence of Protestant missionaries. In robustness check, a proxy for the population density before colonization is used because it might have affected the regional path of instutitional development."
   ]
  },
  {
   "cell_type": "markdown",
   "id": "11f4e269-d972-4214-9cfb-68629fe53c36",
   "metadata": {},
   "source": [
    "### 4. Cross-Country Evidence<a class=\"anchor\" id=\"cross_country_evidence\"></a>   "
   ]
  },
  {
   "cell_type": "markdown",
   "id": "cdff0bdd-f292-4c5a-9d72-2120b4a0b935",
   "metadata": {},
   "source": [
    "In this section, the authors first show the correlation between human capital and instituions, and GDP per capita. The results suffer from omitted variable biases. Then, they present semistructural models in which one of the one of institutions and human capital are instrumented and various historical determinants were controlled to decresea the effect of omitted variable biases problem. The effect of human capital on current economic development is decreased. Finally, the authors present 2SLS and limited information maximum likelihood(LIML) models where both institutions and human capital are treated as endogenous. "
   ]
  },
  {
   "cell_type": "markdown",
   "id": "f3d54b05-3051-4a03-ab56-139b0d974576",
   "metadata": {},
   "source": [
    "##### 4.1 Ordinary Least Squares Regressions <a class=\"anchor\" id=\"ordinary_least_squares_regressions1\"></a>   "
   ]
  },
  {
   "cell_type": "markdown",
   "id": "e9077e44-a6ba-4e56-953a-ba160fa69df7",
   "metadata": {},
   "source": [
    "In **[Table 2](#table_2)**, various OLS regressions are run to present the correlation between economic development today (measured by GDP per capita in 2005) and measures of human capital and institutions. The sample consists of 62 former colonized countries for which there is data. Heteroscedasticity robust standard errors are shown in parantheses. In the first column, the results belong to the regression of years of schooling on log GDP per capita in 2005. The relationship between them is significant with a coefficient of 0.352. The coefficient is very large. **[Figure 1-A](#figure_1)** plots the log of GDP per capita in 2005 against years of schooling. The red line is the fitted values from column . Considering the fact that the coefficient of years of schooling should match with the coefficient estimated with Mincer equation (generally estimated to be between 0.06 and 0.10) with an elastic supply of capital, no externalities and no omitted variable bias, the huge difference between coefficients suggests that there are omitted variable bias as the huge human capital externalities weren't supported by existing literature. Column 2 shows the relationship between the rule of law and log GDP per capital. There is a strong correlation between them with a coefficient of 0.930. **[Figure 1-B](#figure_1)** plots the log of GDP per capita in 2005 against the rule of law index. The red line is the fitted values from column 2. Column 3 consists of the result of regression with years of schooling and the rule of law as explanatory variables. The coefficient of the rule of law significantly decreases whereas the effect of years of schooling slightly decreases, which is still relatively higher than Mincerian estimate.\n",
    "Other columns shows the result of regressions with different combination of control variables. The control variables are latitute( absolute value of distance from the country to the equator), dummy variables for the continent of Africa, America, Asia where Australasia is the omitted group, and dummies for British and French colonies where other European countries are omitted variables. The motivating reason why there are control variables for countries are that they may have had different institutions, human capital policies and different types of missionary activities. The control variables have a small impact on the result. Even though the column 12 includes all the control variables, there is small decrease in years of schooling.\n",
    "\n",
    "However, there are some potential problems in the results. The first reasons is the possible differential measurement error in human capital and institutions.Because human capital is partly determined by institutions and correlated with them (**[Figure 1- C](#figure_1)**), some of the effects of institutions on log GDP per capita will be loaded on to human capital, which means upward bias in the estimates of human capital and downward bias in the estimates of institutions. This problem can be corrected by including instrumental variable into our model. Second, there might be a reverse causality between human capital and log GDP per capita.Higher income might lead to higher schooling level.\n",
    "\n",
    "To sum up, even though there is a correlation between human capital and institutions, and economic development of a country, these cannot be seen as a casual relation beacuse of possible omitted variable problem."
   ]
  },
  {
   "cell_type": "markdown",
   "id": "495c3643-56be-4485-bd77-aebc994f5ee5",
   "metadata": {},
   "source": [
    "##### Table 2 Ordinary least squares (OLS) cross-country regressions<a class=\"anchor\" id=\"table_2\"></a>  "
   ]
  },
  {
   "cell_type": "code",
   "execution_count": 3,
   "id": "4bc509a6-da69-475c-8ff4-4694da70878a",
   "metadata": {},
   "outputs": [
    {
     "data": {
      "text/html": [
       "<table style=\"text-align:center\"><tr><td colspan=\"13\" style=\"border-bottom: 1px solid black\"></td></tr><tr><td style=\"text-align:left\"></td><td colspan=\"12\"><em>Dependent Variable: log GDP per capita </em></td></tr><tr><td style=\"text-align:left\"></td><tr><td style=\"text-align:left\"></td><td>(1)</td><td>(2)</td><td>(3)</td><td>(4)</td><td>(5)</td><td>(6)</td><td>(7)</td><td>(8)</td><td>(9)</td><td>(10)</td><td>(11)</td><td>(12)</td></tr><tr><td colspan=\"13\" style=\"border-bottom: 1px solid black\"></td></tr><tr><td style=\"text-align:left\">Years of schooling</td><td>0.352<sup>***</sup></td><td></td><td>0.287<sup>***</sup></td><td>0.332<sup>***</sup></td><td></td><td>0.286<sup>***</sup></td><td>0.304<sup>***</sup></td><td></td><td>0.229<sup>***</sup></td><td>0.322<sup>***</sup></td><td></td><td>0.248<sup>***</sup></td></tr><tr><td style=\"text-align:left\"></td><td>(0.028)</td><td></td><td>(0.037)</td><td>(0.036)</td><td></td><td>(0.038)</td><td>(0.055)</td><td></td><td>(0.058)</td><td>(0.058)</td><td></td><td>(0.061)</td></tr><tr><td style=\"text-align:left\">Rule of law</td><td></td><td>0.930<sup>***</sup></td><td>0.315<sup>**</sup></td><td></td><td>0.865<sup>***</sup></td><td>0.280<sup></sup></td><td></td><td>0.818<sup>***</sup></td><td>0.411<sup>*</sup></td><td></td><td>0.821<sup>***</sup></td><td>0.428<sup>**</sup></td></tr><tr><td style=\"text-align:left\"></td><td></td><td>(0.101)</td><td>(0.139)</td><td></td><td>(0.144)</td><td>(0.196)</td><td></td><td>(0.177)</td><td>(0.216)</td><td></td><td>(0.188)</td><td>(0.218)</td></tr><tr><td style=\"text-align:left\">Latitude</td><td></td><td></td><td></td><td>1.072<sup></sup></td><td>0.801<sup></sup></td><td>0.460<sup></sup></td><td>1.110<sup></sup></td><td>0.067<sup></sup></td><td>0.288<sup></sup></td><td>1.132<sup></sup></td><td>0.053<sup></sup></td><td>0.301<sup></sup></td></tr><tr><td style=\"text-align:left\"></td><td></td><td></td><td></td><td>(0.817)</td><td>(0.955)</td><td>(1.012)</td><td>(0.834)</td><td>(0.991)</td><td>(0.982)</td><td>(0.866)</td><td>(1.087)</td><td>(0.996)</td></tr><tr><td style=\"text-align:left\">Africa</td><td></td><td></td><td></td><td></td><td></td><td></td><td>-0.243<sup></sup></td><td>-0.726<sup>*</sup></td><td>0.005<sup></sup></td><td>-0.263<sup></sup></td><td>-0.736<sup>*</sup></td><td>-0.000<sup></sup></td></tr><tr><td style=\"text-align:left\"></td><td></td><td></td><td></td><td></td><td></td><td></td><td>(0.430)</td><td>(0.403)</td><td>(0.462)</td><td>(0.441)</td><td>(0.430)</td><td>(0.465)</td></tr><tr><td style=\"text-align:left\">America</td><td></td><td></td><td></td><td></td><td></td><td></td><td>0.015<sup></sup></td><td>0.437<sup></sup></td><td>0.456<sup></sup></td><td>-0.087<sup></sup></td><td>0.435<sup></sup></td><td>0.348<sup></sup></td></tr><tr><td style=\"text-align:left\"></td><td></td><td></td><td></td><td></td><td></td><td></td><td>(0.292)</td><td>(0.330)</td><td>(0.373)</td><td>(0.341)</td><td>(0.357)</td><td>(0.414)</td></tr><tr><td style=\"text-align:left\">Asia</td><td></td><td></td><td></td><td></td><td></td><td></td><td>0.055<sup></sup></td><td>-0.263<sup></sup></td><td>0.192<sup></sup></td><td>0.095<sup></sup></td><td>-0.266<sup></sup></td><td>0.249<sup></sup></td></tr><tr><td style=\"text-align:left\"></td><td></td><td></td><td></td><td></td><td></td><td></td><td>(0.529)</td><td>(0.403)</td><td>(0.481)</td><td>(0.533)</td><td>(0.418)</td><td>(0.486)</td></tr><tr><td style=\"text-align:left\">British colony</td><td></td><td></td><td></td><td></td><td></td><td></td><td></td><td></td><td></td><td>-0.216<sup></sup></td><td>-0.004<sup></sup></td><td>-0.269<sup></sup></td></tr><tr><td style=\"text-align:left\"></td><td></td><td></td><td></td><td></td><td></td><td></td><td></td><td></td><td></td><td>(0.283)</td><td>(0.297)</td><td>(0.279)</td></tr><tr><td style=\"text-align:left\">French Colony</td><td></td><td></td><td></td><td></td><td></td><td></td><td></td><td></td><td></td><td>0.042<sup></sup></td><td>0.021<sup></sup></td><td>0.024<sup></sup></td></tr><tr><td style=\"text-align:left\"></td><td></td><td></td><td></td><td></td><td></td><td></td><td></td><td></td><td></td><td>(0.335)</td><td>(0.399)</td><td>(0.327)</td></tr><td colspan=\"13\" style=\"border-bottom: 1px solid black\"></td></tr><tr><td style=\"text-align: left\">Observations</td><td>62</td><td>62</td><td>62</td><td>62</td><td>62</td><td>62</td><td>62</td><td>62</td><td>62</td><td>62</td><td>62</td><td>62</td></tr><tr><td style=\"text-align: left\">R<sup>2</sup></td><td>0.699</td><td>0.470</td><td>0.729</td><td>0.711</td><td>0.476</td><td>0.731</td><td>0.718</td><td>0.655</td><td>0.750</td><td>0.724</td><td>0.655</td><td>0.758</td></tr><tr><td colspan=\"13\" style=\"border-bottom: 1px solid black\"></td></tr><tr><td style=\"text-align: left\">Note:</td>\n",
       " <td colspan=\"12\" style=\"text-align: right\">\n",
       "  <sup>*</sup>p&lt;0.1;\n",
       "  <sup>**</sup>p&lt;0.05;\n",
       "  <sup>***</sup>p&lt;0.01\n",
       " </td></tr><tr><td></td><td colspan=\"12\" style=\"text-align: right\">These are OLS regressions with one observation per country</td></tr><tr><td></td><td colspan=\"12\" style=\"text-align: right\">Standard errors robust against heteroscedasticity are in parentheses</td></tr><tr><td></td><td colspan=\"12\" style=\"text-align: right\">Dependent variable: log GDP per capita in 2005 </td></tr></table>"
      ],
      "text/plain": [
       "<stargazer.stargazer.Stargazer at 0x2158841c7f0>"
      ]
     },
     "execution_count": 3,
     "metadata": {},
     "output_type": "execute_result"
    }
   ],
   "source": [
    "get_table2(country_data)"
   ]
  },
  {
   "cell_type": "markdown",
   "id": "f1573c81-bdf2-41fb-9dca-5ec1bb994efd",
   "metadata": {},
   "source": [
    "#### Extension | Figure 1 - The Relationship between log GDP per capita and Human capital and Institutions <a class=\"anchor\" id=\"figure_1\"></a> "
   ]
  },
  {
   "cell_type": "code",
   "execution_count": 4,
   "id": "21f17608-a4b2-436c-bbba-c753a37faaab",
   "metadata": {},
   "outputs": [
    {
     "data": {
      "image/png": "[encoded data removed]",
      "text/plain": [
       "<Figure size 1800x720 with 3 Axes>"
      ]
     },
     "metadata": {
      "needs_background": "light"
     },
     "output_type": "display_data"
    }
   ],
   "source": [
    "get_figure1(country_data)\n",
    "plt.show()"
   ]
  },
  {
   "cell_type": "markdown",
   "id": "abd2be35-3b20-488f-8644-6c9e07b2e56d",
   "metadata": {},
   "source": [
    "##### 4.2 Semistructural Models <a class=\"anchor\" id=\"semistructural_models\"></a>   "
   ]
  },
  {
   "cell_type": "markdown",
   "id": "74c8e42d-397b-4c15-96a5-da623c339854",
   "metadata": {},
   "source": [
    "In this section, the possible omitted variable bias problems in **[Table 2](#table_2)** is reduced by treating either institutions or human capital as endogenous in the following semistructural model while controlling for historical determinants of (potential instrument for) the other. These models are related to the full 2SLS models in which both institutions and human capital are treated as endogenous and instrumented with same variables. The semistructed model shown below reduces the omitted variable bias and yields a similar results to those in full 2SLS models.\n",
    "\n",
    "**[Table 3](#table_3)** shows the falsification exercise for the validity of Protestant missionary activity in the early twentieth century as a source of excludable variation in human capital. The first four column test the idea that most of the missionary activity took place at the beginning of the twentieth century and they shouldn't have had effect on education in the nineteenth century. The authors used a sample with 24 countries in which missionary activity started after 1870. As expected, the results show that there is no significant relation between Protestant missionary activity in the early twentieth century and primary enrollment rate in 1870 whether the same variables in **[Table 2](#table_2)** are controlled or not.\n",
    "\n",
    "In the next for columns(5-8), the correlation betweeen the fraction of population enrolled in primary school in 1940 ( which is after decades of Protestant missionary work) and Protestant missionary activity in the early twentieth century is shown by using the same sample of 24 countries. The coefficient of Protestant missionary activities in the early twentieth century significantly increases compared to the estimates in columns 1-4, showing stronger correlation between primary school enrollment in 1940 and Protestant missionary activities. In column 8 where latitude, colonizer identity and continent dummies are controlled, the coefficient of the Protestant missionary variable is significant at the 10% significance level. These results therefore suggest that stronger correlation between Protestant missionary activity and human capital emerged between 1870 and 1940.\n",
    "\n",
    "Finally, in the last columns (9-12), the results for the relationship between average years of schooling in 2005 (usual measure of human capital today) and Protestant missionary activity in the early twentieth century for the same sample of 24 countries. There is a strong effect of Protestant missionary actvity on human capital. Overall, the results in **[Table 3](#table_3)** support the key assumptions that Protestant missionaries in the early twentieth century did not differentially select into areas with higher human capital, but they did then impact human capital investments in the areas where they located.\n"
   ]
  },
  {
   "cell_type": "markdown",
   "id": "d3aa3c0b-9e65-4389-b55e-985bc46562da",
   "metadata": {},
   "source": [
    "##### Table 3 Falsification exercise, Protestant missionaries, cross-country sample <a class=\"anchor\" id=\"table_3\"></a>  "
   ]
  },
  {
   "cell_type": "code",
   "execution_count": 5,
   "id": "f3926a3f-e158-4ab8-b72f-aaec732fae98",
   "metadata": {},
   "outputs": [
    {
     "data": {
      "text/html": [
       "<table style=\"text-align:center\"><tr><td colspan=\"13\" style=\"border-bottom: 1px solid black\"></td></tr><tr><td style=\"text-align:left\"></td><tr><td></td><td colspan=\"4\">Dependent variable: Primary school enrollment in 1870</td><td colspan=\"4\">Dependent variable: Primary school enrollment in 1940</td><td colspan=\"4\">Dependent variable: years of schooling in 2005</td></tr><tr><td style=\"text-align:left\"></td><td>(1)</td><td>(2)</td><td>(3)</td><td>(4)</td><td>(5)</td><td>(6)</td><td>(7)</td><td>(8)</td><td>(9)</td><td>(10)</td><td>(11)</td><td>(12)</td></tr><tr><td colspan=\"13\" style=\"border-bottom: 1px solid black\"></td></tr><tr><td style=\"text-align:left\">Protestant missionaries in the early twentieth century</td><td>1.694<sup></sup></td><td>5.370<sup></sup></td><td>1.833<sup></sup></td><td>2.589<sup></sup></td><td>10.649<sup></sup></td><td>13.624<sup></sup></td><td>8.076<sup></sup></td><td>11.050<sup>*</sup></td><td>2.172<sup>*</sup></td><td>2.924<sup>**</sup></td><td>2.329<sup>***</sup></td><td>2.483<sup>***</sup></td></tr><tr><td style=\"text-align:left\"></td><td>(4.124)</td><td>(4.180)</td><td>(2.608)</td><td>(3.446)</td><td>(11.917)</td><td>(12.735)</td><td>(6.830)</td><td>(5.949)</td><td>(1.298)</td><td>(1.312)</td><td>(0.754)</td><td>(0.791)</td></tr><tr><td style=\"text-align:left\">Latitude</td><td></td><td>31.174<sup></sup></td><td>26.926<sup>*</sup></td><td>38.032<sup>**</sup></td><td></td><td>25.226<sup></sup></td><td>18.368<sup></sup></td><td>36.689<sup></sup></td><td></td><td>6.371<sup></sup></td><td>5.589<sup>*</sup></td><td>5.576<sup></sup></td></tr><tr><td style=\"text-align:left\"></td><td></td><td>(22.810)</td><td>(14.399)</td><td>(16.044)</td><td></td><td>(39.748)</td><td>(28.301)</td><td>(28.537)</td><td></td><td>(4.054)</td><td>(3.051)</td><td>(3.412)</td></tr><tr><td style=\"text-align:left\">Africa</td><td></td><td></td><td>0.649<sup></sup></td><td>-2.105<sup></sup></td><td></td><td></td><td>-5.781<sup></sup></td><td>-10.862<sup>***</sup></td><td></td><td></td><td>-2.262<sup>***</sup></td><td>-2.307<sup>***</sup></td></tr><tr><td style=\"text-align:left\"></td><td></td><td></td><td>(1.159)</td><td>(2.188)</td><td></td><td></td><td>(3.710)</td><td>(3.587)</td><td></td><td></td><td>(0.559)</td><td>(0.831)</td></tr><tr><td style=\"text-align:left\">America</td><td></td><td></td><td>13.623<sup>***</sup></td><td>7.524<sup>*</sup></td><td></td><td></td><td>17.991<sup>***</sup></td><td>13.184<sup>**</sup></td><td></td><td></td><td>1.112<sup>*</sup></td><td>1.589<sup></sup></td></tr><tr><td style=\"text-align:left\"></td><td></td><td></td><td>(2.860)</td><td>(3.894)</td><td></td><td></td><td>(4.279)</td><td>(5.327)</td><td></td><td></td><td>(0.631)</td><td>(1.115)</td></tr><tr><td style=\"text-align:left\">French Colony</td><td></td><td></td><td></td><td>-6.481<sup>*</sup></td><td></td><td></td><td></td><td>-4.122<sup></sup></td><td></td><td></td><td></td><td>0.596<sup></sup></td></tr><tr><td style=\"text-align:left\"></td><td></td><td></td><td></td><td>(3.568)</td><td></td><td></td><td></td><td>(5.079)</td><td></td><td></td><td></td><td>(0.848)</td></tr><tr><td style=\"text-align:left\">British colony</td><td></td><td></td><td></td><td>-1.602<sup></sup></td><td></td><td></td><td></td><td>13.413<sup></sup></td><td></td><td></td><td></td><td>1.440<sup></sup></td></tr><tr><td style=\"text-align:left\"></td><td></td><td></td><td></td><td>(3.077)</td><td></td><td></td><td></td><td>(12.801)</td><td></td><td></td><td></td><td>(0.937)</td></tr><td colspan=\"13\" style=\"border-bottom: 1px solid black\"></td></tr><tr><td style=\"text-align: left\">Observations</td><td>24</td><td>24</td><td>24</td><td>24</td><td>24</td><td>24</td><td>24</td><td>24</td><td>24</td><td>24</td><td>24</td><td>24</td></tr><tr><td style=\"text-align: left\">R<sup>2</sup></td><td>0.004</td><td>0.107</td><td>0.562</td><td>0.611</td><td>0.056</td><td>0.078</td><td>0.568</td><td>0.629</td><td>0.113</td><td>0.182</td><td>0.662</td><td>0.682</td></tr><tr><td colspan=\"13\" style=\"border-bottom: 1px solid black\"></td></tr><tr><td style=\"text-align: left\">Note:</td>\n",
       " <td colspan=\"12\" style=\"text-align: right\">\n",
       "  <sup>*</sup>p&lt;0.1;\n",
       "  <sup>**</sup>p&lt;0.05;\n",
       "  <sup>***</sup>p&lt;0.01\n",
       " </td></tr><tr><td></td><td colspan=\"12\" style=\"text-align: right\">These are OLS regressions with one observation per country</td></tr><tr><td></td><td colspan=\"12\" style=\"text-align: right\">Standard errors robust against heteroscedasticity are in parentheses</td></tr></table>"
      ],
      "text/plain": [
       "<stargazer.stargazer.Stargazer at 0x215886546a0>"
      ]
     },
     "execution_count": 5,
     "metadata": {},
     "output_type": "execute_result"
    }
   ],
   "source": [
    "get_table3(country_data)"
   ]
  },
  {
   "cell_type": "markdown",
   "id": "6c385af2-751a-4e12-83ac-dd53701ceff8",
   "metadata": {},
   "source": [
    "The results in **[Table 4](#table_4)** belong to models in which average years of schooling are treated as endogenous variable while there are two control variables for variables proposed as exogenous sources of variation in historical institutions: potential settler mortality and log population density in 1500. The table is different than the table presented in the original paper. There are some variable which are not included in this table like Anderson-Rubin confidence intervals,and F-statistic excluded instruments. In the first part of the table is the second stage of the two stage least square regression and the second part is the first stage of the regression. At the bottom, limited information maximum likelihood estimations results are presented. In the model, the instrumental variables for human capital today are Protestant missionary activity in the early twentieth centruy and primary school enrollment in 1900.\n",
    "\n",
    "Column 1-4 show the results of 2 stage least squares estimate where endogenous variable is years of schooling in 2005, dependent variable is log GDP per capita in 2005 and instrumental variables are primary enrollment in 1900 and Protestant missionary activities in early twentieth century together with some control and dummy variables. Column 1 includes the result from a regression which includes only average years of schooling and dummy variable for different sourcs of protestant missionary data in both first and second stage. It doesn't include any historically determinant variable. The results show a strong fist-stage relationship as instrumental varibles except dummies are statistically significant. Moreover, the F variable excluded instrument which are not shown in the tables is 26. In the second stage, there is again a strong relationshiop between average years of schooling and Log GDP per capita 2005 with a cofficient of 0.314 similar to OLS model in **[Table 2](#table_2)**. In column 2-4, the control variables as in **[Table 2](#table_2)** (latitude, continent and colonizer identity dummies) are added to the model. The addition of all control variables (column 4) yields smaller impact on the first and second stage with a coefficient estimate of 0.317 on the average years of schooling. As a result, if the estimates in columns 1-4 were the casual effect of human capital on log GDP per capital, the effect again would be significantly higher than the micro estimates, which might be because the models do not control for the effect of institutions even though they are instrumented with historical variation in human capital today. \n",
    "\n",
    "Column 1-5 show the estimates where institutions are controlled together with some additional control and dummy variables. In column 5, there is not any covariates. The model shows that the log of potential settler mortality is significant both in the first and in the second stage, whereas the log population density in 1500 is marginally significant in the second stage but not in the first stage. More importantly, the coefficient of the effect of average years of schooling on log GDP per capita today is smaller than columns 1-4,0.177, and only marginally significant. After addiction of usual control variables ( latitute, continent and colonizer identity dummies) in the following columns, the coefficient of the second-stage estimate remains similar or decreases a little. However, none of them statistically significant.\n",
    "\n",
    "In the last table (columns 9-12 in the original article), the same model in the columns 5-8 are estimated with LIML. Overall, the results are almost the same and close to micro evidence.\n",
    "\n",
    "To conclude, controlling for historically determinants of institutions directly and instrumenting for average years of schooling today with their historical determinants significantly decreases the estimates of the effect of human capital in GDP per capita today and brings these estimates close to micro estimates."
   ]
  },
  {
   "cell_type": "markdown",
   "id": "71e733ca-63f9-4571-9186-60c7f20920bc",
   "metadata": {},
   "source": [
    "##### Table 4 Semistructural regressions, years of schooling, cross-country sample <a class=\"anchor\" id=\"table_4\"></a>  "
   ]
  },
  {
   "cell_type": "code",
   "execution_count": 6,
   "id": "0e9a1cce-a5c8-4295-bd05-b20121f338ba",
   "metadata": {},
   "outputs": [
    {
     "name": "stderr",
     "output_type": "stream",
     "text": [
      "C:\\Users\\user\\anaconda3\\lib\\site-packages\\pandas\\core\\indexing.py:1597: SettingWithCopyWarning: \n",
      "A value is trying to be set on a copy of a slice from a DataFrame.\n",
      "Try using .loc[row_indexer,col_indexer] = value instead\n",
      "\n",
      "See the caveats in the documentation: https://pandas.pydata.org/pandas-docs/stable/user_guide/indexing.html#returning-a-view-versus-a-copy\n",
      "  self.obj[key] = value\n",
      "C:\\Users\\user\\anaconda3\\lib\\site-packages\\pandas\\core\\indexing.py:1720: SettingWithCopyWarning: \n",
      "A value is trying to be set on a copy of a slice from a DataFrame.\n",
      "Try using .loc[row_indexer,col_indexer] = value instead\n",
      "\n",
      "See the caveats in the documentation: https://pandas.pydata.org/pandas-docs/stable/user_guide/indexing.html#returning-a-view-versus-a-copy\n",
      "  self._setitem_single_column(loc, value, pi)\n",
      "C:\\Users\\user\\anaconda3\\lib\\site-packages\\pandas\\core\\indexing.py:1676: SettingWithCopyWarning: \n",
      "A value is trying to be set on a copy of a slice from a DataFrame.\n",
      "Try using .loc[row_indexer,col_indexer] = value instead\n",
      "\n",
      "See the caveats in the documentation: https://pandas.pydata.org/pandas-docs/stable/user_guide/indexing.html#returning-a-view-versus-a-copy\n",
      "  self._setitem_single_column(ilocs[0], value, pi)\n",
      "C:\\Users\\user\\anaconda3\\lib\\site-packages\\pandas\\core\\indexing.py:1720: SettingWithCopyWarning: \n",
      "A value is trying to be set on a copy of a slice from a DataFrame.\n",
      "Try using .loc[row_indexer,col_indexer] = value instead\n",
      "\n",
      "See the caveats in the documentation: https://pandas.pydata.org/pandas-docs/stable/user_guide/indexing.html#returning-a-view-versus-a-copy\n",
      "  self._setitem_single_column(loc, value, pi)\n",
      "C:\\Users\\user\\anaconda3\\lib\\site-packages\\pandas\\core\\indexing.py:1597: SettingWithCopyWarning: \n",
      "A value is trying to be set on a copy of a slice from a DataFrame.\n",
      "Try using .loc[row_indexer,col_indexer] = value instead\n",
      "\n",
      "See the caveats in the documentation: https://pandas.pydata.org/pandas-docs/stable/user_guide/indexing.html#returning-a-view-versus-a-copy\n",
      "  self.obj[key] = value\n",
      "C:\\Users\\user\\anaconda3\\lib\\site-packages\\pandas\\core\\indexing.py:1720: SettingWithCopyWarning: \n",
      "A value is trying to be set on a copy of a slice from a DataFrame.\n",
      "Try using .loc[row_indexer,col_indexer] = value instead\n",
      "\n",
      "See the caveats in the documentation: https://pandas.pydata.org/pandas-docs/stable/user_guide/indexing.html#returning-a-view-versus-a-copy\n",
      "  self._setitem_single_column(loc, value, pi)\n"
     ]
    },
    {
     "data": {
      "text/html": [
       "Table 4, Panel A: Second‐stage regressions<br><table style=\"text-align:center\"><tr><td colspan=\"9\" style=\"border-bottom: 1px solid black\"></td></tr><tr><td style=\"text-align:left\"></td><td colspan=\"8\"><em>Dependent Variable: log GDP per capita in 2005 </em></td></tr><tr><td style=\"text-align:left\"></td><td colspan=\"8\">2SLS</td></tr><tr><td style=\"text-align:left\"></td><td>(1)</td><td>(2)</td><td>(3)</td><td>(4)</td><td>(5)</td><td>(6)</td><td>(7)</td><td>(8)</td></tr><tr><td colspan=\"9\" style=\"border-bottom: 1px solid black\"></td></tr><tr><td style=\"text-align:left\">Years of schooling</td><td>0.314<sup>***</sup></td><td>0.305<sup>***</sup></td><td>0.274<sup>*</sup></td><td>0.317<sup>*</sup></td><td>0.177<sup></sup></td><td>0.171<sup></sup></td><td>0.131<sup></sup></td><td>0.178<sup></sup></td></tr><tr><td style=\"text-align:left\"></td><td>(0.088)</td><td>(0.088)</td><td>(0.145)</td><td>(0.172)</td><td>(0.147)</td><td>(0.149)</td><td>(0.177)</td><td>(0.196)</td></tr><tr><td style=\"text-align:left\">Dummy for different source of protestant missionaries</td><td>0.257<sup></sup></td><td>-0.102<sup></sup></td><td>-0.189<sup></sup></td><td>-0.254<sup></sup></td><td>-0.127<sup></sup></td><td>-0.293<sup></sup></td><td>-0.198<sup></sup></td><td>-0.247<sup></sup></td></tr><tr><td style=\"text-align:left\"></td><td>(0.704)</td><td>(0.705)</td><td>(0.899)</td><td>(0.914)</td><td>(0.840)</td><td>(0.908)</td><td>(0.917)</td><td>(0.925)</td></tr><tr><td style=\"text-align:left\">Latitude</td><td></td><td>1.433<sup></sup></td><td>1.363<sup></sup></td><td>1.317<sup></sup></td><td></td><td>0.829<sup></sup></td><td>0.752<sup></sup></td><td>0.517<sup></sup></td></tr><tr><td style=\"text-align:left\"></td><td></td><td>(1.241)</td><td>(1.284)</td><td>(1.346)</td><td></td><td>(1.169)</td><td>(1.293)</td><td>(1.405)</td></tr><tr><td style=\"text-align:left\">Africa</td><td></td><td></td><td>-0.585<sup></sup></td><td>-0.487<sup></sup></td><td></td><td></td><td>-0.480<sup></sup></td><td>-0.369<sup></sup></td></tr><tr><td style=\"text-align:left\"></td><td></td><td></td><td>(0.618)</td><td>(0.773)</td><td></td><td></td><td>(0.827)</td><td>(1.106)</td></tr><tr><td style=\"text-align:left\">America</td><td></td><td></td><td>-0.220<sup></sup></td><td>-0.275<sup></sup></td><td></td><td></td><td>-0.067<sup></sup></td><td>-0.024<sup></sup></td></tr><tr><td style=\"text-align:left\"></td><td></td><td></td><td>(0.525)</td><td>(0.545)</td><td></td><td></td><td>(0.732)</td><td>(0.725)</td></tr><tr><td style=\"text-align:left\">Asia</td><td></td><td></td><td>-0.215<sup></sup></td><td>-0.133<sup></sup></td><td></td><td></td><td>-0.259<sup></sup></td><td>-0.179<sup></sup></td></tr><tr><td style=\"text-align:left\"></td><td></td><td></td><td>(0.687)</td><td>(0.747)</td><td></td><td></td><td>(0.698)</td><td>(0.809)</td></tr><tr><td style=\"text-align:left\">French Colony</td><td></td><td></td><td></td><td>0.048<sup></sup></td><td></td><td></td><td></td><td>0.209<sup></sup></td></tr><tr><td style=\"text-align:left\"></td><td></td><td></td><td></td><td>(0.445)</td><td></td><td></td><td></td><td>(0.506)</td></tr><tr><td style=\"text-align:left\">British colony</td><td></td><td></td><td></td><td>-0.176<sup></sup></td><td></td><td></td><td></td><td>-0.092<sup></sup></td></tr><tr><td style=\"text-align:left\"></td><td></td><td></td><td></td><td>(0.423)</td><td></td><td></td><td></td><td>(0.550)</td></tr><tr><td style=\"text-align:left\">Log capped potential settler mortality</td><td></td><td></td><td></td><td></td><td>-0.475<sup>*</sup></td><td>-0.450<sup></sup></td><td>-0.427<sup></sup></td><td>-0.449<sup></sup></td></tr><tr><td style=\"text-align:left\"></td><td></td><td></td><td></td><td></td><td>(0.268)</td><td>(0.288)</td><td>(0.342)</td><td>(0.368)</td></tr><tr><td style=\"text-align:left\">log population density in 1500</td><td></td><td></td><td></td><td></td><td>-0.114<sup></sup></td><td>-0.121<sup></sup></td><td>-0.107<sup></sup></td><td>-0.085<sup></sup></td></tr><tr><td style=\"text-align:left\"></td><td></td><td></td><td></td><td></td><td>(0.088)</td><td>(0.091)</td><td>(0.094)</td><td>(0.117)</td></tr><tr><td style=\"text-align: left\">Over‐identification test (p‐value)</td><td>0.99</td><td>0.76</td><td>0.43</td><td>0.44</td><td>0.87</td><td>0.94</td><td>0.48</td><td>0.5</td></tr><td colspan=\"9\" style=\"border-bottom: 1px solid black\"></td></tr><tr><td colspan=\"9\" style=\"border-bottom: 1px solid black\"></td></tr><tr><td style=\"text-align: left\">Note:</td>\n",
       " <td colspan=\"8\" style=\"text-align: right\">\n",
       "  <sup>*</sup>p&lt;0.1;\n",
       "  <sup>**</sup>p&lt;0.05;\n",
       "  <sup>***</sup>p&lt;0.01\n",
       " </td></tr></table>"
      ],
      "text/plain": [
       "<stargazer.stargazer.Stargazer at 0x215886ee490>"
      ]
     },
     "metadata": {},
     "output_type": "display_data"
    },
    {
     "data": {
      "text/html": [
       "Table 4, Panel B: First‐stage regressions<br><table style=\"text-align:center\"><tr><td colspan=\"9\" style=\"border-bottom: 1px solid black\"></td></tr><tr><td style=\"text-align:left\"></td><td colspan=\"8\"><em>Dependent Variable: Years of schooling in 2005  </em></td></tr><tr><td style=\"text-align:left\"></td><tr><td style=\"text-align:left\"></td><td>(1)</td><td>(2)</td><td>(3)</td><td>(4)</td><td>(5)</td><td>(6)</td><td>(7)</td><td>(8)</td></tr><tr><td colspan=\"9\" style=\"border-bottom: 1px solid black\"></td></tr><tr><td style=\"text-align:left\">Primary enrollment in 1900</td><td>0.088<sup>***</sup></td><td>0.088<sup>***</sup></td><td>0.051<sup>***</sup></td><td>0.051<sup>***</sup></td><td>0.069<sup>***</sup></td><td>0.072<sup>***</sup></td><td>0.046<sup>**</sup></td><td>0.047<sup>*</sup></td></tr><tr><td style=\"text-align:left\"></td><td>(0.019)</td><td>(0.019)</td><td>(0.019)</td><td>(0.019)</td><td>(0.019)</td><td>(0.020)</td><td>(0.022)</td><td>(0.026)</td></tr><tr><td style=\"text-align:left\">Protestant missionaries in early 20th century</td><td>0.938<sup>**</sup></td><td>0.958<sup>**</sup></td><td>1.173<sup>***</sup></td><td>1.168<sup>***</sup></td><td>0.657<sup></sup></td><td>0.577<sup></sup></td><td>0.935<sup>*</sup></td><td>0.938<sup>*</sup></td></tr><tr><td style=\"text-align:left\"></td><td>(0.470)</td><td>(0.472)</td><td>(0.357)</td><td>(0.405)</td><td>(0.527)</td><td>(0.557)</td><td>(0.488)</td><td>(0.516)</td></tr><tr><td style=\"text-align:left\">Dummy for different source of protestant missionaries</td><td>0.552<sup></sup></td><td>0.493<sup></sup></td><td>2.394<sup></sup></td><td>2.400<sup></sup></td><td>-0.708<sup></sup></td><td>-0.592<sup></sup></td><td>1.859<sup></sup></td><td>1.834<sup></sup></td></tr><tr><td style=\"text-align:left\"></td><td>(1.770)</td><td>(1.789)</td><td>(1.591)</td><td>(1.653)</td><td>(2.060)</td><td>(2.054)</td><td>(1.826)</td><td>(1.915)</td></tr><tr><td style=\"text-align:left\">Latitude</td><td></td><td>0.438<sup></sup></td><td>0.238<sup></sup></td><td>0.283<sup></sup></td><td></td><td>-1.564<sup></sup></td><td>-0.869<sup></sup></td><td>-1.051<sup></sup></td></tr><tr><td style=\"text-align:left\"></td><td></td><td>(1.807)</td><td>(1.972)</td><td>(2.101)</td><td></td><td>(2.316)</td><td>(2.421)</td><td>(2.699)</td></tr><tr><td style=\"text-align:left\">Africa</td><td></td><td></td><td>-1.842<sup>**</sup></td><td>-1.824<sup>**</sup></td><td></td><td></td><td>-1.182<sup></sup></td><td>-1.194<sup></sup></td></tr><tr><td style=\"text-align:left\"></td><td></td><td></td><td>(0.821)</td><td>(0.876)</td><td></td><td></td><td>(1.301)</td><td>(1.656)</td></tr><tr><td style=\"text-align:left\">America</td><td></td><td></td><td>0.289<sup></sup></td><td>0.291<sup></sup></td><td></td><td></td><td>0.618<sup></sup></td><td>0.656<sup></sup></td></tr><tr><td style=\"text-align:left\"></td><td></td><td></td><td>(0.770)</td><td>(0.785)</td><td></td><td></td><td>(1.060)</td><td>(1.120)</td></tr><tr><td style=\"text-align:left\">Asia</td><td></td><td></td><td>0.701<sup></sup></td><td>0.697<sup></sup></td><td></td><td></td><td>0.635<sup></sup></td><td>0.640<sup></sup></td></tr><tr><td style=\"text-align:left\"></td><td></td><td></td><td>(1.060)</td><td>(1.098)</td><td></td><td></td><td>(1.171)</td><td>(1.413)</td></tr><tr><td style=\"text-align:left\">British colony</td><td></td><td></td><td></td><td>0.001<sup></sup></td><td></td><td></td><td></td><td>0.028<sup></sup></td></tr><tr><td style=\"text-align:left\"></td><td></td><td></td><td></td><td>(0.688)</td><td></td><td></td><td></td><td>(0.947)</td></tr><tr><td style=\"text-align:left\">French Colony</td><td></td><td></td><td></td><td>-0.063<sup></sup></td><td></td><td></td><td></td><td>0.168<sup></sup></td></tr><tr><td style=\"text-align:left\"></td><td></td><td></td><td></td><td>(0.654)</td><td></td><td></td><td></td><td>(0.709)</td></tr><tr><td style=\"text-align:left\">Log capped potentialsettler mortality</td><td></td><td></td><td></td><td></td><td>-1.042<sup>***</sup></td><td>-1.104<sup>**</sup></td><td>-0.602<sup></sup></td><td>-0.629<sup></sup></td></tr><tr><td style=\"text-align:left\"></td><td></td><td></td><td></td><td></td><td>(0.390)</td><td>(0.441)</td><td>(0.564)</td><td>(0.655)</td></tr><tr><td style=\"text-align:left\">log population density in 1500</td><td></td><td></td><td></td><td></td><td>-0.131<sup></sup></td><td>-0.120<sup></sup></td><td>-0.067<sup></sup></td><td>-0.061<sup></sup></td></tr><tr><td style=\"text-align:left\"></td><td></td><td></td><td></td><td></td><td>(0.167)</td><td>(0.174)</td><td>(0.179)</td><td>(0.225)</td></tr><td colspan=\"9\" style=\"border-bottom: 1px solid black\"></td></tr><tr><td style=\"text-align: left\">Observations</td><td>62</td><td>62</td><td>62</td><td>62</td><td>62</td><td>62</td><td>62</td><td>62</td></tr><tr><td style=\"text-align: left\">R<sup>2</sup></td><td>0.599</td><td>0.599</td><td>0.718</td><td>0.718</td><td>0.677</td><td>0.680</td><td>0.734</td><td>0.734</td></tr><tr><td colspan=\"9\" style=\"border-bottom: 1px solid black\"></td></tr><tr><td style=\"text-align: left\">Note:</td>\n",
       " <td colspan=\"8\" style=\"text-align: right\">\n",
       "  <sup>*</sup>p&lt;0.1;\n",
       "  <sup>**</sup>p&lt;0.05;\n",
       "  <sup>***</sup>p&lt;0.01\n",
       " </td></tr></table>"
      ],
      "text/plain": [
       "<stargazer.stargazer.Stargazer at 0x215887c5e80>"
      ]
     },
     "metadata": {},
     "output_type": "display_data"
    },
    {
     "data": {
      "text/html": [
       "<table class=\"simpletable\">\n",
       "<caption>Model Comparison</caption>\n",
       "<tr>\n",
       "                            <td></td>                                                     <th>Model 0</th>                                                  <th>Model 1</th>                                                  <th>Model 2</th>                                                  <th>Model 3</th>                        \n",
       "</tr>\n",
       "<tr>\n",
       "  <th>Dep. Variable</th>                                                            <td>Log GDP per capita</td>                                       <td>Log GDP per capita</td>                                       <td>Log GDP per capita</td>                                       <td>Log GDP per capita</td>                   \n",
       "</tr>\n",
       "<tr>\n",
       "  <th>Estimator</th>                                                                      <td>IV-LIML</td>                                                  <td>IV-LIML</td>                                                  <td>IV-LIML</td>                                                  <td>IV-LIML</td>                        \n",
       "</tr>\n",
       "<tr>\n",
       "  <th>No. Observations</th>                                                                 <td>62</td>                                                       <td>62</td>                                                       <td>62</td>                                                       <td>62</td>                           \n",
       "</tr>\n",
       "<tr>\n",
       "  <th>Cov. Est.</th>                                                                      <td>robust</td>                                                   <td>robust</td>                                                   <td>robust</td>                                                   <td>robust</td>                         \n",
       "</tr>\n",
       "<tr>\n",
       "  <th>R-squared</th>                                                                      <td>0.7238</td>                                                   <td>0.7260</td>                                                   <td>0.7152</td>                                                   <td>0.7426</td>                         \n",
       "</tr>\n",
       "<tr>\n",
       "  <th>Adj. R-squared</th>                                                                 <td>0.7044</td>                                                   <td>0.7016</td>                                                   <td>0.6722</td>                                                   <td>0.6922</td>                         \n",
       "</tr>\n",
       "<tr>\n",
       "  <th>F-statistic</th>                                                                    <td>247.33</td>                                                   <td>257.14</td>                                                   <td>342.60</td>                                                   <td>570.54</td>                         \n",
       "</tr>\n",
       "<tr>\n",
       "  <th>P-value (F-stat)</th>                                                               <td>0.0000</td>                                                   <td>0.0000</td>                                                   <td>0.0000</td>                                                   <td>0.0000</td>                         \n",
       "</tr>\n",
       "<tr>\n",
       "  <th>===================================================</th>                     <td>====================</td>                                     <td>====================</td>                                     <td>====================</td>                                     <td>====================</td>                  \n",
       "</tr>\n",
       "<tr>\n",
       "  <th>Intercept</th>                                                                     <td>9.3808***</td>                                                <td>9.1731***</td>                                                <td>9.6689***</td>                                                <td>9.4056***</td>                       \n",
       "</tr>\n",
       "<tr>\n",
       "  <th> </th>                                                                             <td>(1.3495)</td>                                                 <td>(1.4181)</td>                                                 <td>(1.5077)</td>                                                 <td>(1.4821)</td>                        \n",
       "</tr>\n",
       "<tr>\n",
       "  <th>Dummy for different source of Protestant missions</th>                              <td>-0.1267</td>                                                  <td>-0.2926</td>                                                  <td>-0.1643</td>                                                  <td>-0.2231</td>                        \n",
       "</tr>\n",
       "<tr>\n",
       "  <th> </th>                                                                             <td>(0.4907)</td>                                                 <td>(0.5076)</td>                                                 <td>(0.6202)</td>                                                 <td>(0.5817)</td>                        \n",
       "</tr>\n",
       "<tr>\n",
       "  <th>Log capped potential settler mortality</th>                                       <td>-0.4751***</td>                                                <td>-0.4500**</td>                                                <td>-0.4346**</td>                                                <td>-0.4544**</td>                       \n",
       "</tr>\n",
       "<tr>\n",
       "  <th> </th>                                                                             <td>(0.1812)</td>                                                 <td>(0.1888)</td>                                                 <td>(0.2170)</td>                                                 <td>(0.2040)</td>                        \n",
       "</tr>\n",
       "<tr>\n",
       "  <th>Log population density 1500</th>                                                   <td>-0.1145*</td>                                                 <td>-0.1214*</td>                                                 <td>-0.1090*</td>                                                  <td>-0.0872</td>                        \n",
       "</tr>\n",
       "<tr>\n",
       "  <th> </th>                                                                             <td>(0.0616)</td>                                                 <td>(0.0621)</td>                                                 <td>(0.0614)</td>                                                 <td>(0.0665)</td>                        \n",
       "</tr>\n",
       "<tr>\n",
       "  <th>Years of schooling</th>                                                             <td>0.1771*</td>                                                  <td>0.1712</td>                                                   <td>0.1222</td>                                                   <td>0.1703</td>                         \n",
       "</tr>\n",
       "<tr>\n",
       "  <th> </th>                                                                             <td>(0.1063)</td>                                                 <td>(0.1061)</td>                                                 <td>(0.1355)</td>                                                 <td>(0.1436)</td>                        \n",
       "</tr>\n",
       "<tr>\n",
       "  <th>Latitude</th>                                                                      <td>        </td>                                                  <td>0.8291</td>                                                   <td>0.7374</td>                                                   <td>0.5077</td>                         \n",
       "</tr>\n",
       "<tr>\n",
       "  <th> </th>                                                                             <td>        </td>                                                 <td>(0.8132)</td>                                                 <td>(0.8729)</td>                                                 <td>(0.8549)</td>                        \n",
       "</tr>\n",
       "<tr>\n",
       "  <th>Africa</th>                                                                        <td>        </td>                                                 <td>        </td>                                                  <td>-0.4866</td>                                                  <td>-0.3811</td>                        \n",
       "</tr>\n",
       "<tr>\n",
       "  <th> </th>                                                                             <td>        </td>                                                 <td>        </td>                                                 <td>(0.4591)</td>                                                 <td>(0.5843)</td>                        \n",
       "</tr>\n",
       "<tr>\n",
       "  <th>America</th>                                                                       <td>        </td>                                                 <td>        </td>                                                  <td>-0.0540</td>                                                  <td>-0.0151</td>                        \n",
       "</tr>\n",
       "<tr>\n",
       "  <th> </th>                                                                             <td>        </td>                                                 <td>        </td>                                                 <td>(0.3961)</td>                                                 <td>(0.3681)</td>                        \n",
       "</tr>\n",
       "<tr>\n",
       "  <th>Asia</th>                                                                          <td>        </td>                                                 <td>        </td>                                                  <td>-0.2535</td>                                                  <td>-0.1810</td>                        \n",
       "</tr>\n",
       "<tr>\n",
       "  <th> </th>                                                                             <td>        </td>                                                 <td>        </td>                                                 <td>(0.3765)</td>                                                 <td>(0.4391)</td>                        \n",
       "</tr>\n",
       "<tr>\n",
       "  <th>French colony</th>                                                                 <td>        </td>                                                 <td>        </td>                                                 <td>        </td>                                                  <td>0.2116</td>                         \n",
       "</tr>\n",
       "<tr>\n",
       "  <th> </th>                                                                             <td>        </td>                                                 <td>        </td>                                                 <td>        </td>                                                 <td>(0.3525)</td>                        \n",
       "</tr>\n",
       "<tr>\n",
       "  <th>British colony</th>                                                                <td>        </td>                                                 <td>        </td>                                                 <td>        </td>                                                  <td>-0.0830</td>                        \n",
       "</tr>\n",
       "<tr>\n",
       "  <th> </th>                                                                             <td>        </td>                                                 <td>        </td>                                                 <td>        </td>                                                 <td>(0.3499)</td>                        \n",
       "</tr>\n",
       "<tr>\n",
       "  <th>=====================================================</th> <td>========================================================</td> <td>========================================================</td> <td>========================================================</td> <td>========================================================</td>\n",
       "</tr>\n",
       "<tr>\n",
       "  <th>Instruments</th>                                                        <td>Primary school enrollment 1900</td>                           <td>Primary school enrollment 1900</td>                           <td>Primary school enrollment 1900</td>                           <td>Primary school enrollment 1900</td>             \n",
       "</tr>\n",
       "<tr>\n",
       "  <th></th>                                                       <td>Protestant missionaries in the early twentieth century</td>   <td>Protestant missionaries in the early twentieth century</td>   <td>Protestant missionaries in the early twentieth century</td>   <td>Protestant missionaries in the early twentieth century</td> \n",
       "</tr>\n",
       "</table><br/><br/>Std. Errors reported in parentheses<br/>id: 0x21588785eb0"
      ],
      "text/plain": [
       "                                                                                                                                     Model Comparison                                                                                                                                    \n",
       "=========================================================================================================================================================================================================================================================================================\n",
       "                                                                                                       Model 0                                                  Model 1                                                  Model 2                                                  Model 3\n",
       "-----------------------------------------------------------------------------------------------------------------------------------------------------------------------------------------------------------------------------------------------------------------------------------------\n",
       "Dep. Variable                                                                               Log GDP per capita                                       Log GDP per capita                                       Log GDP per capita                                       Log GDP per capita\n",
       "Estimator                                                                                              IV-LIML                                                  IV-LIML                                                  IV-LIML                                                  IV-LIML\n",
       "No. Observations                                                                                            62                                                       62                                                       62                                                       62\n",
       "Cov. Est.                                                                                               robust                                                   robust                                                   robust                                                   robust\n",
       "R-squared                                                                                               0.7238                                                   0.7260                                                   0.7152                                                   0.7426\n",
       "Adj. R-squared                                                                                          0.7044                                                   0.7016                                                   0.6722                                                   0.6922\n",
       "F-statistic                                                                                             247.33                                                   257.14                                                   342.60                                                   570.54\n",
       "P-value (F-stat)                                                                                        0.0000                                                   0.0000                                                   0.0000                                                   0.0000\n",
       "===================================================                                       ====================                                     ====================                                     ====================                                     ====================\n",
       "Intercept                                                                                            9.3808***                                                9.1731***                                                9.6689***                                                9.4056***\n",
       "                                                                                                      (1.3495)                                                 (1.4181)                                                 (1.5077)                                                 (1.4821)\n",
       "Dummy for different source of Protestant missions                                                      -0.1267                                                  -0.2926                                                  -0.1643                                                  -0.2231\n",
       "                                                                                                      (0.4907)                                                 (0.5076)                                                 (0.6202)                                                 (0.5817)\n",
       "Log capped potential settler mortality                                                              -0.4751***                                                -0.4500**                                                -0.4346**                                                -0.4544**\n",
       "                                                                                                      (0.1812)                                                 (0.1888)                                                 (0.2170)                                                 (0.2040)\n",
       "Log population density 1500                                                                           -0.1145*                                                 -0.1214*                                                 -0.1090*                                                  -0.0872\n",
       "                                                                                                      (0.0616)                                                 (0.0621)                                                 (0.0614)                                                 (0.0665)\n",
       "Years of schooling                                                                                     0.1771*                                                   0.1712                                                   0.1222                                                   0.1703\n",
       "                                                                                                      (0.1063)                                                 (0.1061)                                                 (0.1355)                                                 (0.1436)\n",
       "Latitude                                                                                                                                                         0.8291                                                   0.7374                                                   0.5077\n",
       "                                                                                                                                                               (0.8132)                                                 (0.8729)                                                 (0.8549)\n",
       "Africa                                                                                                                                                                                                                   -0.4866                                                  -0.3811\n",
       "                                                                                                                                                                                                                        (0.4591)                                                 (0.5843)\n",
       "America                                                                                                                                                                                                                  -0.0540                                                  -0.0151\n",
       "                                                                                                                                                                                                                        (0.3961)                                                 (0.3681)\n",
       "Asia                                                                                                                                                                                                                     -0.2535                                                  -0.1810\n",
       "                                                                                                                                                                                                                        (0.3765)                                                 (0.4391)\n",
       "French colony                                                                                                                                                                                                                                                                      0.2116\n",
       "                                                                                                                                                                                                                                                                                 (0.3525)\n",
       "British colony                                                                                                                                                                                                                                                                    -0.0830\n",
       "                                                                                                                                                                                                                                                                                 (0.3499)\n",
       "===================================================== ======================================================== ======================================================== ======================================================== ========================================================\n",
       "Instruments                                                                     Primary school enrollment 1900                           Primary school enrollment 1900                           Primary school enrollment 1900                           Primary school enrollment 1900\n",
       "                                                        Protestant missionaries in the early twentieth century   Protestant missionaries in the early twentieth century   Protestant missionaries in the early twentieth century   Protestant missionaries in the early twentieth century\n",
       "-----------------------------------------------------------------------------------------------------------------------------------------------------------------------------------------------------------------------------------------------------------------------------------------\n",
       "\n",
       "Std. Errors reported in parentheses\n",
       "IVModelComparison, id: 0x21588785eb0"
      ]
     },
     "metadata": {},
     "output_type": "display_data"
    }
   ],
   "source": [
    "[table1,table2]=get_table4(country_data)\n",
    "table4=get_table4_LIML(country_data)\n",
    "display(table1)\n",
    "display(table2)\n",
    "display(table4)"
   ]
  },
  {
   "cell_type": "markdown",
   "id": "26be99b6-974d-4600-a840-c160712dcf58",
   "metadata": {},
   "source": [
    "**[Table 5](#table_5)** is the polar opposite of **[Table 4](#table_4)**. In this case, the rule of law index is treated as an endogenous variable while controlling for the historically determinants of human capital today (Protestant missionary activity and primary school enrollment in 1900). The table is again different than the table presented in original paper, however, the results are the same except some minor differences in heteroscedasticity robust standard errors. The Panel A shows the results of second stage while Panel B shows the results of first stage where instruments for the rule of law index are capped log potential settler mortality rate and log population density in 1500. Column 1 presents again basic model without any varible except the rule of law index. The first stage relation for column 1 is strong. The effect of the rule of law on GDP per capita is precise and quite large. The overidentification test again provides support for the validity of instruments.\n",
    "\n",
    "Similarly, column 2-4 add standard control variables(latitude, contitent and colonizer identity dummies). Addition of new control variables decreases the strength of the first stage altough log population density in 1500 is significant in some spesifications. However, the second stage relationship remains similar quantitatively to column 1. Columns 5-8 includes the historical determinants of human capital today as additional controls, which are Protestant missionary activities in the early twentieth century and primary school enrollment in 1900. The addittion of historical variables has little effect on the relationship between the rule of law index and gdp per capita today ( the coefficient estimates are very similar to those in columns 1-4 and statistically significant), however, remember that in **[Table 4](#table_4)**, the inclusion of historical variables related to institutions significantly reduces the effect of human capital variable.\n",
    "\n",
    "The LIML models replicating the same spesification in columns 4-8 is presented in the last panel(in original paper, they are presented in columns 9-12). The results are very similar to the results in columns 5-8.\n",
    "\n",
    "To conclude, the relationship between institutions and current prosperity is considerably more robust than that between human capital and current prosperity. Moreover, when the authors control for institutions, the effect of human capital on GDP per capita reduces and converges to micro estimate, which means that models that do not control for the effect of institutions tend to suffer from a serious omitted variable bias. causing an upward bias in the effect of human capital variables."
   ]
  },
  {
   "cell_type": "markdown",
   "id": "0815f9e9-e881-45c2-9808-9d21b715e494",
   "metadata": {},
   "source": [
    "##### Table 5 Semistructural regressions, rule of law, cross-country sample <a class=\"anchor\" id=\"table_5\"></a>  "
   ]
  },
  {
   "cell_type": "code",
   "execution_count": 7,
   "id": "1e5639cd-af1a-4eaf-937e-0de7b63119b1",
   "metadata": {},
   "outputs": [
    {
     "name": "stderr",
     "output_type": "stream",
     "text": [
      "C:\\Users\\user\\anaconda3\\lib\\site-packages\\pandas\\core\\indexing.py:1676: SettingWithCopyWarning: \n",
      "A value is trying to be set on a copy of a slice from a DataFrame.\n",
      "Try using .loc[row_indexer,col_indexer] = value instead\n",
      "\n",
      "See the caveats in the documentation: https://pandas.pydata.org/pandas-docs/stable/user_guide/indexing.html#returning-a-view-versus-a-copy\n",
      "  self._setitem_single_column(ilocs[0], value, pi)\n",
      "C:\\Users\\user\\anaconda3\\lib\\site-packages\\pandas\\core\\indexing.py:1597: SettingWithCopyWarning: \n",
      "A value is trying to be set on a copy of a slice from a DataFrame.\n",
      "Try using .loc[row_indexer,col_indexer] = value instead\n",
      "\n",
      "See the caveats in the documentation: https://pandas.pydata.org/pandas-docs/stable/user_guide/indexing.html#returning-a-view-versus-a-copy\n",
      "  self.obj[key] = value\n",
      "C:\\Users\\user\\anaconda3\\lib\\site-packages\\pandas\\core\\indexing.py:1720: SettingWithCopyWarning: \n",
      "A value is trying to be set on a copy of a slice from a DataFrame.\n",
      "Try using .loc[row_indexer,col_indexer] = value instead\n",
      "\n",
      "See the caveats in the documentation: https://pandas.pydata.org/pandas-docs/stable/user_guide/indexing.html#returning-a-view-versus-a-copy\n",
      "  self._setitem_single_column(loc, value, pi)\n"
     ]
    },
    {
     "data": {
      "text/html": [
       "Table 5, Panel A: Second‐stage regressions<br><table style=\"text-align:center\"><tr><td colspan=\"9\" style=\"border-bottom: 1px solid black\"></td></tr><tr><td style=\"text-align:left\"></td><td colspan=\"8\"><em>Dependent Variable: log GDP per capita in 2005 </em></td></tr><tr><td style=\"text-align:left\"></td><td colspan=\"8\">2SLS</td></tr><tr><td style=\"text-align:left\"></td><td>(1)</td><td>(2)</td><td>(3)</td><td>(4)</td><td>(5)</td><td>(6)</td><td>(7)</td><td>(8)</td></tr><tr><td colspan=\"9\" style=\"border-bottom: 1px solid black\"></td></tr><tr><td style=\"text-align:left\">Rule of law</td><td>1.413<sup>***</sup></td><td>1.634<sup>***</sup></td><td>1.346<sup>***</sup></td><td>1.361<sup>***</sup></td><td>1.705<sup>***</sup></td><td>1.791<sup>***</sup></td><td>1.519<sup>**</sup></td><td>1.424<sup>**</sup></td></tr><tr><td style=\"text-align:left\"></td><td>(0.151)</td><td>(0.249)</td><td>(0.394)</td><td>(0.444)</td><td>(0.446)</td><td>(0.505)</td><td>(0.600)</td><td>(0.608)</td></tr><tr><td style=\"text-align:left\">Latitude</td><td></td><td>-1.976<sup></sup></td><td>-1.358<sup></sup></td><td>-1.269<sup></sup></td><td></td><td>-1.056<sup></sup></td><td>-0.741<sup></sup></td><td>-0.597<sup></sup></td></tr><tr><td style=\"text-align:left\"></td><td></td><td>(1.308)</td><td>(1.645)</td><td>(1.819)</td><td></td><td>(1.345)</td><td>(1.574)</td><td>(1.662)</td></tr><tr><td style=\"text-align:left\">Africa</td><td></td><td></td><td>0.202<sup></sup></td><td>0.110<sup></sup></td><td></td><td></td><td>-0.434<sup></sup></td><td>-0.423<sup></sup></td></tr><tr><td style=\"text-align:left\"></td><td></td><td></td><td>(0.979)</td><td>(1.018)</td><td></td><td></td><td>(0.949)</td><td>(1.062)</td></tr><tr><td style=\"text-align:left\">America</td><td></td><td></td><td>1.287<sup></sup></td><td>1.148<sup></sup></td><td></td><td></td><td>0.795<sup></sup></td><td>0.679<sup></sup></td></tr><tr><td style=\"text-align:left\"></td><td></td><td></td><td>(0.922)</td><td>(0.966)</td><td></td><td></td><td>(0.899)</td><td>(0.929)</td></tr><tr><td style=\"text-align:left\">Asia</td><td></td><td></td><td>0.280<sup></sup></td><td>0.273<sup></sup></td><td></td><td></td><td>-0.476<sup></sup></td><td>-0.288<sup></sup></td></tr><tr><td style=\"text-align:left\"></td><td></td><td></td><td>(0.845)</td><td>(0.898)</td><td></td><td></td><td>(0.830)</td><td>(0.990)</td></tr><tr><td style=\"text-align:left\">French Colony</td><td></td><td></td><td></td><td>-0.010<sup></sup></td><td></td><td></td><td></td><td>-0.013<sup></sup></td></tr><tr><td style=\"text-align:left\"></td><td></td><td></td><td></td><td>(0.460)</td><td></td><td></td><td></td><td>(0.481)</td></tr><tr><td style=\"text-align:left\">British colony</td><td></td><td></td><td></td><td>-0.236<sup></sup></td><td></td><td></td><td></td><td>-0.258<sup></sup></td></tr><tr><td style=\"text-align:left\"></td><td></td><td></td><td></td><td>(0.390)</td><td></td><td></td><td></td><td>(0.461)</td></tr><tr><td style=\"text-align:left\">Dummy for different source of protestant missions</td><td></td><td></td><td></td><td></td><td>-2.791<sup>**</sup></td><td>-2.810<sup>**</sup></td><td>-0.543<sup></sup></td><td>-0.409<sup></sup></td></tr><tr><td style=\"text-align:left\"></td><td></td><td></td><td></td><td></td><td>(1.363)</td><td>(1.399)</td><td>(1.525)</td><td>(1.652)</td></tr><tr><td style=\"text-align:left\">Primary enrollment in 1900</td><td></td><td></td><td></td><td></td><td>0.018<sup></sup></td><td>0.020<sup></sup></td><td>-0.009<sup></sup></td><td>-0.005<sup></sup></td></tr><tr><td style=\"text-align:left\"></td><td></td><td></td><td></td><td></td><td>(0.012)</td><td>(0.013)</td><td>(0.016)</td><td>(0.017)</td></tr><tr><td style=\"text-align:left\">Protestant missionaries in early 2Oth century</td><td></td><td></td><td></td><td></td><td>0.059<sup></sup></td><td>-0.001<sup></sup></td><td>0.184<sup></sup></td><td>0.261<sup></sup></td></tr><tr><td style=\"text-align:left\"></td><td></td><td></td><td></td><td></td><td>(0.330)</td><td>(0.347)</td><td>(0.296)</td><td>(0.306)</td></tr><tr><td style=\"text-align: left\">Over‐identification test (p‐value)</td><td>0.23</td><td>0.39</td><td>0.25</td><td>0.14</td><td>0.69</td><td>0.81</td><td>0.34</td><td>0.17</td></tr><td colspan=\"9\" style=\"border-bottom: 1px solid black\"></td></tr><tr><td colspan=\"9\" style=\"border-bottom: 1px solid black\"></td></tr><tr><td style=\"text-align: left\">Note:</td>\n",
       " <td colspan=\"8\" style=\"text-align: right\">\n",
       "  <sup>*</sup>p&lt;0.1;\n",
       "  <sup>**</sup>p&lt;0.05;\n",
       "  <sup>***</sup>p&lt;0.01\n",
       " </td></tr></table>"
      ],
      "text/plain": [
       "<stargazer.stargazer.Stargazer at 0x21588820cd0>"
      ]
     },
     "metadata": {},
     "output_type": "display_data"
    },
    {
     "data": {
      "text/html": [
       "Table 5, Panel B: First‐stage regressions<br><table style=\"text-align:center\"><tr><td colspan=\"9\" style=\"border-bottom: 1px solid black\"></td></tr><tr><td style=\"text-align:left\"></td><td colspan=\"8\"><em>Dependent Variable: Rule of law  </em></td></tr><tr><td style=\"text-align:left\"></td><tr><td style=\"text-align:left\"></td><td>(1)</td><td>(2)</td><td>(3)</td><td>(4)</td><td>(5)</td><td>(6)</td><td>(7)</td><td>(8)</td></tr><tr><td colspan=\"9\" style=\"border-bottom: 1px solid black\"></td></tr><tr><td style=\"text-align:left\">log capped potential settler mortality</td><td>-0.597<sup>***</sup></td><td>-0.476<sup>***</sup></td><td>-0.292<sup>**</sup></td><td>-0.231<sup>*</sup></td><td>-0.402<sup>***</sup></td><td>-0.366<sup>**</sup></td><td>-0.235<sup>*</sup></td><td>-0.226<sup>*</sup></td></tr><tr><td style=\"text-align:left\"></td><td>(0.110)</td><td>(0.125)</td><td>(0.125)</td><td>(0.123)</td><td>(0.137)</td><td>(0.152)</td><td>(0.125)</td><td>(0.127)</td></tr><tr><td style=\"text-align:left\">log population density in 1500</td><td>-0.081<sup></sup></td><td>-0.083<sup></sup></td><td>-0.152<sup>**</sup></td><td>-0.160<sup>**</sup></td><td>-0.062<sup></sup></td><td>-0.069<sup></sup></td><td>-0.111<sup></sup></td><td>-0.126<sup></sup></td></tr><tr><td style=\"text-align:left\"></td><td>(0.065)</td><td>(0.061)</td><td>(0.065)</td><td>(0.063)</td><td>(0.067)</td><td>(0.068)</td><td>(0.083)</td><td>(0.084)</td></tr><tr><td style=\"text-align:left\">Latitude</td><td></td><td>1.620<sup>**</sup></td><td>1.831<sup>**</sup></td><td>1.724<sup>**</sup></td><td></td><td>0.885<sup></sup></td><td>1.252<sup></sup></td><td>1.212<sup></sup></td></tr><tr><td style=\"text-align:left\"></td><td></td><td>(0.824)</td><td>(0.788)</td><td>(0.859)</td><td></td><td>(0.862)</td><td>(0.938)</td><td>(1.045)</td></tr><tr><td style=\"text-align:left\">Africa</td><td></td><td></td><td>-0.964<sup>*</sup></td><td>-0.982<sup>*</sup></td><td></td><td></td><td>-0.306<sup></sup></td><td>-0.422<sup></sup></td></tr><tr><td style=\"text-align:left\"></td><td></td><td></td><td>(0.548)</td><td>(0.547)</td><td></td><td></td><td>(0.608)</td><td>(0.628)</td></tr><tr><td style=\"text-align:left\">America</td><td></td><td></td><td>-1.238<sup>**</sup></td><td>-1.112<sup>**</sup></td><td></td><td></td><td>-0.621<sup></sup></td><td>-0.618<sup></sup></td></tr><tr><td style=\"text-align:left\"></td><td></td><td></td><td>(0.497)</td><td>(0.503)</td><td></td><td></td><td>(0.524)</td><td>(0.546)</td></tr><tr><td style=\"text-align:left\">Asia</td><td></td><td></td><td>-0.586<sup></sup></td><td>-0.629<sup></sup></td><td></td><td></td><td>0.146<sup></sup></td><td>-0.008<sup></sup></td></tr><tr><td style=\"text-align:left\"></td><td></td><td></td><td>(0.557)</td><td>(0.561)</td><td></td><td></td><td>(0.623)</td><td>(0.648)</td></tr><tr><td style=\"text-align:left\">British colony</td><td></td><td></td><td></td><td>0.350<sup>*</sup></td><td></td><td></td><td></td><td>0.218<sup></sup></td></tr><tr><td style=\"text-align:left\"></td><td></td><td></td><td></td><td>(0.192)</td><td></td><td></td><td></td><td>(0.260)</td></tr><tr><td style=\"text-align:left\">French Colony</td><td></td><td></td><td></td><td>0.146<sup></sup></td><td></td><td></td><td></td><td>0.126<sup></sup></td></tr><tr><td style=\"text-align:left\"></td><td></td><td></td><td></td><td>(0.229)</td><td></td><td></td><td></td><td>(0.233)</td></tr><tr><td style=\"text-align:left\">Dummy for different source of protestant missions</td><td></td><td></td><td></td><td></td><td>1.410<sup>**</sup></td><td>1.344<sup>**</sup></td><td>0.661<sup></sup></td><td>0.593<sup></sup></td></tr><tr><td style=\"text-align:left\"></td><td></td><td></td><td></td><td></td><td>(0.565)</td><td>(0.608)</td><td>(1.054)</td><td>(1.045)</td></tr><tr><td style=\"text-align:left\">Primary Enrollment in 1900</td><td></td><td></td><td></td><td></td><td>-0.002<sup></sup></td><td>-0.004<sup></sup></td><td>0.006<sup></sup></td><td>0.003<sup></sup></td></tr><tr><td style=\"text-align:left\"></td><td></td><td></td><td></td><td></td><td>(0.009)</td><td>(0.010)</td><td>(0.012)</td><td>(0.013)</td></tr><tr><td style=\"text-align:left\">Protestant missionaries in early 2Oth century</td><td></td><td></td><td></td><td></td><td>0.021<sup></sup></td><td>0.066<sup></sup></td><td>0.049<sup></sup></td><td>0.004<sup></sup></td></tr><tr><td style=\"text-align:left\"></td><td></td><td></td><td></td><td></td><td>(0.223)</td><td>(0.236)</td><td>(0.241)</td><td>(0.246)</td></tr><td colspan=\"9\" style=\"border-bottom: 1px solid black\"></td></tr><tr><td style=\"text-align: left\">Observations</td><td>62</td><td>62</td><td>62</td><td>62</td><td>62</td><td>62</td><td>62</td><td>62</td></tr><tr><td style=\"text-align: left\">R<sup>2</sup></td><td>0.508</td><td>0.551</td><td>0.638</td><td>0.656</td><td>0.603</td><td>0.612</td><td>0.664</td><td>0.669</td></tr><tr><td colspan=\"9\" style=\"border-bottom: 1px solid black\"></td></tr><tr><td style=\"text-align: left\">Note:</td>\n",
       " <td colspan=\"8\" style=\"text-align: right\">\n",
       "  <sup>*</sup>p&lt;0.1;\n",
       "  <sup>**</sup>p&lt;0.05;\n",
       "  <sup>***</sup>p&lt;0.01\n",
       " </td></tr></table>"
      ],
      "text/plain": [
       "<stargazer.stargazer.Stargazer at 0x215885b6a00>"
      ]
     },
     "metadata": {},
     "output_type": "display_data"
    },
    {
     "data": {
      "text/html": [
       "<table class=\"simpletable\">\n",
       "<caption>Model Comparison</caption>\n",
       "<tr>\n",
       "                               <td></td>                                               <th>Model 0</th>                                  <th>Model 1</th>                                  <th>Model 2</th>                                  <th>Model 3</th>                \n",
       "</tr>\n",
       "<tr>\n",
       "  <th>Dep. Variable</th>                                                         <td>Log GDP per capita</td>                       <td>Log GDP per capita</td>                       <td>Log GDP per capita</td>                       <td>Log GDP per capita</td>           \n",
       "</tr>\n",
       "<tr>\n",
       "  <th>Estimator</th>                                                                   <td>IV-LIML</td>                                  <td>IV-LIML</td>                                  <td>IV-LIML</td>                                  <td>IV-LIML</td>                \n",
       "</tr>\n",
       "<tr>\n",
       "  <th>No. Observations</th>                                                              <td>62</td>                                       <td>62</td>                                       <td>62</td>                                       <td>62</td>                   \n",
       "</tr>\n",
       "<tr>\n",
       "  <th>Cov. Est.</th>                                                                   <td>robust</td>                                   <td>robust</td>                                   <td>robust</td>                                   <td>robust</td>                 \n",
       "</tr>\n",
       "<tr>\n",
       "  <th>R-squared</th>                                                                   <td>0.3084</td>                                   <td>0.2718</td>                                   <td>0.5225</td>                                   <td>0.5328</td>                 \n",
       "</tr>\n",
       "<tr>\n",
       "  <th>Adj. R-squared</th>                                                              <td>0.2598</td>                                   <td>0.2068</td>                                   <td>0.4504</td>                                   <td>0.4412</td>                 \n",
       "</tr>\n",
       "<tr>\n",
       "  <th>F-statistic</th>                                                                 <td>113.01</td>                                   <td>108.84</td>                                   <td>282.10</td>                                   <td>306.62</td>                 \n",
       "</tr>\n",
       "<tr>\n",
       "  <th>P-value (F-stat)</th>                                                            <td>0.0000</td>                                   <td>0.0000</td>                                   <td>0.0000</td>                                   <td>0.0000</td>                 \n",
       "</tr>\n",
       "<tr>\n",
       "  <th>========================================================</th>             <td>====================</td>                     <td>====================</td>                     <td>====================</td>                     <td>====================</td>          \n",
       "</tr>\n",
       "<tr>\n",
       "  <th>Intercept</th>                                                                  <td>8.7464***</td>                                <td>8.9652***</td>                                <td>9.0148***</td>                                <td>9.0121***</td>               \n",
       "</tr>\n",
       "<tr>\n",
       "  <th> </th>                                                                          <td>(0.2999)</td>                                 <td>(0.4862)</td>                                 <td>(0.3844)</td>                                 <td>(0.3873)</td>                \n",
       "</tr>\n",
       "<tr>\n",
       "  <th>Dummy for different source of Protestant missions</th>                          <td>-2.8074**</td>                                <td>-2.8165**</td>                                 <td>-0.6210</td>                                  <td>-0.5720</td>                \n",
       "</tr>\n",
       "<tr>\n",
       "  <th> </th>                                                                          <td>(1.1246)</td>                                 <td>(1.1594)</td>                                 <td>(0.9628)</td>                                 <td>(0.9223)</td>                \n",
       "</tr>\n",
       "<tr>\n",
       "  <th>Protestant missionaries in the early twentieth century</th>                      <td>0.0582</td>                                   <td>-0.0021</td>                                  <td>0.1704</td>                                   <td>0.2332</td>                 \n",
       "</tr>\n",
       "<tr>\n",
       "  <th> </th>                                                                          <td>(0.2130)</td>                                 <td>(0.2225)</td>                                 <td>(0.1774)</td>                                 <td>(0.1941)</td>                \n",
       "</tr>\n",
       "<tr>\n",
       "  <th>Primary school enrollment 1900</th>                                             <td>0.0183**</td>                                 <td>0.0199**</td>                                  <td>-0.0094</td>                                  <td>-0.0062</td>                \n",
       "</tr>\n",
       "<tr>\n",
       "  <th> </th>                                                                          <td>(0.0089)</td>                                 <td>(0.0088)</td>                                 <td>(0.0106)</td>                                 <td>(0.0113)</td>                \n",
       "</tr>\n",
       "<tr>\n",
       "  <th>Rule of law</th>                                                                <td>1.7138***</td>                                <td>1.7944***</td>                                <td>1.5923***</td>                                <td>1.5790***</td>               \n",
       "</tr>\n",
       "<tr>\n",
       "  <th> </th>                                                                          <td>(0.3830)</td>                                 <td>(0.4528)</td>                                 <td>(0.3372)</td>                                 <td>(0.3533)</td>                \n",
       "</tr>\n",
       "<tr>\n",
       "  <th>Latitude</th>                                                                   <td>        </td>                                  <td>-1.0620</td>                                  <td>-0.8554</td>                                  <td>-0.8354</td>                \n",
       "</tr>\n",
       "<tr>\n",
       "  <th> </th>                                                                          <td>        </td>                                 <td>(1.3173)</td>                                 <td>(1.1304)</td>                                 <td>(1.2298)</td>                \n",
       "</tr>\n",
       "<tr>\n",
       "  <th>Africa</th>                                                                     <td>        </td>                                 <td>        </td>                                  <td>-0.4036</td>                                  <td>-0.3556</td>                \n",
       "</tr>\n",
       "<tr>\n",
       "  <th> </th>                                                                          <td>        </td>                                 <td>        </td>                                 <td>(0.3844)</td>                                 <td>(0.3879)</td>                \n",
       "</tr>\n",
       "<tr>\n",
       "  <th>America</th>                                                                    <td>        </td>                                 <td>        </td>                                 <td>0.8334**</td>                                  <td>0.7573*</td>                \n",
       "</tr>\n",
       "<tr>\n",
       "  <th> </th>                                                                          <td>        </td>                                 <td>        </td>                                 <td>(0.3981)</td>                                 <td>(0.4206)</td>                \n",
       "</tr>\n",
       "<tr>\n",
       "  <th>Asia</th>                                                                       <td>        </td>                                 <td>        </td>                                  <td>-0.4995</td>                                  <td>-0.3332</td>                \n",
       "</tr>\n",
       "<tr>\n",
       "  <th> </th>                                                                          <td>        </td>                                 <td>        </td>                                 <td>(0.4141)</td>                                 <td>(0.4117)</td>                \n",
       "</tr>\n",
       "<tr>\n",
       "  <th>French colony</th>                                                              <td>        </td>                                 <td>        </td>                                 <td>        </td>                                  <td>-0.0165</td>                \n",
       "</tr>\n",
       "<tr>\n",
       "  <th> </th>                                                                          <td>        </td>                                 <td>        </td>                                 <td>        </td>                                 <td>(0.3491)</td>                \n",
       "</tr>\n",
       "<tr>\n",
       "  <th>British colony</th>                                                             <td>        </td>                                 <td>        </td>                                 <td>        </td>                                  <td>-0.2671</td>                \n",
       "</tr>\n",
       "<tr>\n",
       "  <th> </th>                                                                          <td>        </td>                                 <td>        </td>                                 <td>        </td>                                 <td>(0.3492)</td>                \n",
       "</tr>\n",
       "<tr>\n",
       "  <th>==========================================================</th> <td>========================================</td> <td>========================================</td> <td>========================================</td> <td>========================================</td>\n",
       "</tr>\n",
       "<tr>\n",
       "  <th>Instruments</th>                                                 <td>Log capped potential settler mortality</td>   <td>Log capped potential settler mortality</td>   <td>Log capped potential settler mortality</td>   <td>Log capped potential settler mortality</td> \n",
       "</tr>\n",
       "<tr>\n",
       "  <th></th>                                                                  <td>Log population density 1500</td>              <td>Log population density 1500</td>              <td>Log population density 1500</td>              <td>Log population density 1500</td>      \n",
       "</tr>\n",
       "</table><br/><br/>Std. Errors reported in parentheses<br/>id: 0x215887a0610"
      ],
      "text/plain": [
       "                                                                                                       Model Comparison                                                                                                       \n",
       "==============================================================================================================================================================================================================================\n",
       "                                                                                            Model 0                                  Model 1                                  Model 2                                  Model 3\n",
       "------------------------------------------------------------------------------------------------------------------------------------------------------------------------------------------------------------------------------\n",
       "Dep. Variable                                                                    Log GDP per capita                       Log GDP per capita                       Log GDP per capita                       Log GDP per capita\n",
       "Estimator                                                                                   IV-LIML                                  IV-LIML                                  IV-LIML                                  IV-LIML\n",
       "No. Observations                                                                                 62                                       62                                       62                                       62\n",
       "Cov. Est.                                                                                    robust                                   robust                                   robust                                   robust\n",
       "R-squared                                                                                    0.3084                                   0.2718                                   0.5225                                   0.5328\n",
       "Adj. R-squared                                                                               0.2598                                   0.2068                                   0.4504                                   0.4412\n",
       "F-statistic                                                                                  113.01                                   108.84                                   282.10                                   306.62\n",
       "P-value (F-stat)                                                                             0.0000                                   0.0000                                   0.0000                                   0.0000\n",
       "========================================================                       ====================                     ====================                     ====================                     ====================\n",
       "Intercept                                                                                 8.7464***                                8.9652***                                9.0148***                                9.0121***\n",
       "                                                                                           (0.2999)                                 (0.4862)                                 (0.3844)                                 (0.3873)\n",
       "Dummy for different source of Protestant missions                                         -2.8074**                                -2.8165**                                  -0.6210                                  -0.5720\n",
       "                                                                                           (1.1246)                                 (1.1594)                                 (0.9628)                                 (0.9223)\n",
       "Protestant missionaries in the early twentieth century                                       0.0582                                  -0.0021                                   0.1704                                   0.2332\n",
       "                                                                                           (0.2130)                                 (0.2225)                                 (0.1774)                                 (0.1941)\n",
       "Primary school enrollment 1900                                                             0.0183**                                 0.0199**                                  -0.0094                                  -0.0062\n",
       "                                                                                           (0.0089)                                 (0.0088)                                 (0.0106)                                 (0.0113)\n",
       "Rule of law                                                                               1.7138***                                1.7944***                                1.5923***                                1.5790***\n",
       "                                                                                           (0.3830)                                 (0.4528)                                 (0.3372)                                 (0.3533)\n",
       "Latitude                                                                                                                             -1.0620                                  -0.8554                                  -0.8354\n",
       "                                                                                                                                    (1.3173)                                 (1.1304)                                 (1.2298)\n",
       "Africa                                                                                                                                                                        -0.4036                                  -0.3556\n",
       "                                                                                                                                                                             (0.3844)                                 (0.3879)\n",
       "America                                                                                                                                                                      0.8334**                                  0.7573*\n",
       "                                                                                                                                                                             (0.3981)                                 (0.4206)\n",
       "Asia                                                                                                                                                                          -0.4995                                  -0.3332\n",
       "                                                                                                                                                                             (0.4141)                                 (0.4117)\n",
       "French colony                                                                                                                                                                                                          -0.0165\n",
       "                                                                                                                                                                                                                      (0.3491)\n",
       "British colony                                                                                                                                                                                                         -0.2671\n",
       "                                                                                                                                                                                                                      (0.3492)\n",
       "========================================================== ======================================== ======================================== ======================================== ========================================\n",
       "Instruments                                                  Log capped potential settler mortality   Log capped potential settler mortality   Log capped potential settler mortality   Log capped potential settler mortality\n",
       "                                                                        Log population density 1500              Log population density 1500              Log population density 1500              Log population density 1500\n",
       "------------------------------------------------------------------------------------------------------------------------------------------------------------------------------------------------------------------------------\n",
       "\n",
       "Std. Errors reported in parentheses\n",
       "IVModelComparison, id: 0x215887a0610"
      ]
     },
     "metadata": {},
     "output_type": "display_data"
    }
   ],
   "source": [
    "table1,table2=get_table5(country_data)\n",
    "table3=get_table5_LIML(country_data)\n",
    "display(table1,table2,table3)"
   ]
  },
  {
   "cell_type": "markdown",
   "id": "1700f940-27e8-4cf8-a8cd-369043fb4359",
   "metadata": {},
   "source": [
    "##### 4.3 Full Two-Stage Least Squares Models <a class=\"anchor\" id=\"full_two-stage_least_squares_models\"></a>   "
   ]
  },
  {
   "cell_type": "markdown",
   "id": "d0266370-d155-4ad0-a550-402d675fc86c",
   "metadata": {},
   "source": [
    "In this chapter, the authors estimate models in which both institutions and human capital are simultaneously treated as endogenous and instrumented using the same historical variables.The full 2SLS results are presented in the **[Table 6](#table_6)**, however, again, the tables presented here are different than the ones presented in the original paper although the estimated coefficients are the same. There are also some differences in standard errors. Some of the results in the original paper is not represented here. In the first table, second-stage regressions are presented while in the second table, the first-stage regressions are presented. In the last table, the results from limited information maximum likelihood  estimates are shown. The first-stage results are quite similar to the ones in  **[Tables 4](#table_4)** and **[5](#table_5)** . The results suggest that the instrumental variables are significant only for their relevant variables.\n",
    "\n",
    "Column 1 represents the model with only average years of schooling and the rule of law index ( as well as the dummy for the source of Protestant missionary data). The coefficient for years of schooling is smaller than that in column 1 of **[Table 4](#table_4)** with the coefficient of 0.223. The coefficient of the rule of law index is also a little smaller than the one in the first column of **[Table 5](#table_5)**. In column 2-4, the models includes the usual control and dummy variables; Latitude, continent and colonizer identity dummies. As new covariates are added, the coefficient of the rule of law index remains around the same magnitude and significant, whereas the coefficient of average years of schooling become insignificant and the magnitude declines. In the last table ( columns 5-8 in the original paper), results from LIML models are shown. The results are very similar to 2SLS results."
   ]
  },
  {
   "cell_type": "markdown",
   "id": "99aee2a3-3fca-42fb-8c24-5d1e0a8edaf0",
   "metadata": {},
   "source": [
    "##### Table 6 Full two-stage least squares (2SLS) and limited information maximum likelihood(LIML) estimates, cross-country sample <a class=\"anchor\" id=\"table_6\"></a>  "
   ]
  },
  {
   "cell_type": "code",
   "execution_count": 8,
   "id": "05edd62d-96b7-450d-b7f6-6e64301fe43b",
   "metadata": {},
   "outputs": [
    {
     "name": "stderr",
     "output_type": "stream",
     "text": [
      "C:\\Users\\user\\anaconda3\\lib\\site-packages\\pandas\\core\\indexing.py:1676: SettingWithCopyWarning: \n",
      "A value is trying to be set on a copy of a slice from a DataFrame.\n",
      "Try using .loc[row_indexer,col_indexer] = value instead\n",
      "\n",
      "See the caveats in the documentation: https://pandas.pydata.org/pandas-docs/stable/user_guide/indexing.html#returning-a-view-versus-a-copy\n",
      "  self._setitem_single_column(ilocs[0], value, pi)\n",
      "C:\\Users\\user\\anaconda3\\lib\\site-packages\\pandas\\core\\indexing.py:1597: SettingWithCopyWarning: \n",
      "A value is trying to be set on a copy of a slice from a DataFrame.\n",
      "Try using .loc[row_indexer,col_indexer] = value instead\n",
      "\n",
      "See the caveats in the documentation: https://pandas.pydata.org/pandas-docs/stable/user_guide/indexing.html#returning-a-view-versus-a-copy\n",
      "  self.obj[key] = value\n",
      "C:\\Users\\user\\anaconda3\\lib\\site-packages\\pandas\\core\\indexing.py:1720: SettingWithCopyWarning: \n",
      "A value is trying to be set on a copy of a slice from a DataFrame.\n",
      "Try using .loc[row_indexer,col_indexer] = value instead\n",
      "\n",
      "See the caveats in the documentation: https://pandas.pydata.org/pandas-docs/stable/user_guide/indexing.html#returning-a-view-versus-a-copy\n",
      "  self._setitem_single_column(loc, value, pi)\n"
     ]
    },
    {
     "data": {
      "text/html": [
       "Table 6, Panel A: Second‐stage regressions<br><table style=\"text-align:center\"><tr><td colspan=\"5\" style=\"border-bottom: 1px solid black\"></td></tr><tr><td style=\"text-align:left\"></td><td colspan=\"4\"><em>Dependent Variable: Log GDP per capita in 2005  </em></td></tr><tr><td style=\"text-align:left\"></td><tr><td style=\"text-align:left\"></td><td>(1)</td><td>(2)</td><td>(3)</td><td>(4)</td></tr><tr><td colspan=\"5\" style=\"border-bottom: 1px solid black\"></td></tr><tr><td style=\"text-align:left\">Years of schooling</td><td>0.223<sup>*</sup></td><td>0.224<sup>*</sup></td><td>0.069<sup></sup></td><td>0.186<sup></sup></td></tr><tr><td style=\"text-align:left\"></td><td>(0.131)</td><td>(0.127)</td><td>(0.188)</td><td>(0.205)</td></tr><tr><td style=\"text-align:left\">Rule of law</td><td>1.126<sup>*</sup></td><td>1.123<sup>*</sup></td><td>1.324<sup>*</sup></td><td>1.062<sup></sup></td></tr><tr><td style=\"text-align:left\"></td><td>(0.590)</td><td>(0.634)</td><td>(0.752)</td><td>(0.750)</td></tr><tr><td style=\"text-align:left\">Dummy for different source of protestant missions</td><td>-1.666<sup>*</sup></td><td>-1.655<sup>*</sup></td><td>-1.238<sup></sup></td><td>-1.193<sup></sup></td></tr><tr><td style=\"text-align:left\"></td><td>(0.987)</td><td>(0.959)</td><td>(1.021)</td><td>(1.080)</td></tr><tr><td style=\"text-align:left\">Latitude</td><td></td><td>-0.040<sup></sup></td><td>-0.647<sup></sup></td><td>-0.276<sup></sup></td></tr><tr><td style=\"text-align:left\"></td><td></td><td>(1.364)</td><td>(1.710)</td><td>(1.713)</td></tr><tr><td style=\"text-align:left\">Africa</td><td></td><td></td><td>-0.421<sup></sup></td><td>-0.265<sup></sup></td></tr><tr><td style=\"text-align:left\"></td><td></td><td></td><td>(0.952)</td><td>(1.085)</td></tr><tr><td style=\"text-align:left\">America</td><td></td><td></td><td>0.483<sup></sup></td><td>0.237<sup></sup></td></tr><tr><td style=\"text-align:left\"></td><td></td><td></td><td>(1.003)</td><td>(0.988)</td></tr><tr><td style=\"text-align:left\">Asia</td><td></td><td></td><td>-0.511<sup></sup></td><td>-0.329<sup></sup></td></tr><tr><td style=\"text-align:left\"></td><td></td><td></td><td>(0.823)</td><td>(0.924)</td></tr><tr><td style=\"text-align:left\">British colony</td><td></td><td></td><td></td><td>-0.291<sup></sup></td></tr><tr><td style=\"text-align:left\"></td><td></td><td></td><td></td><td>(0.432)</td></tr><tr><td style=\"text-align:left\">French Colony</td><td></td><td></td><td></td><td>0.016<sup></sup></td></tr><tr><td style=\"text-align:left\"></td><td></td><td></td><td></td><td>(0.462)</td></tr><tr><td style=\"text-align: left\">Over‐identification test (p‐value)</td><td>0.61</td><td>0.6</td><td>0.2</td><td>0.12</td></tr><td colspan=\"5\" style=\"border-bottom: 1px solid black\"></td></tr><tr><td style=\"text-align: left\">Observations</td><td>62</td><td>62</td><td>62</td><td>62</td></tr><tr><td style=\"text-align: left\">R<sup>2</sup></td><td>0.583</td><td>0.586</td><td>0.619</td><td>0.623</td></tr><tr><td colspan=\"5\" style=\"border-bottom: 1px solid black\"></td></tr><tr><td style=\"text-align: left\">Note:</td>\n",
       " <td colspan=\"4\" style=\"text-align: right\">\n",
       "  <sup>*</sup>p&lt;0.1;\n",
       "  <sup>**</sup>p&lt;0.05;\n",
       "  <sup>***</sup>p&lt;0.01\n",
       " </td></tr></table>"
      ],
      "text/plain": [
       "<stargazer.stargazer.Stargazer at 0x215887a0040>"
      ]
     },
     "metadata": {},
     "output_type": "display_data"
    },
    {
     "data": {
      "text/html": [
       "Table 6, Panel A: First‐stage regressions<br><table style=\"text-align:center\"><tr><td colspan=\"9\" style=\"border-bottom: 1px solid black\"></td></tr><tr><td style=\"text-align:left\"></td><tr><td></td><td colspan=\"4\">Dependent variable: years of schooling</td><td colspan=\"4\">Dependent variable: rule of law</td></tr><tr><td style=\"text-align:left\"></td><td>(1)</td><td>(2)</td><td>(3)</td><td>(4)</td><td>(5)</td><td>(6)</td><td>(7)</td><td>(8)</td></tr><tr><td colspan=\"9\" style=\"border-bottom: 1px solid black\"></td></tr><tr><td style=\"text-align:left\">Primary enrollment in 1900</td><td>0.069<sup>***</sup></td><td>0.072<sup>***</sup></td><td>0.046<sup>**</sup></td><td>0.047<sup>*</sup></td><td>-0.002<sup></sup></td><td>-0.004<sup></sup></td><td>0.006<sup></sup></td><td>0.003<sup></sup></td></tr><tr><td style=\"text-align:left\"></td><td>(0.019)</td><td>(0.020)</td><td>(0.022)</td><td>(0.026)</td><td>(0.009)</td><td>(0.010)</td><td>(0.012)</td><td>(0.013)</td></tr><tr><td style=\"text-align:left\">Protestant missionaries in early 20th century</td><td>0.657<sup></sup></td><td>0.577<sup></sup></td><td>0.935<sup>*</sup></td><td>0.938<sup>*</sup></td><td>0.021<sup></sup></td><td>0.066<sup></sup></td><td>0.049<sup></sup></td><td>0.004<sup></sup></td></tr><tr><td style=\"text-align:left\"></td><td>(0.527)</td><td>(0.557)</td><td>(0.488)</td><td>(0.516)</td><td>(0.223)</td><td>(0.236)</td><td>(0.241)</td><td>(0.246)</td></tr><tr><td style=\"text-align:left\">Log capped potential settler mortality</td><td>-1.042<sup>***</sup></td><td>-1.104<sup>**</sup></td><td>-0.602<sup></sup></td><td>-0.629<sup></sup></td><td>-0.402<sup>***</sup></td><td>-0.366<sup>**</sup></td><td>-0.235<sup>*</sup></td><td>-0.226<sup>*</sup></td></tr><tr><td style=\"text-align:left\"></td><td>(0.390)</td><td>(0.441)</td><td>(0.564)</td><td>(0.655)</td><td>(0.137)</td><td>(0.152)</td><td>(0.125)</td><td>(0.127)</td></tr><tr><td style=\"text-align:left\">log population density in 1500</td><td>-0.131<sup></sup></td><td>-0.120<sup></sup></td><td>-0.067<sup></sup></td><td>-0.061<sup></sup></td><td>-0.062<sup></sup></td><td>-0.069<sup></sup></td><td>-0.111<sup></sup></td><td>-0.126<sup></sup></td></tr><tr><td style=\"text-align:left\"></td><td>(0.167)</td><td>(0.174)</td><td>(0.179)</td><td>(0.225)</td><td>(0.067)</td><td>(0.068)</td><td>(0.083)</td><td>(0.084)</td></tr><tr><td style=\"text-align:left\">Dummy for different source of protestant missionaries</td><td>-0.708<sup></sup></td><td>-0.592<sup></sup></td><td>1.859<sup></sup></td><td>1.834<sup></sup></td><td>1.410<sup>**</sup></td><td>1.344<sup>**</sup></td><td>0.661<sup></sup></td><td>0.593<sup></sup></td></tr><tr><td style=\"text-align:left\"></td><td>(2.060)</td><td>(2.054)</td><td>(1.826)</td><td>(1.915)</td><td>(0.565)</td><td>(0.608)</td><td>(1.054)</td><td>(1.045)</td></tr><tr><td style=\"text-align:left\">Latitude</td><td></td><td>-1.564<sup></sup></td><td>-0.869<sup></sup></td><td>-1.051<sup></sup></td><td></td><td>0.885<sup></sup></td><td>1.252<sup></sup></td><td>1.212<sup></sup></td></tr><tr><td style=\"text-align:left\"></td><td></td><td>(2.316)</td><td>(2.421)</td><td>(2.699)</td><td></td><td>(0.862)</td><td>(0.938)</td><td>(1.045)</td></tr><tr><td style=\"text-align:left\">Africa</td><td></td><td></td><td>-1.182<sup></sup></td><td>-1.194<sup></sup></td><td></td><td></td><td>-0.306<sup></sup></td><td>-0.422<sup></sup></td></tr><tr><td style=\"text-align:left\"></td><td></td><td></td><td>(1.301)</td><td>(1.656)</td><td></td><td></td><td>(0.608)</td><td>(0.628)</td></tr><tr><td style=\"text-align:left\">America</td><td></td><td></td><td>0.618<sup></sup></td><td>0.656<sup></sup></td><td></td><td></td><td>-0.621<sup></sup></td><td>-0.618<sup></sup></td></tr><tr><td style=\"text-align:left\"></td><td></td><td></td><td>(1.060)</td><td>(1.120)</td><td></td><td></td><td>(0.524)</td><td>(0.546)</td></tr><tr><td style=\"text-align:left\">Asia</td><td></td><td></td><td>0.635<sup></sup></td><td>0.640<sup></sup></td><td></td><td></td><td>0.146<sup></sup></td><td>-0.008<sup></sup></td></tr><tr><td style=\"text-align:left\"></td><td></td><td></td><td>(1.171)</td><td>(1.413)</td><td></td><td></td><td>(0.623)</td><td>(0.648)</td></tr><tr><td style=\"text-align:left\">British colony</td><td></td><td></td><td></td><td>0.028<sup></sup></td><td></td><td></td><td></td><td>0.218<sup></sup></td></tr><tr><td style=\"text-align:left\"></td><td></td><td></td><td></td><td>(0.947)</td><td></td><td></td><td></td><td>(0.260)</td></tr><tr><td style=\"text-align:left\">French Colony</td><td></td><td></td><td></td><td>0.168<sup></sup></td><td></td><td></td><td></td><td>0.126<sup></sup></td></tr><tr><td style=\"text-align:left\"></td><td></td><td></td><td></td><td>(0.709)</td><td></td><td></td><td></td><td>(0.233)</td></tr><td colspan=\"9\" style=\"border-bottom: 1px solid black\"></td></tr><tr><td style=\"text-align: left\">Observations</td><td>62</td><td>62</td><td>62</td><td>62</td><td>62</td><td>62</td><td>62</td><td>62</td></tr><tr><td style=\"text-align: left\">R<sup>2</sup></td><td>0.677</td><td>0.680</td><td>0.734</td><td>0.734</td><td>0.603</td><td>0.612</td><td>0.664</td><td>0.669</td></tr><tr><td colspan=\"9\" style=\"border-bottom: 1px solid black\"></td></tr><tr><td style=\"text-align: left\">Note:</td>\n",
       " <td colspan=\"8\" style=\"text-align: right\">\n",
       "  <sup>*</sup>p&lt;0.1;\n",
       "  <sup>**</sup>p&lt;0.05;\n",
       "  <sup>***</sup>p&lt;0.01\n",
       " </td></tr></table>"
      ],
      "text/plain": [
       "<stargazer.stargazer.Stargazer at 0x2158886cb50>"
      ]
     },
     "metadata": {},
     "output_type": "display_data"
    },
    {
     "data": {
      "text/html": [
       "<table class=\"simpletable\">\n",
       "<caption>Model Comparison</caption>\n",
       "<tr>\n",
       "                            <td></td>                                                     <th>Model 0</th>                                                  <th>Model 1</th>                                                  <th>Model 2</th>                                                  <th>Model 3</th>                        \n",
       "</tr>\n",
       "<tr>\n",
       "  <th>Dep. Variable</th>                                                            <td>Log GDP per capita</td>                                       <td>Log GDP per capita</td>                                       <td>Log GDP per capita</td>                                       <td>Log GDP per capita</td>                   \n",
       "</tr>\n",
       "<tr>\n",
       "  <th>Estimator</th>                                                                      <td>IV-LIML</td>                                                  <td>IV-LIML</td>                                                  <td>IV-LIML</td>                                                  <td>IV-LIML</td>                        \n",
       "</tr>\n",
       "<tr>\n",
       "  <th>No. Observations</th>                                                                 <td>62</td>                                                       <td>62</td>                                                       <td>62</td>                                                       <td>62</td>                           \n",
       "</tr>\n",
       "<tr>\n",
       "  <th>Cov. Est.</th>                                                                      <td>robust</td>                                                   <td>robust</td>                                                   <td>robust</td>                                                   <td>robust</td>                         \n",
       "</tr>\n",
       "<tr>\n",
       "  <th>R-squared</th>                                                                      <td>0.5962</td>                                                   <td>0.5955</td>                                                   <td>0.4683</td>                                                   <td>0.5828</td>                         \n",
       "</tr>\n",
       "<tr>\n",
       "  <th>Adj. R-squared</th>                                                                 <td>0.5753</td>                                                   <td>0.5671</td>                                                   <td>0.3993</td>                                                   <td>0.5106</td>                         \n",
       "</tr>\n",
       "<tr>\n",
       "  <th>F-statistic</th>                                                                    <td>228.06</td>                                                   <td>234.44</td>                                                   <td>324.29</td>                                                   <td>413.11</td>                         \n",
       "</tr>\n",
       "<tr>\n",
       "  <th>P-value (F-stat)</th>                                                               <td>0.0000</td>                                                   <td>0.0000</td>                                                   <td>0.0000</td>                                                   <td>0.0000</td>                         \n",
       "</tr>\n",
       "<tr>\n",
       "  <th>===================================================</th>                     <td>====================</td>                                     <td>====================</td>                                     <td>====================</td>                                     <td>====================</td>                  \n",
       "</tr>\n",
       "<tr>\n",
       "  <th>Intercept</th>                                                                     <td>7.4737***</td>                                                <td>7.4838***</td>                                                <td>9.2767***</td>                                                <td>8.5433***</td>                       \n",
       "</tr>\n",
       "<tr>\n",
       "  <th> </th>                                                                             <td>(0.6013)</td>                                                 <td>(0.7180)</td>                                                 <td>(1.5095)</td>                                                 <td>(1.7865)</td>                        \n",
       "</tr>\n",
       "<tr>\n",
       "  <th>Dummy for different source of Protestant missions</th>                            <td>-1.7200***</td>                                               <td>-1.7022***</td>                                                <td>-1.3673*</td>                                                 <td>-1.3548**</td>                       \n",
       "</tr>\n",
       "<tr>\n",
       "  <th> </th>                                                                             <td>(0.6289)</td>                                                 <td>(0.5986)</td>                                                 <td>(0.8101)</td>                                                 <td>(0.6738)</td>                        \n",
       "</tr>\n",
       "<tr>\n",
       "  <th>Rule of law</th>                                                                   <td>1.1681***</td>                                                <td>1.1698***</td>                                                <td>1.7007**</td>                                                 <td>1.4640**</td>                        \n",
       "</tr>\n",
       "<tr>\n",
       "  <th> </th>                                                                             <td>(0.3866)</td>                                                 <td>(0.4155)</td>                                                 <td>(0.6741)</td>                                                 <td>(0.7295)</td>                        \n",
       "</tr>\n",
       "<tr>\n",
       "  <th>Years of schooling</th>                                                            <td>0.2165***</td>                                                <td>0.2176***</td>                                                 <td>-0.0193</td>                                                  <td>0.0941</td>                         \n",
       "</tr>\n",
       "<tr>\n",
       "  <th> </th>                                                                             <td>(0.0766)</td>                                                 <td>(0.0782)</td>                                                 <td>(0.1936)</td>                                                 <td>(0.2442)</td>                        \n",
       "</tr>\n",
       "<tr>\n",
       "  <th>Latitude</th>                                                                      <td>        </td>                                                  <td>-0.0963</td>                                                  <td>-1.2303</td>                                                  <td>-0.8878</td>                        \n",
       "</tr>\n",
       "<tr>\n",
       "  <th> </th>                                                                             <td>        </td>                                                 <td>(0.9975)</td>                                                 <td>(1.4629)</td>                                                 <td>(1.5180)</td>                        \n",
       "</tr>\n",
       "<tr>\n",
       "  <th>Africa</th>                                                                        <td>        </td>                                                 <td>        </td>                                                  <td>-0.4225</td>                                                  <td>-0.2619</td>                        \n",
       "</tr>\n",
       "<tr>\n",
       "  <th> </th>                                                                             <td>        </td>                                                 <td>        </td>                                                 <td>(0.3897)</td>                                                 <td>(0.3946)</td>                        \n",
       "</tr>\n",
       "<tr>\n",
       "  <th>America</th>                                                                       <td>        </td>                                                 <td>        </td>                                                  <td>0.7286</td>                                                   <td>0.4936</td>                         \n",
       "</tr>\n",
       "<tr>\n",
       "  <th> </th>                                                                             <td>        </td>                                                 <td>        </td>                                                 <td>(0.5222)</td>                                                 <td>(0.6237)</td>                        \n",
       "</tr>\n",
       "<tr>\n",
       "  <th>Asia</th>                                                                          <td>        </td>                                                 <td>        </td>                                                  <td>-0.5684</td>                                                  <td>-0.3977</td>                        \n",
       "</tr>\n",
       "<tr>\n",
       "  <th> </th>                                                                             <td>        </td>                                                 <td>        </td>                                                 <td>(0.4101)</td>                                                 <td>(0.3861)</td>                        \n",
       "</tr>\n",
       "<tr>\n",
       "  <th>French colony</th>                                                                 <td>        </td>                                                 <td>        </td>                                                 <td>        </td>                                                  <td>0.0030</td>                         \n",
       "</tr>\n",
       "<tr>\n",
       "  <th> </th>                                                                             <td>        </td>                                                 <td>        </td>                                                 <td>        </td>                                                 <td>(0.3335)</td>                        \n",
       "</tr>\n",
       "<tr>\n",
       "  <th>British colony</th>                                                                <td>        </td>                                                 <td>        </td>                                                 <td>        </td>                                                  <td>-0.2837</td>                        \n",
       "</tr>\n",
       "<tr>\n",
       "  <th> </th>                                                                             <td>        </td>                                                 <td>        </td>                                                 <td>        </td>                                                 <td>(0.3441)</td>                        \n",
       "</tr>\n",
       "<tr>\n",
       "  <th>=====================================================</th> <td>========================================================</td> <td>========================================================</td> <td>========================================================</td> <td>========================================================</td>\n",
       "</tr>\n",
       "<tr>\n",
       "  <th>Instruments</th>                                                    <td>Log capped potential settler mortality</td>                   <td>Log capped potential settler mortality</td>                   <td>Log capped potential settler mortality</td>                   <td>Log capped potential settler mortality</td>         \n",
       "</tr>\n",
       "<tr>\n",
       "  <th></th>                                                                     <td>Log population density 1500</td>                              <td>Log population density 1500</td>                              <td>Log population density 1500</td>                              <td>Log population density 1500</td>              \n",
       "</tr>\n",
       "<tr>\n",
       "  <th></th>                                                                     <td>Primary enrollment in 1900</td>                               <td>Primary enrollment in 1900</td>                               <td>Primary enrollment in 1900</td>                               <td>Primary enrollment in 1900</td>               \n",
       "</tr>\n",
       "<tr>\n",
       "  <th></th>                                                       <td>Protestant missionaries in the early twentieth century</td>   <td>Protestant missionaries in the early twentieth century</td>   <td>Protestant missionaries in the early twentieth century</td>   <td>Protestant missionaries in the early twentieth century</td> \n",
       "</tr>\n",
       "</table><br/><br/>Std. Errors reported in parentheses<br/>id: 0x215885cb0a0"
      ],
      "text/plain": [
       "                                                                                                                                     Model Comparison                                                                                                                                    \n",
       "=========================================================================================================================================================================================================================================================================================\n",
       "                                                                                                       Model 0                                                  Model 1                                                  Model 2                                                  Model 3\n",
       "-----------------------------------------------------------------------------------------------------------------------------------------------------------------------------------------------------------------------------------------------------------------------------------------\n",
       "Dep. Variable                                                                               Log GDP per capita                                       Log GDP per capita                                       Log GDP per capita                                       Log GDP per capita\n",
       "Estimator                                                                                              IV-LIML                                                  IV-LIML                                                  IV-LIML                                                  IV-LIML\n",
       "No. Observations                                                                                            62                                                       62                                                       62                                                       62\n",
       "Cov. Est.                                                                                               robust                                                   robust                                                   robust                                                   robust\n",
       "R-squared                                                                                               0.5962                                                   0.5955                                                   0.4683                                                   0.5828\n",
       "Adj. R-squared                                                                                          0.5753                                                   0.5671                                                   0.3993                                                   0.5106\n",
       "F-statistic                                                                                             228.06                                                   234.44                                                   324.29                                                   413.11\n",
       "P-value (F-stat)                                                                                        0.0000                                                   0.0000                                                   0.0000                                                   0.0000\n",
       "===================================================                                       ====================                                     ====================                                     ====================                                     ====================\n",
       "Intercept                                                                                            7.4737***                                                7.4838***                                                9.2767***                                                8.5433***\n",
       "                                                                                                      (0.6013)                                                 (0.7180)                                                 (1.5095)                                                 (1.7865)\n",
       "Dummy for different source of Protestant missions                                                   -1.7200***                                               -1.7022***                                                 -1.3673*                                                -1.3548**\n",
       "                                                                                                      (0.6289)                                                 (0.5986)                                                 (0.8101)                                                 (0.6738)\n",
       "Rule of law                                                                                          1.1681***                                                1.1698***                                                 1.7007**                                                 1.4640**\n",
       "                                                                                                      (0.3866)                                                 (0.4155)                                                 (0.6741)                                                 (0.7295)\n",
       "Years of schooling                                                                                   0.2165***                                                0.2176***                                                  -0.0193                                                   0.0941\n",
       "                                                                                                      (0.0766)                                                 (0.0782)                                                 (0.1936)                                                 (0.2442)\n",
       "Latitude                                                                                                                                                        -0.0963                                                  -1.2303                                                  -0.8878\n",
       "                                                                                                                                                               (0.9975)                                                 (1.4629)                                                 (1.5180)\n",
       "Africa                                                                                                                                                                                                                   -0.4225                                                  -0.2619\n",
       "                                                                                                                                                                                                                        (0.3897)                                                 (0.3946)\n",
       "America                                                                                                                                                                                                                   0.7286                                                   0.4936\n",
       "                                                                                                                                                                                                                        (0.5222)                                                 (0.6237)\n",
       "Asia                                                                                                                                                                                                                     -0.5684                                                  -0.3977\n",
       "                                                                                                                                                                                                                        (0.4101)                                                 (0.3861)\n",
       "French colony                                                                                                                                                                                                                                                                      0.0030\n",
       "                                                                                                                                                                                                                                                                                 (0.3335)\n",
       "British colony                                                                                                                                                                                                                                                                    -0.2837\n",
       "                                                                                                                                                                                                                                                                                 (0.3441)\n",
       "===================================================== ======================================================== ======================================================== ======================================================== ========================================================\n",
       "Instruments                                                             Log capped potential settler mortality                   Log capped potential settler mortality                   Log capped potential settler mortality                   Log capped potential settler mortality\n",
       "                                                                                   Log population density 1500                              Log population density 1500                              Log population density 1500                              Log population density 1500\n",
       "                                                                                    Primary enrollment in 1900                               Primary enrollment in 1900                               Primary enrollment in 1900                               Primary enrollment in 1900\n",
       "                                                        Protestant missionaries in the early twentieth century   Protestant missionaries in the early twentieth century   Protestant missionaries in the early twentieth century   Protestant missionaries in the early twentieth century\n",
       "-----------------------------------------------------------------------------------------------------------------------------------------------------------------------------------------------------------------------------------------------------------------------------------------\n",
       "\n",
       "Std. Errors reported in parentheses\n",
       "IVModelComparison, id: 0x215885cb0a0"
      ]
     },
     "metadata": {},
     "output_type": "display_data"
    }
   ],
   "source": [
    "table1,table2=get_table6(country_data)\n",
    "table3 =get_table6_LIML(country_data)\n",
    "display(table1,table2,table3)"
   ]
  },
  {
   "cell_type": "markdown",
   "id": "eadc01e1-04d1-4117-8256-25db5e0e3f98",
   "metadata": {},
   "source": [
    "The following table corresponds the Table 7 in the original paper. Again, there are some differences between the table in the original paper and the table presented here, however, the coefficient estimates are the same. **[Table 7](#table_7)** demonstrates the robustness of the results from **[Table 6](#table_6)**. It represents only LIML models. In this exercise, the authors uses the following roboustness checks;\n",
    "* They drop the four neo-Europes (the United States, Canada,Australia, and New Zealand). They believe that the path of institutional development may have been different as well as the nature of missionary activity in these countries.\n",
    "* The current prevalence of falciparum malaria is controlled because it is a test for whether some of the effect of potential settler mortality may be working through the current prevalence of malaria.\n",
    "* Different measures of temperature and humidity (average,minimum, and maximum monthly high temperatures, and minimum and maximum monthly low temperatures, and morning minimum and maximum humidity, and afternoon minimum and maximum humidity) are controlled\n",
    "* They control for the fraction of the poopulation with different religious affiliations in 1900 to be able to isolate the effect of Protestant missionary activity from the direct effect of religion\n",
    "\n",
    "In column 1-2, the results from a model where neo-Europes are excluded are presented. Then, in the following two columns, the malaria effect is controlled. The temperature and humidity variables are added to models in the columns 5-6. Finally, in the last two columns, the different religious affiliations are controlled.The results are very similar to those in **[Table 6](#table6)**. The coefficient on the rule of law index is always between 1.15 and 1.49 and always significant, whereas the coefficient estimate on average years of schooling is never statistically significant.\n",
    "\n",
    "\n",
    "To sum up, the results from the full 2SLS/LIML models, in which both institutions and human capital are instrumented using historical sources of variation, show a fairly robust effect of institutions on current prosperity and a much more limited effect of human capital. This doesn't imply that human capital does not have a robust effect on GDP per capita. "
   ]
  },
  {
   "cell_type": "markdown",
   "id": "e7ffc5a4-c7db-467a-aed5-3b5cf9c383de",
   "metadata": {},
   "source": [
    "##### Table 7 Robustness exercises: full limited information maximum likelihood models, second-stage regressions, cross-country sample <a class=\"anchor\" id=\"table_7\"></a>  "
   ]
  },
  {
   "cell_type": "code",
   "execution_count": 9,
   "id": "d1a1ba8f-9358-4558-9a7b-1e15f97c05ad",
   "metadata": {},
   "outputs": [
    {
     "data": {
      "text/html": [
       "<table class=\"simpletable\">\n",
       "<caption>Model Comparison</caption>\n",
       "<tr>\n",
       "                            <td></td>                                                     <th>Model 0</th>                                                  <th>Model 1</th>                                                  <th>Model 2</th>                                                  <th>Model 3</th>                                                  <th>Model 4</th>                                                  <th>Model 5</th>                                                  <th>Model 6</th>                                                  <th>Model 7</th>                        \n",
       "</tr>\n",
       "<tr>\n",
       "  <th>Dep. Variable</th>                                                            <td>Log GDP per capita</td>                                       <td>Log GDP per capita</td>                                       <td>Log GDP per capita</td>                                       <td>Log GDP per capita</td>                                       <td>Log GDP per capita</td>                                       <td>Log GDP per capita</td>                                       <td>Log GDP per capita</td>                                       <td>Log GDP per capita</td>                   \n",
       "</tr>\n",
       "<tr>\n",
       "  <th>Estimator</th>                                                                      <td>IV-LIML</td>                                                  <td>IV-LIML</td>                                                  <td>IV-LIML</td>                                                  <td>IV-LIML</td>                                                  <td>IV-LIML</td>                                                  <td>IV-LIML</td>                                                  <td>IV-LIML</td>                                                  <td>IV-LIML</td>                        \n",
       "</tr>\n",
       "<tr>\n",
       "  <th>No. Observations</th>                                                                 <td>58</td>                                                       <td>58</td>                                                       <td>61</td>                                                       <td>61</td>                                                       <td>62</td>                                                       <td>62</td>                                                       <td>62</td>                                                       <td>62</td>                           \n",
       "</tr>\n",
       "<tr>\n",
       "  <th>Cov. Est.</th>                                                                      <td>robust</td>                                                   <td>robust</td>                                                   <td>robust</td>                                                   <td>robust</td>                                                   <td>robust</td>                                                   <td>robust</td>                                                   <td>robust</td>                                                   <td>robust</td>                         \n",
       "</tr>\n",
       "<tr>\n",
       "  <th>R-squared</th>                                                                      <td>0.4641</td>                                                   <td>0.5921</td>                                                   <td>0.5940</td>                                                   <td>0.6706</td>                                                   <td>0.7505</td>                                                   <td>0.7544</td>                                                   <td>0.5899</td>                                                   <td>0.6393</td>                         \n",
       "</tr>\n",
       "<tr>\n",
       "  <th>Adj. R-squared</th>                                                                 <td>0.4011</td>                                                   <td>0.5255</td>                                                   <td>0.5316</td>                                                   <td>0.6047</td>                                                   <td>0.6617</td>                                                   <td>0.6516</td>                                                   <td>0.5095</td>                                                   <td>0.5509</td>                         \n",
       "</tr>\n",
       "<tr>\n",
       "  <th>F-statistic</th>                                                                  <td>-3.876e+17</td>                                                <td>9.659e+16</td>                                                 <td>614.72</td>                                                   <td>804.27</td>                                                   <td>1304.4</td>                                                   <td>1140.4</td>                                                   <td>553.76</td>                                                   <td>825.68</td>                         \n",
       "</tr>\n",
       "<tr>\n",
       "  <th>P-value (F-stat)</th>                                                               <td>1.0000</td>                                                   <td>0.0000</td>                                                   <td>0.0000</td>                                                   <td>0.0000</td>                                                   <td>0.0000</td>                                                   <td>0.0000</td>                                                   <td>0.0000</td>                                                   <td>0.0000</td>                         \n",
       "</tr>\n",
       "<tr>\n",
       "  <th>===================================================</th>                     <td>====================</td>                                     <td>====================</td>                                     <td>====================</td>                                     <td>====================</td>                                     <td>====================</td>                                     <td>====================</td>                                     <td>====================</td>                                     <td>====================</td>                  \n",
       "</tr>\n",
       "<tr>\n",
       "  <th>Dummy for different source of Protestant missions</th>                             <td>7.7215***</td>                                                <td>6.9283***</td>                                                 <td>-0.3140</td>                                                  <td>-0.3622</td>                                                  <td>-0.5730</td>                                                  <td>-0.9789</td>                                                 <td>-1.0551*</td>                                                 <td>-1.0409*</td>                        \n",
       "</tr>\n",
       "<tr>\n",
       "  <th> </th>                                                                             <td>(1.3595)</td>                                                 <td>(1.5431)</td>                                                 <td>(0.9289)</td>                                                 <td>(0.8829)</td>                                                 <td>(0.6824)</td>                                                 <td>(0.8774)</td>                                                 <td>(0.6278)</td>                                                 <td>(0.5746)</td>                        \n",
       "</tr>\n",
       "<tr>\n",
       "  <th>Latitude</th>                                                                       <td>-0.7109</td>                                                  <td>-0.3096</td>                                                  <td>-2.0610</td>                                                  <td>-1.9121</td>                                                 <td>-1.9418*</td>                                                 <td>-2.0436*</td>                                                  <td>-2.0449</td>                                                  <td>-1.8464</td>                        \n",
       "</tr>\n",
       "<tr>\n",
       "  <th> </th>                                                                             <td>(1.2230)</td>                                                 <td>(1.2008)</td>                                                 <td>(1.4005)</td>                                                 <td>(1.5703)</td>                                                 <td>(1.0759)</td>                                                 <td>(1.1705)</td>                                                 <td>(1.7248)</td>                                                 <td>(1.8220)</td>                        \n",
       "</tr>\n",
       "<tr>\n",
       "  <th>Africa</th>                                                                        <td>8.3819***</td>                                                <td>7.6649***</td>                                                 <td>0.2936</td>                                                   <td>0.3448</td>                                                   <td>0.1242</td>                                                   <td>0.1478</td>                                                   <td>0.7427</td>                                                   <td>0.5702</td>                         \n",
       "</tr>\n",
       "<tr>\n",
       "  <th> </th>                                                                             <td>(1.2016)</td>                                                 <td>(1.3232)</td>                                                 <td>(0.4134)</td>                                                 <td>(0.3688)</td>                                                 <td>(0.4620)</td>                                                 <td>(0.4687)</td>                                                 <td>(0.9752)</td>                                                 <td>(0.9936)</td>                        \n",
       "</tr>\n",
       "<tr>\n",
       "  <th>America</th>                                                                       <td>9.3838***</td>                                                <td>8.1881***</td>                                                <td>0.8946**</td>                                                  <td>0.7863*</td>                                                 <td>1.1305**</td>                                                  <td>0.8380</td>                                                   <td>0.7539</td>                                                   <td>0.5687</td>                         \n",
       "</tr>\n",
       "<tr>\n",
       "  <th> </th>                                                                             <td>(1.7176)</td>                                                 <td>(1.9626)</td>                                                 <td>(0.3703)</td>                                                 <td>(0.4141)</td>                                                 <td>(0.4982)</td>                                                 <td>(0.6977)</td>                                                 <td>(0.5405)</td>                                                 <td>(0.6238)</td>                        \n",
       "</tr>\n",
       "<tr>\n",
       "  <th>Asia</th>                                                                          <td>8.2980***</td>                                                <td>7.5662***</td>                                                 <td>-0.0681</td>                                                  <td>0.0315</td>                                                   <td>0.2195</td>                                                   <td>-0.0131</td>                                                  <td>0.4279</td>                                                   <td>0.3048</td>                         \n",
       "</tr>\n",
       "<tr>\n",
       "  <th> </th>                                                                             <td>(1.2200)</td>                                                 <td>(1.3633)</td>                                                 <td>(0.3795)</td>                                                 <td>(0.3256)</td>                                                 <td>(0.4842)</td>                                                 <td>(0.5738)</td>                                                 <td>(1.0328)</td>                                                 <td>(1.0489)</td>                        \n",
       "</tr>\n",
       "<tr>\n",
       "  <th>Rule of law</th>                                                                   <td>1.4323***</td>                                                <td>1.1489**</td>                                                 <td>1.3818***</td>                                                <td>1.2183***</td>                                                <td>1.1929***</td>                                                <td>1.1806***</td>                                                <td>1.4871***</td>                                                <td>1.3355**</td>                        \n",
       "</tr>\n",
       "<tr>\n",
       "  <th> </th>                                                                             <td>(0.5478)</td>                                                 <td>(0.5328)</td>                                                 <td>(0.4813)</td>                                                 <td>(0.4019)</td>                                                 <td>(0.2911)</td>                                                 <td>(0.3154)</td>                                                 <td>(0.5583)</td>                                                 <td>(0.6203)</td>                        \n",
       "</tr>\n",
       "<tr>\n",
       "  <th>Years of schooling</th>                                                             <td>0.0340</td>                                                   <td>0.1743</td>                                                   <td>-0.0425</td>                                                  <td>0.0407</td>                                                   <td>0.0091</td>                                                   <td>0.1197</td>                                                   <td>0.1194</td>                                                   <td>0.1966</td>                         \n",
       "</tr>\n",
       "<tr>\n",
       "  <th> </th>                                                                             <td>(0.1771)</td>                                                 <td>(0.2156)</td>                                                 <td>(0.1573)</td>                                                 <td>(0.1934)</td>                                                 <td>(0.1212)</td>                                                 <td>(0.2213)</td>                                                 <td>(0.1798)</td>                                                 <td>(0.2163)</td>                        \n",
       "</tr>\n",
       "<tr>\n",
       "  <th>British colony</th>                                                                <td>        </td>                                                  <td>-0.3018</td>                                                 <td>        </td>                                                  <td>-0.0975</td>                                                 <td>        </td>                                                  <td>-0.2836</td>                                                 <td>        </td>                                                  <td>-0.3181</td>                        \n",
       "</tr>\n",
       "<tr>\n",
       "  <th> </th>                                                                             <td>        </td>                                                 <td>(0.3299)</td>                                                 <td>        </td>                                                 <td>(0.3733)</td>                                                 <td>        </td>                                                 <td>(0.5056)</td>                                                 <td>        </td>                                                 <td>(0.3399)</td>                        \n",
       "</tr>\n",
       "<tr>\n",
       "  <th>French colony</th>                                                                 <td>        </td>                                                  <td>0.0061</td>                                                  <td>        </td>                                                  <td>0.2099</td>                                                  <td>        </td>                                                  <td>0.1088</td>                                                  <td>        </td>                                                  <td>0.0061</td>                         \n",
       "</tr>\n",
       "<tr>\n",
       "  <th> </th>                                                                             <td>        </td>                                                 <td>(0.3040)</td>                                                 <td>        </td>                                                 <td>(0.3559)</td>                                                 <td>        </td>                                                 <td>(0.3119)</td>                                                 <td>        </td>                                                 <td>(0.3238)</td>                        \n",
       "</tr>\n",
       "<tr>\n",
       "  <th>Intercept</th>                                                                     <td>        </td>                                                 <td>        </td>                                                 <td>9.3382***</td>                                                <td>8.7213***</td>                                                <td>10.624***</td>                                                <td>11.009***</td>                                                <td>7.2567***</td>                                                <td>7.0893***</td>                       \n",
       "</tr>\n",
       "<tr>\n",
       "  <th> </th>                                                                             <td>        </td>                                                 <td>        </td>                                                 <td>(1.2458)</td>                                                 <td>(1.4071)</td>                                                 <td>(2.0035)</td>                                                 <td>(2.0034)</td>                                                 <td>(1.3768)</td>                                                 <td>(1.5098)</td>                        \n",
       "</tr>\n",
       "<tr>\n",
       "  <th>Falciparum malaria index 1994</th>                                                 <td>        </td>                                                 <td>        </td>                                                 <td>-1.0424**</td>                                                <td>-0.9984*</td>                                                 <td>        </td>                                                 <td>        </td>                                                 <td>        </td>                                                 <td>        </td>                        \n",
       "</tr>\n",
       "<tr>\n",
       "  <th> </th>                                                                             <td>        </td>                                                 <td>        </td>                                                 <td>(0.5023)</td>                                                 <td>(0.5639)</td>                                                 <td>        </td>                                                 <td>        </td>                                                 <td>        </td>                                                 <td>        </td>                        \n",
       "</tr>\n",
       "<tr>\n",
       "  <th>temp1</th>                                                                         <td>        </td>                                                 <td>        </td>                                                 <td>        </td>                                                 <td>        </td>                                                  <td>0.1469</td>                                                   <td>0.1057</td>                                                  <td>        </td>                                                 <td>        </td>                        \n",
       "</tr>\n",
       "<tr>\n",
       "  <th> </th>                                                                             <td>        </td>                                                 <td>        </td>                                                 <td>        </td>                                                 <td>        </td>                                                 <td>(0.1981)</td>                                                 <td>(0.1978)</td>                                                 <td>        </td>                                                 <td>        </td>                        \n",
       "</tr>\n",
       "<tr>\n",
       "  <th>temp2</th>                                                                         <td>        </td>                                                 <td>        </td>                                                 <td>        </td>                                                 <td>        </td>                                                  <td>-0.0463</td>                                                  <td>-0.0418</td>                                                 <td>        </td>                                                 <td>        </td>                        \n",
       "</tr>\n",
       "<tr>\n",
       "  <th> </th>                                                                             <td>        </td>                                                 <td>        </td>                                                 <td>        </td>                                                 <td>        </td>                                                 <td>(0.0326)</td>                                                 <td>(0.0347)</td>                                                 <td>        </td>                                                 <td>        </td>                        \n",
       "</tr>\n",
       "<tr>\n",
       "  <th>temp3</th>                                                                         <td>        </td>                                                 <td>        </td>                                                 <td>        </td>                                                 <td>        </td>                                                  <td>-0.0282</td>                                                  <td>-0.0224</td>                                                 <td>        </td>                                                 <td>        </td>                        \n",
       "</tr>\n",
       "<tr>\n",
       "  <th> </th>                                                                             <td>        </td>                                                 <td>        </td>                                                 <td>        </td>                                                 <td>        </td>                                                 <td>(0.0958)</td>                                                 <td>(0.0853)</td>                                                 <td>        </td>                                                 <td>        </td>                        \n",
       "</tr>\n",
       "<tr>\n",
       "  <th>temp4</th>                                                                         <td>        </td>                                                 <td>        </td>                                                 <td>        </td>                                                 <td>        </td>                                                  <td>-0.0593</td>                                                  <td>-0.0492</td>                                                 <td>        </td>                                                 <td>        </td>                        \n",
       "</tr>\n",
       "<tr>\n",
       "  <th> </th>                                                                             <td>        </td>                                                 <td>        </td>                                                 <td>        </td>                                                 <td>        </td>                                                 <td>(0.0862)</td>                                                 <td>(0.0805)</td>                                                 <td>        </td>                                                 <td>        </td>                        \n",
       "</tr>\n",
       "<tr>\n",
       "  <th>temp5</th>                                                                         <td>        </td>                                                 <td>        </td>                                                 <td>        </td>                                                 <td>        </td>                                                  <td>-0.0418</td>                                                  <td>-0.0171</td>                                                 <td>        </td>                                                 <td>        </td>                        \n",
       "</tr>\n",
       "<tr>\n",
       "  <th> </th>                                                                             <td>        </td>                                                 <td>        </td>                                                 <td>        </td>                                                 <td>        </td>                                                 <td>(0.0326)</td>                                                 <td>(0.0509)</td>                                                 <td>        </td>                                                 <td>        </td>                        \n",
       "</tr>\n",
       "<tr>\n",
       "  <th>humid1</th>                                                                        <td>        </td>                                                 <td>        </td>                                                 <td>        </td>                                                 <td>        </td>                                                  <td>-0.0027</td>                                                  <td>-0.0064</td>                                                 <td>        </td>                                                 <td>        </td>                        \n",
       "</tr>\n",
       "<tr>\n",
       "  <th> </th>                                                                             <td>        </td>                                                 <td>        </td>                                                 <td>        </td>                                                 <td>        </td>                                                 <td>(0.0208)</td>                                                 <td>(0.0221)</td>                                                 <td>        </td>                                                 <td>        </td>                        \n",
       "</tr>\n",
       "<tr>\n",
       "  <th>humid2</th>                                                                        <td>        </td>                                                 <td>        </td>                                                 <td>        </td>                                                 <td>        </td>                                                  <td>-0.0108</td>                                                  <td>-0.0162</td>                                                 <td>        </td>                                                 <td>        </td>                        \n",
       "</tr>\n",
       "<tr>\n",
       "  <th> </th>                                                                             <td>        </td>                                                 <td>        </td>                                                 <td>        </td>                                                 <td>        </td>                                                 <td>(0.0297)</td>                                                 <td>(0.0286)</td>                                                 <td>        </td>                                                 <td>        </td>                        \n",
       "</tr>\n",
       "<tr>\n",
       "  <th>humid3</th>                                                                        <td>        </td>                                                 <td>        </td>                                                 <td>        </td>                                                 <td>        </td>                                                  <td>0.0345</td>                                                   <td>0.0302</td>                                                  <td>        </td>                                                 <td>        </td>                        \n",
       "</tr>\n",
       "<tr>\n",
       "  <th> </th>                                                                             <td>        </td>                                                 <td>        </td>                                                 <td>        </td>                                                 <td>        </td>                                                 <td>(0.0225)</td>                                                 <td>(0.0241)</td>                                                 <td>        </td>                                                 <td>        </td>                        \n",
       "</tr>\n",
       "<tr>\n",
       "  <th>humid4</th>                                                                        <td>        </td>                                                 <td>        </td>                                                 <td>        </td>                                                 <td>        </td>                                                  <td>-0.0369</td>                                                  <td>-0.0330</td>                                                 <td>        </td>                                                 <td>        </td>                        \n",
       "</tr>\n",
       "<tr>\n",
       "  <th> </th>                                                                             <td>        </td>                                                 <td>        </td>                                                 <td>        </td>                                                 <td>        </td>                                                 <td>(0.0238)</td>                                                 <td>(0.0262)</td>                                                 <td>        </td>                                                 <td>        </td>                        \n",
       "</tr>\n",
       "<tr>\n",
       "  <th>Catholic affiliation</th>                                                          <td>        </td>                                                 <td>        </td>                                                 <td>        </td>                                                 <td>        </td>                                                 <td>        </td>                                                 <td>        </td>                                                  <td>0.0117</td>                                                   <td>0.0085</td>                         \n",
       "</tr>\n",
       "<tr>\n",
       "  <th> </th>                                                                             <td>        </td>                                                 <td>        </td>                                                 <td>        </td>                                                 <td>        </td>                                                 <td>        </td>                                                 <td>        </td>                                                 <td>(0.0108)</td>                                                 <td>(0.0114)</td>                        \n",
       "</tr>\n",
       "<tr>\n",
       "  <th>Protestant affiliation</th>                                                        <td>        </td>                                                 <td>        </td>                                                 <td>        </td>                                                 <td>        </td>                                                 <td>        </td>                                                 <td>        </td>                                                  <td>0.0059</td>                                                   <td>0.0044</td>                         \n",
       "</tr>\n",
       "<tr>\n",
       "  <th> </th>                                                                             <td>        </td>                                                 <td>        </td>                                                 <td>        </td>                                                 <td>        </td>                                                 <td>        </td>                                                 <td>        </td>                                                 <td>(0.0120)</td>                                                 <td>(0.0123)</td>                        \n",
       "</tr>\n",
       "<tr>\n",
       "  <th>Muslim affiliation</th>                                                            <td>        </td>                                                 <td>        </td>                                                 <td>        </td>                                                 <td>        </td>                                                 <td>        </td>                                                 <td>        </td>                                                  <td>0.0078</td>                                                   <td>0.0083*</td>                        \n",
       "</tr>\n",
       "<tr>\n",
       "  <th> </th>                                                                             <td>        </td>                                                 <td>        </td>                                                 <td>        </td>                                                 <td>        </td>                                                 <td>        </td>                                                 <td>        </td>                                                 <td>(0.0056)</td>                                                 <td>(0.0050)</td>                        \n",
       "</tr>\n",
       "<tr>\n",
       "  <th>=====================================================</th> <td>========================================================</td> <td>========================================================</td> <td>========================================================</td> <td>========================================================</td> <td>========================================================</td> <td>========================================================</td> <td>========================================================</td> <td>========================================================</td>\n",
       "</tr>\n",
       "<tr>\n",
       "  <th>Instruments</th>                                                    <td>Log capped potential settler mortality</td>                   <td>Log capped potential settler mortality</td>                   <td>Log capped potential settler mortality</td>                   <td>Log capped potential settler mortality</td>                   <td>Log capped potential settler mortality</td>                   <td>Log capped potential settler mortality</td>                   <td>Log capped potential settler mortality</td>                   <td>Log capped potential settler mortality</td>         \n",
       "</tr>\n",
       "<tr>\n",
       "  <th></th>                                                                     <td>Log population density 1500</td>                              <td>Log population density 1500</td>                              <td>Log population density 1500</td>                              <td>Log population density 1500</td>                              <td>Log population density 1500</td>                              <td>Log population density 1500</td>                              <td>Log population density 1500</td>                              <td>Log population density 1500</td>              \n",
       "</tr>\n",
       "<tr>\n",
       "  <th></th>                                                                     <td>Primary enrollment in 1900</td>                               <td>Primary enrollment in 1900</td>                               <td>Primary enrollment in 1900</td>                               <td>Primary enrollment in 1900</td>                               <td>Primary enrollment in 1900</td>                               <td>Primary enrollment in 1900</td>                               <td>Primary enrollment in 1900</td>                               <td>Primary enrollment in 1900</td>               \n",
       "</tr>\n",
       "<tr>\n",
       "  <th></th>                                                       <td>Protestant missionaries in the early twentieth century</td>   <td>Protestant missionaries in the early twentieth century</td>   <td>Protestant missionaries in the early twentieth century</td>   <td>Protestant missionaries in the early twentieth century</td>   <td>Protestant missionaries in the early twentieth century</td>   <td>Protestant missionaries in the early twentieth century</td>   <td>Protestant missionaries in the early twentieth century</td>   <td>Protestant missionaries in the early twentieth century</td> \n",
       "</tr>\n",
       "</table><br/><br/>Std. Errors reported in parentheses<br/>id: 0x215888205b0"
      ],
      "text/plain": [
       "                                                                                                                                                                                                                                                       Model Comparison                                                                                                                                                                                                                                                      \n",
       "=============================================================================================================================================================================================================================================================================================================================================================================================================================================================================================================================\n",
       "                                                                                                       Model 0                                                  Model 1                                                  Model 2                                                  Model 3                                                  Model 4                                                  Model 5                                                  Model 6                                                  Model 7\n",
       "-----------------------------------------------------------------------------------------------------------------------------------------------------------------------------------------------------------------------------------------------------------------------------------------------------------------------------------------------------------------------------------------------------------------------------------------------------------------------------------------------------------------------------\n",
       "Dep. Variable                                                                               Log GDP per capita                                       Log GDP per capita                                       Log GDP per capita                                       Log GDP per capita                                       Log GDP per capita                                       Log GDP per capita                                       Log GDP per capita                                       Log GDP per capita\n",
       "Estimator                                                                                              IV-LIML                                                  IV-LIML                                                  IV-LIML                                                  IV-LIML                                                  IV-LIML                                                  IV-LIML                                                  IV-LIML                                                  IV-LIML\n",
       "No. Observations                                                                                            58                                                       58                                                       61                                                       61                                                       62                                                       62                                                       62                                                       62\n",
       "Cov. Est.                                                                                               robust                                                   robust                                                   robust                                                   robust                                                   robust                                                   robust                                                   robust                                                   robust\n",
       "R-squared                                                                                               0.4641                                                   0.5921                                                   0.5940                                                   0.6706                                                   0.7505                                                   0.7544                                                   0.5899                                                   0.6393\n",
       "Adj. R-squared                                                                                          0.4011                                                   0.5255                                                   0.5316                                                   0.6047                                                   0.6617                                                   0.6516                                                   0.5095                                                   0.5509\n",
       "F-statistic                                                                                         -3.876e+17                                                9.659e+16                                                   614.72                                                   804.27                                                   1304.4                                                   1140.4                                                   553.76                                                   825.68\n",
       "P-value (F-stat)                                                                                        1.0000                                                   0.0000                                                   0.0000                                                   0.0000                                                   0.0000                                                   0.0000                                                   0.0000                                                   0.0000\n",
       "===================================================                                       ====================                                     ====================                                     ====================                                     ====================                                     ====================                                     ====================                                     ====================                                     ====================\n",
       "Dummy for different source of Protestant missions                                                    7.7215***                                                6.9283***                                                  -0.3140                                                  -0.3622                                                  -0.5730                                                  -0.9789                                                 -1.0551*                                                 -1.0409*\n",
       "                                                                                                      (1.3595)                                                 (1.5431)                                                 (0.9289)                                                 (0.8829)                                                 (0.6824)                                                 (0.8774)                                                 (0.6278)                                                 (0.5746)\n",
       "Latitude                                                                                               -0.7109                                                  -0.3096                                                  -2.0610                                                  -1.9121                                                 -1.9418*                                                 -2.0436*                                                  -2.0449                                                  -1.8464\n",
       "                                                                                                      (1.2230)                                                 (1.2008)                                                 (1.4005)                                                 (1.5703)                                                 (1.0759)                                                 (1.1705)                                                 (1.7248)                                                 (1.8220)\n",
       "Africa                                                                                               8.3819***                                                7.6649***                                                   0.2936                                                   0.3448                                                   0.1242                                                   0.1478                                                   0.7427                                                   0.5702\n",
       "                                                                                                      (1.2016)                                                 (1.3232)                                                 (0.4134)                                                 (0.3688)                                                 (0.4620)                                                 (0.4687)                                                 (0.9752)                                                 (0.9936)\n",
       "America                                                                                              9.3838***                                                8.1881***                                                 0.8946**                                                  0.7863*                                                 1.1305**                                                   0.8380                                                   0.7539                                                   0.5687\n",
       "                                                                                                      (1.7176)                                                 (1.9626)                                                 (0.3703)                                                 (0.4141)                                                 (0.4982)                                                 (0.6977)                                                 (0.5405)                                                 (0.6238)\n",
       "Asia                                                                                                 8.2980***                                                7.5662***                                                  -0.0681                                                   0.0315                                                   0.2195                                                  -0.0131                                                   0.4279                                                   0.3048\n",
       "                                                                                                      (1.2200)                                                 (1.3633)                                                 (0.3795)                                                 (0.3256)                                                 (0.4842)                                                 (0.5738)                                                 (1.0328)                                                 (1.0489)\n",
       "Rule of law                                                                                          1.4323***                                                 1.1489**                                                1.3818***                                                1.2183***                                                1.1929***                                                1.1806***                                                1.4871***                                                 1.3355**\n",
       "                                                                                                      (0.5478)                                                 (0.5328)                                                 (0.4813)                                                 (0.4019)                                                 (0.2911)                                                 (0.3154)                                                 (0.5583)                                                 (0.6203)\n",
       "Years of schooling                                                                                      0.0340                                                   0.1743                                                  -0.0425                                                   0.0407                                                   0.0091                                                   0.1197                                                   0.1194                                                   0.1966\n",
       "                                                                                                      (0.1771)                                                 (0.2156)                                                 (0.1573)                                                 (0.1934)                                                 (0.1212)                                                 (0.2213)                                                 (0.1798)                                                 (0.2163)\n",
       "British colony                                                                                                                                                  -0.3018                                                                                                           -0.0975                                                                                                           -0.2836                                                                                                           -0.3181\n",
       "                                                                                                                                                               (0.3299)                                                                                                          (0.3733)                                                                                                          (0.5056)                                                                                                          (0.3399)\n",
       "French colony                                                                                                                                                    0.0061                                                                                                            0.2099                                                                                                            0.1088                                                                                                            0.0061\n",
       "                                                                                                                                                               (0.3040)                                                                                                          (0.3559)                                                                                                          (0.3119)                                                                                                          (0.3238)\n",
       "Intercept                                                                                                                                                                                                              9.3382***                                                8.7213***                                                10.624***                                                11.009***                                                7.2567***                                                7.0893***\n",
       "                                                                                                                                                                                                                        (1.2458)                                                 (1.4071)                                                 (2.0035)                                                 (2.0034)                                                 (1.3768)                                                 (1.5098)\n",
       "Falciparum malaria index 1994                                                                                                                                                                                          -1.0424**                                                 -0.9984*                                                                                                                                                                                                                                    \n",
       "                                                                                                                                                                                                                        (0.5023)                                                 (0.5639)                                                                                                                                                                                                                                    \n",
       "temp1                                                                                                                                                                                                                                                                                                                                       0.1469                                                   0.1057                                                                                                                  \n",
       "                                                                                                                                                                                                                                                                                                                                          (0.1981)                                                 (0.1978)                                                                                                                  \n",
       "temp2                                                                                                                                                                                                                                                                                                                                      -0.0463                                                  -0.0418                                                                                                                  \n",
       "                                                                                                                                                                                                                                                                                                                                          (0.0326)                                                 (0.0347)                                                                                                                  \n",
       "temp3                                                                                                                                                                                                                                                                                                                                      -0.0282                                                  -0.0224                                                                                                                  \n",
       "                                                                                                                                                                                                                                                                                                                                          (0.0958)                                                 (0.0853)                                                                                                                  \n",
       "temp4                                                                                                                                                                                                                                                                                                                                      -0.0593                                                  -0.0492                                                                                                                  \n",
       "                                                                                                                                                                                                                                                                                                                                          (0.0862)                                                 (0.0805)                                                                                                                  \n",
       "temp5                                                                                                                                                                                                                                                                                                                                      -0.0418                                                  -0.0171                                                                                                                  \n",
       "                                                                                                                                                                                                                                                                                                                                          (0.0326)                                                 (0.0509)                                                                                                                  \n",
       "humid1                                                                                                                                                                                                                                                                                                                                     -0.0027                                                  -0.0064                                                                                                                  \n",
       "                                                                                                                                                                                                                                                                                                                                          (0.0208)                                                 (0.0221)                                                                                                                  \n",
       "humid2                                                                                                                                                                                                                                                                                                                                     -0.0108                                                  -0.0162                                                                                                                  \n",
       "                                                                                                                                                                                                                                                                                                                                          (0.0297)                                                 (0.0286)                                                                                                                  \n",
       "humid3                                                                                                                                                                                                                                                                                                                                      0.0345                                                   0.0302                                                                                                                  \n",
       "                                                                                                                                                                                                                                                                                                                                          (0.0225)                                                 (0.0241)                                                                                                                  \n",
       "humid4                                                                                                                                                                                                                                                                                                                                     -0.0369                                                  -0.0330                                                                                                                  \n",
       "                                                                                                                                                                                                                                                                                                                                          (0.0238)                                                 (0.0262)                                                                                                                  \n",
       "Catholic affiliation                                                                                                                                                                                                                                                                                                                                                                                                                                          0.0117                                                   0.0085\n",
       "                                                                                                                                                                                                                                                                                                                                                                                                                                                            (0.0108)                                                 (0.0114)\n",
       "Protestant affiliation                                                                                                                                                                                                                                                                                                                                                                                                                                        0.0059                                                   0.0044\n",
       "                                                                                                                                                                                                                                                                                                                                                                                                                                                            (0.0120)                                                 (0.0123)\n",
       "Muslim affiliation                                                                                                                                                                                                                                                                                                                                                                                                                                            0.0078                                                  0.0083*\n",
       "                                                                                                                                                                                                                                                                                                                                                                                                                                                            (0.0056)                                                 (0.0050)\n",
       "===================================================== ======================================================== ======================================================== ======================================================== ======================================================== ======================================================== ======================================================== ======================================================== ========================================================\n",
       "Instruments                                                             Log capped potential settler mortality                   Log capped potential settler mortality                   Log capped potential settler mortality                   Log capped potential settler mortality                   Log capped potential settler mortality                   Log capped potential settler mortality                   Log capped potential settler mortality                   Log capped potential settler mortality\n",
       "                                                                                   Log population density 1500                              Log population density 1500                              Log population density 1500                              Log population density 1500                              Log population density 1500                              Log population density 1500                              Log population density 1500                              Log population density 1500\n",
       "                                                                                    Primary enrollment in 1900                               Primary enrollment in 1900                               Primary enrollment in 1900                               Primary enrollment in 1900                               Primary enrollment in 1900                               Primary enrollment in 1900                               Primary enrollment in 1900                               Primary enrollment in 1900\n",
       "                                                        Protestant missionaries in the early twentieth century   Protestant missionaries in the early twentieth century   Protestant missionaries in the early twentieth century   Protestant missionaries in the early twentieth century   Protestant missionaries in the early twentieth century   Protestant missionaries in the early twentieth century   Protestant missionaries in the early twentieth century   Protestant missionaries in the early twentieth century\n",
       "-----------------------------------------------------------------------------------------------------------------------------------------------------------------------------------------------------------------------------------------------------------------------------------------------------------------------------------------------------------------------------------------------------------------------------------------------------------------------------------------------------------------------------\n",
       "\n",
       "Std. Errors reported in parentheses\n",
       "IVModelComparison, id: 0x215888205b0"
      ]
     },
     "metadata": {},
     "output_type": "display_data"
    }
   ],
   "source": [
    "table7=get_table7(country_data)\n",
    "display(table7)"
   ]
  },
  {
   "cell_type": "markdown",
   "id": "319d146d-a26e-4ba2-b9ed-492136863d96",
   "metadata": {},
   "source": [
    "##### 4.4 Does Human Capital Cause Institutions <a class=\"anchor\" id=\"does_human_capital_cause_institutions\"></a>   "
   ]
  },
  {
   "cell_type": "markdown",
   "id": "c677374c-7b95-44cf-a166-7a3bc6556142",
   "metadata": {},
   "source": [
    "In this chapter, the authors examine if human capital causes current institutional differences. For this purpose, the authors run 2SLS regressions where the rule of law index is dependent variable, and years of schooling is endogenous variable instrumented by primary school enrollment in 1900 and Protestant missionary activities in the early twentieth century. The second-stage results are presented in **[Table 8](#table_8)**. The firs-stage results are not presented here to save the space as the results are the same as the firs-stage results in **[Table 4](#table_4)**. The results in **[Table 8](#table_8)** are similar to the ones in **[Table 4](#table_4)**. In the first four columns, there is a possitive correlation between years of schooling and the rule of law index. However, after addition of settler mortality and log population density in 1500 to the models in Columns 4-8, the coefficietn of years of schooling becomes insignificant and for some results, the sign is negative. The second table (columns 9-12 in the original paper) represents the results of LIML estimations. The results are similar to those in columns 5-8. As a result, the regressions suggest that there is no casual impact of human capital on institutions even though human capital and institutions are positively correlated."
   ]
  },
  {
   "cell_type": "markdown",
   "id": "12cdbf6f-5bdb-4fbd-95c0-5c3cfcda652a",
   "metadata": {},
   "source": [
    "##### Table 8 Effects of years of schooling on institutions, second-stage regression, cross-country sample <a class=\"anchor\" id=\"table_8\"></a>  "
   ]
  },
  {
   "cell_type": "code",
   "execution_count": 10,
   "id": "4f0c0650-b4f7-4f48-b6aa-d7ed23cefab4",
   "metadata": {},
   "outputs": [
    {
     "name": "stderr",
     "output_type": "stream",
     "text": [
      "C:\\Users\\user\\anaconda3\\lib\\site-packages\\pandas\\core\\indexing.py:1597: SettingWithCopyWarning: \n",
      "A value is trying to be set on a copy of a slice from a DataFrame.\n",
      "Try using .loc[row_indexer,col_indexer] = value instead\n",
      "\n",
      "See the caveats in the documentation: https://pandas.pydata.org/pandas-docs/stable/user_guide/indexing.html#returning-a-view-versus-a-copy\n",
      "  self.obj[key] = value\n",
      "C:\\Users\\user\\anaconda3\\lib\\site-packages\\pandas\\core\\indexing.py:1720: SettingWithCopyWarning: \n",
      "A value is trying to be set on a copy of a slice from a DataFrame.\n",
      "Try using .loc[row_indexer,col_indexer] = value instead\n",
      "\n",
      "See the caveats in the documentation: https://pandas.pydata.org/pandas-docs/stable/user_guide/indexing.html#returning-a-view-versus-a-copy\n",
      "  self._setitem_single_column(loc, value, pi)\n",
      "C:\\Users\\user\\anaconda3\\lib\\site-packages\\pandas\\core\\indexing.py:1676: SettingWithCopyWarning: \n",
      "A value is trying to be set on a copy of a slice from a DataFrame.\n",
      "Try using .loc[row_indexer,col_indexer] = value instead\n",
      "\n",
      "See the caveats in the documentation: https://pandas.pydata.org/pandas-docs/stable/user_guide/indexing.html#returning-a-view-versus-a-copy\n",
      "  self._setitem_single_column(ilocs[0], value, pi)\n",
      "C:\\Users\\user\\anaconda3\\lib\\site-packages\\pandas\\core\\indexing.py:1597: SettingWithCopyWarning: \n",
      "A value is trying to be set on a copy of a slice from a DataFrame.\n",
      "Try using .loc[row_indexer,col_indexer] = value instead\n",
      "\n",
      "See the caveats in the documentation: https://pandas.pydata.org/pandas-docs/stable/user_guide/indexing.html#returning-a-view-versus-a-copy\n",
      "  self.obj[key] = value\n",
      "C:\\Users\\user\\anaconda3\\lib\\site-packages\\pandas\\core\\indexing.py:1720: SettingWithCopyWarning: \n",
      "A value is trying to be set on a copy of a slice from a DataFrame.\n",
      "Try using .loc[row_indexer,col_indexer] = value instead\n",
      "\n",
      "See the caveats in the documentation: https://pandas.pydata.org/pandas-docs/stable/user_guide/indexing.html#returning-a-view-versus-a-copy\n",
      "  self._setitem_single_column(loc, value, pi)\n"
     ]
    },
    {
     "data": {
      "text/html": [
       "Table 8, Effects of years of schooling on institutions, second-stage regression, cross-country sample <br><table style=\"text-align:center\"><tr><td colspan=\"9\" style=\"border-bottom: 1px solid black\"></td></tr><tr><td style=\"text-align:left\"></td><td colspan=\"8\"><em>Dependent Variable: rule of law </em></td></tr><tr><td style=\"text-align:left\"></td><td colspan=\"8\">2SLS</td></tr><tr><td style=\"text-align:left\"></td><td>(1)</td><td>(2)</td><td>(3)</td><td>(4)</td><td>(5)</td><td>(6)</td><td>(7)</td><td>(8)</td></tr><tr><td colspan=\"9\" style=\"border-bottom: 1px solid black\"></td></tr><tr><td style=\"text-align:left\">Years of schooling</td><td>0.081<sup>**</sup></td><td>0.073<sup>*</sup></td><td>0.173<sup>**</sup></td><td>0.163<sup></sup></td><td>-0.021<sup></sup></td><td>-0.028<sup></sup></td><td>0.086<sup></sup></td><td>0.039<sup></sup></td></tr><tr><td style=\"text-align:left\"></td><td>(0.041)</td><td>(0.041)</td><td>(0.077)</td><td>(0.103)</td><td>(0.082)</td><td>(0.083)</td><td>(0.083)</td><td>(0.115)</td></tr><tr><td style=\"text-align:left\">Dummy for different source of protestant missionaries</td><td>1.706<sup>***</sup></td><td>1.376<sup>***</sup></td><td>0.691<sup></sup></td><td>0.703<sup></sup></td><td>1.317<sup>***</sup></td><td>1.177<sup>***</sup></td><td>0.616<sup></sup></td><td>0.640<sup></sup></td></tr><tr><td style=\"text-align:left\"></td><td>(0.298)</td><td>(0.376)</td><td>(0.522)</td><td>(0.548)</td><td>(0.332)</td><td>(0.390)</td><td>(0.621)</td><td>(0.629)</td></tr><tr><td style=\"text-align:left\">Latitude</td><td></td><td>1.309<sup></sup></td><td>1.525<sup></sup></td><td>1.508<sup></sup></td><td></td><td>0.724<sup></sup></td><td>1.369<sup></sup></td><td>1.301<sup></sup></td></tr><tr><td style=\"text-align:left\"></td><td></td><td>(0.921)</td><td>(0.933)</td><td>(1.000)</td><td></td><td>(0.941)</td><td>(0.947)</td><td>(1.043)</td></tr><tr><td style=\"text-align:left\">Africa</td><td></td><td></td><td>-0.095<sup></sup></td><td>-0.133<sup></sup></td><td></td><td></td><td>-0.204<sup></sup></td><td>-0.375<sup></sup></td></tr><tr><td style=\"text-align:left\"></td><td></td><td></td><td>(0.305)</td><td>(0.345)</td><td></td><td></td><td>(0.535)</td><td>(0.585)</td></tr><tr><td style=\"text-align:left\">America</td><td></td><td></td><td>-0.558<sup>***</sup></td><td>-0.541<sup>**</sup></td><td></td><td></td><td>-0.649<sup></sup></td><td>-0.619<sup></sup></td></tr><tr><td style=\"text-align:left\"></td><td></td><td></td><td>(0.195)</td><td>(0.212)</td><td></td><td></td><td>(0.463)</td><td>(0.481)</td></tr><tr><td style=\"text-align:left\">Asia</td><td></td><td></td><td>0.208<sup></sup></td><td>0.179<sup></sup></td><td></td><td></td><td>0.099<sup></sup></td><td>-0.026<sup></sup></td></tr><tr><td style=\"text-align:left\"></td><td></td><td></td><td>(0.401)</td><td>(0.396)</td><td></td><td></td><td>(0.509)</td><td>(0.520)</td></tr><tr><td style=\"text-align:left\">French Colony</td><td></td><td></td><td></td><td>0.030<sup></sup></td><td></td><td></td><td></td><td>0.116<sup></sup></td></tr><tr><td style=\"text-align:left\"></td><td></td><td></td><td></td><td>(0.217)</td><td></td><td></td><td></td><td>(0.236)</td></tr><tr><td style=\"text-align:left\">British colony</td><td></td><td></td><td></td><td>0.061<sup></sup></td><td></td><td></td><td></td><td>0.217<sup></sup></td></tr><tr><td style=\"text-align:left\"></td><td></td><td></td><td></td><td>(0.251)</td><td></td><td></td><td></td><td>(0.260)</td></tr><tr><td style=\"text-align:left\">Log capped potential settler mortality</td><td></td><td></td><td></td><td></td><td>-0.425<sup>**</sup></td><td>-0.406<sup>*</sup></td><td>-0.180<sup></sup></td><td>-0.197<sup></sup></td></tr><tr><td style=\"text-align:left\"></td><td></td><td></td><td></td><td></td><td>(0.188)</td><td>(0.213)</td><td>(0.134)</td><td>(0.137)</td></tr><tr><td style=\"text-align:left\">log population density in 1500</td><td></td><td></td><td></td><td></td><td>-0.065<sup></sup></td><td>-0.072<sup></sup></td><td>-0.105<sup></sup></td><td>-0.124<sup>*</sup></td></tr><tr><td style=\"text-align:left\"></td><td></td><td></td><td></td><td></td><td>(0.070)</td><td>(0.072)</td><td>(0.070)</td><td>(0.074)</td></tr><tr><td style=\"text-align: left\">Over‐identification test (p‐value)</td><td>0.81</td><td>0.57</td><td>0.93</td><td>0.93</td><td>0.84</td><td>0.63</td><td>0.8</td><td>0.8</td></tr><td colspan=\"9\" style=\"border-bottom: 1px solid black\"></td></tr><tr><td style=\"text-align: left\">Observations</td><td>62</td><td>62</td><td>62</td><td>62</td><td>62</td><td>62</td><td>62</td><td>62</td></tr><tr><td colspan=\"9\" style=\"border-bottom: 1px solid black\"></td></tr><tr><td style=\"text-align: left\">Note:</td>\n",
       " <td colspan=\"8\" style=\"text-align: right\">\n",
       "  <sup>*</sup>p&lt;0.1;\n",
       "  <sup>**</sup>p&lt;0.05;\n",
       "  <sup>***</sup>p&lt;0.01\n",
       " </td></tr></table>"
      ],
      "text/plain": [
       "<stargazer.stargazer.Stargazer at 0x21588798ee0>"
      ]
     },
     "metadata": {},
     "output_type": "display_data"
    },
    {
     "data": {
      "text/html": [
       "<table class=\"simpletable\">\n",
       "<caption>Model Comparison</caption>\n",
       "<tr>\n",
       "                            <td></td>                                                     <th>Model 0</th>                                                  <th>Model 1</th>                                                  <th>Model 2</th>                                                  <th>Model 3</th>                        \n",
       "</tr>\n",
       "<tr>\n",
       "  <th>Dep. Variable</th>                                                                <td>Rule of law</td>                                              <td>Rule of law</td>                                              <td>Rule of law</td>                                              <td>Rule of law</td>                      \n",
       "</tr>\n",
       "<tr>\n",
       "  <th>Estimator</th>                                                                      <td>IV-LIML</td>                                                  <td>IV-LIML</td>                                                  <td>IV-LIML</td>                                                  <td>IV-LIML</td>                        \n",
       "</tr>\n",
       "<tr>\n",
       "  <th>No. Observations</th>                                                                 <td>62</td>                                                       <td>62</td>                                                       <td>62</td>                                                       <td>62</td>                           \n",
       "</tr>\n",
       "<tr>\n",
       "  <th>Cov. Est.</th>                                                                      <td>robust</td>                                                   <td>robust</td>                                                   <td>robust</td>                                                   <td>robust</td>                         \n",
       "</tr>\n",
       "<tr>\n",
       "  <th>R-squared</th>                                                                      <td>0.5867</td>                                                   <td>0.5865</td>                                                   <td>0.7049</td>                                                   <td>0.6920</td>                         \n",
       "</tr>\n",
       "<tr>\n",
       "  <th>Adj. R-squared</th>                                                                 <td>0.5577</td>                                                   <td>0.5496</td>                                                   <td>0.6603</td>                                                   <td>0.6316</td>                         \n",
       "</tr>\n",
       "<tr>\n",
       "  <th>F-statistic</th>                                                                    <td>500.53</td>                                                   <td>521.09</td>                                                   <td>820.45</td>                                                   <td>678.17</td>                         \n",
       "</tr>\n",
       "<tr>\n",
       "  <th>P-value (F-stat)</th>                                                               <td>0.0000</td>                                                   <td>0.0000</td>                                                   <td>0.0000</td>                                                   <td>0.0000</td>                         \n",
       "</tr>\n",
       "<tr>\n",
       "  <th>===================================================</th>                         <td>=============</td>                                            <td>=============</td>                                            <td>=============</td>                                            <td>=============</td>                     \n",
       "</tr>\n",
       "<tr>\n",
       "  <th>Intercept</th>                                                                      <td>1.6298</td>                                                   <td>1.4913</td>                                                   <td>0.0264</td>                                                   <td>0.3867</td>                         \n",
       "</tr>\n",
       "<tr>\n",
       "  <th> </th>                                                                             <td>(1.1627)</td>                                                 <td>(1.3024)</td>                                                 <td>(0.7323)</td>                                                 <td>(0.8828)</td>                        \n",
       "</tr>\n",
       "<tr>\n",
       "  <th>Dummy for different source of Protestant missions</th>                             <td>1.3179***</td>                                                <td>1.1823***</td>                                                 <td>0.6167</td>                                                   <td>0.6422</td>                         \n",
       "</tr>\n",
       "<tr>\n",
       "  <th> </th>                                                                             <td>(0.2956)</td>                                                 <td>(0.3483)</td>                                                 <td>(0.4522)</td>                                                 <td>(0.4604)</td>                        \n",
       "</tr>\n",
       "<tr>\n",
       "  <th>Log capped potential settler mortality</th>                                       <td>-0.4258***</td>                                                <td>-0.4085**</td>                                                <td>-0.1800*</td>                                                 <td>-0.1980*</td>                        \n",
       "</tr>\n",
       "<tr>\n",
       "  <th> </th>                                                                             <td>(0.1630)</td>                                                 <td>(0.1804)</td>                                                 <td>(0.0933)</td>                                                 <td>(0.1030)</td>                        \n",
       "</tr>\n",
       "<tr>\n",
       "  <th>Log population density 1500</th>                                                    <td>-0.0652</td>                                                  <td>-0.0728</td>                                                 <td>-0.1052**</td>                                                <td>-0.1242**</td>                       \n",
       "</tr>\n",
       "<tr>\n",
       "  <th> </th>                                                                             <td>(0.0609)</td>                                                 <td>(0.0616)</td>                                                 <td>(0.0487)</td>                                                 <td>(0.0523)</td>                        \n",
       "</tr>\n",
       "<tr>\n",
       "  <th>Years of schooling</th>                                                             <td>-0.0218</td>                                                  <td>-0.0305</td>                                                  <td>0.0857</td>                                                   <td>0.0381</td>                         \n",
       "</tr>\n",
       "<tr>\n",
       "  <th> </th>                                                                             <td>(0.0721)</td>                                                 <td>(0.0730)</td>                                                 <td>(0.0625)</td>                                                 <td>(0.0879)</td>                        \n",
       "</tr>\n",
       "<tr>\n",
       "  <th>Latitude</th>                                                                      <td>        </td>                                                  <td>0.7227</td>                                                   <td>1.3689*</td>                                                  <td>1.3004</td>                         \n",
       "</tr>\n",
       "<tr>\n",
       "  <th> </th>                                                                             <td>        </td>                                                 <td>(0.8297)</td>                                                 <td>(0.7547)</td>                                                 <td>(0.8412)</td>                        \n",
       "</tr>\n",
       "<tr>\n",
       "  <th>Africa</th>                                                                        <td>        </td>                                                 <td>        </td>                                                  <td>-0.2044</td>                                                  <td>-0.3763</td>                        \n",
       "</tr>\n",
       "<tr>\n",
       "  <th> </th>                                                                             <td>        </td>                                                 <td>        </td>                                                 <td>(0.3285)</td>                                                 <td>(0.3707)</td>                        \n",
       "</tr>\n",
       "<tr>\n",
       "  <th>America</th>                                                                       <td>        </td>                                                 <td>        </td>                                                 <td>-0.6488**</td>                                                <td>-0.6179**</td>                       \n",
       "</tr>\n",
       "<tr>\n",
       "  <th> </th>                                                                             <td>        </td>                                                 <td>        </td>                                                 <td>(0.2814)</td>                                                 <td>(0.3062)</td>                        \n",
       "</tr>\n",
       "<tr>\n",
       "  <th>Asia</th>                                                                          <td>        </td>                                                 <td>        </td>                                                  <td>0.0991</td>                                                   <td>-0.0261</td>                        \n",
       "</tr>\n",
       "<tr>\n",
       "  <th> </th>                                                                             <td>        </td>                                                 <td>        </td>                                                 <td>(0.3136)</td>                                                 <td>(0.3219)</td>                        \n",
       "</tr>\n",
       "<tr>\n",
       "  <th>French colony</th>                                                                 <td>        </td>                                                 <td>        </td>                                                 <td>        </td>                                                  <td>0.1164</td>                         \n",
       "</tr>\n",
       "<tr>\n",
       "  <th> </th>                                                                             <td>        </td>                                                 <td>        </td>                                                 <td>        </td>                                                 <td>(0.1875)</td>                        \n",
       "</tr>\n",
       "<tr>\n",
       "  <th>British colony</th>                                                                <td>        </td>                                                 <td>        </td>                                                 <td>        </td>                                                  <td>0.2177</td>                         \n",
       "</tr>\n",
       "<tr>\n",
       "  <th> </th>                                                                             <td>        </td>                                                 <td>        </td>                                                 <td>        </td>                                                 <td>(0.2015)</td>                        \n",
       "</tr>\n",
       "<tr>\n",
       "  <th>=====================================================</th> <td>========================================================</td> <td>========================================================</td> <td>========================================================</td> <td>========================================================</td>\n",
       "</tr>\n",
       "<tr>\n",
       "  <th>Instruments</th>                                                        <td>Primary school enrollment 1900</td>                           <td>Primary school enrollment 1900</td>                           <td>Primary school enrollment 1900</td>                           <td>Primary school enrollment 1900</td>             \n",
       "</tr>\n",
       "<tr>\n",
       "  <th></th>                                                       <td>Protestant missionaries in the early twentieth century</td>   <td>Protestant missionaries in the early twentieth century</td>   <td>Protestant missionaries in the early twentieth century</td>   <td>Protestant missionaries in the early twentieth century</td> \n",
       "</tr>\n",
       "</table><br/><br/>Std. Errors reported in parentheses<br/>id: 0x21588711a60"
      ],
      "text/plain": [
       "                                                                                                                                     Model Comparison                                                                                                                                    \n",
       "=========================================================================================================================================================================================================================================================================================\n",
       "                                                                                                       Model 0                                                  Model 1                                                  Model 2                                                  Model 3\n",
       "-----------------------------------------------------------------------------------------------------------------------------------------------------------------------------------------------------------------------------------------------------------------------------------------\n",
       "Dep. Variable                                                                                      Rule of law                                              Rule of law                                              Rule of law                                              Rule of law\n",
       "Estimator                                                                                              IV-LIML                                                  IV-LIML                                                  IV-LIML                                                  IV-LIML\n",
       "No. Observations                                                                                            62                                                       62                                                       62                                                       62\n",
       "Cov. Est.                                                                                               robust                                                   robust                                                   robust                                                   robust\n",
       "R-squared                                                                                               0.5867                                                   0.5865                                                   0.7049                                                   0.6920\n",
       "Adj. R-squared                                                                                          0.5577                                                   0.5496                                                   0.6603                                                   0.6316\n",
       "F-statistic                                                                                             500.53                                                   521.09                                                   820.45                                                   678.17\n",
       "P-value (F-stat)                                                                                        0.0000                                                   0.0000                                                   0.0000                                                   0.0000\n",
       "===================================================                                              =============                                            =============                                            =============                                            =============\n",
       "Intercept                                                                                               1.6298                                                   1.4913                                                   0.0264                                                   0.3867\n",
       "                                                                                                      (1.1627)                                                 (1.3024)                                                 (0.7323)                                                 (0.8828)\n",
       "Dummy for different source of Protestant missions                                                    1.3179***                                                1.1823***                                                   0.6167                                                   0.6422\n",
       "                                                                                                      (0.2956)                                                 (0.3483)                                                 (0.4522)                                                 (0.4604)\n",
       "Log capped potential settler mortality                                                              -0.4258***                                                -0.4085**                                                 -0.1800*                                                 -0.1980*\n",
       "                                                                                                      (0.1630)                                                 (0.1804)                                                 (0.0933)                                                 (0.1030)\n",
       "Log population density 1500                                                                            -0.0652                                                  -0.0728                                                -0.1052**                                                -0.1242**\n",
       "                                                                                                      (0.0609)                                                 (0.0616)                                                 (0.0487)                                                 (0.0523)\n",
       "Years of schooling                                                                                     -0.0218                                                  -0.0305                                                   0.0857                                                   0.0381\n",
       "                                                                                                      (0.0721)                                                 (0.0730)                                                 (0.0625)                                                 (0.0879)\n",
       "Latitude                                                                                                                                                         0.7227                                                  1.3689*                                                   1.3004\n",
       "                                                                                                                                                               (0.8297)                                                 (0.7547)                                                 (0.8412)\n",
       "Africa                                                                                                                                                                                                                   -0.2044                                                  -0.3763\n",
       "                                                                                                                                                                                                                        (0.3285)                                                 (0.3707)\n",
       "America                                                                                                                                                                                                                -0.6488**                                                -0.6179**\n",
       "                                                                                                                                                                                                                        (0.2814)                                                 (0.3062)\n",
       "Asia                                                                                                                                                                                                                      0.0991                                                  -0.0261\n",
       "                                                                                                                                                                                                                        (0.3136)                                                 (0.3219)\n",
       "French colony                                                                                                                                                                                                                                                                      0.1164\n",
       "                                                                                                                                                                                                                                                                                 (0.1875)\n",
       "British colony                                                                                                                                                                                                                                                                     0.2177\n",
       "                                                                                                                                                                                                                                                                                 (0.2015)\n",
       "===================================================== ======================================================== ======================================================== ======================================================== ========================================================\n",
       "Instruments                                                                     Primary school enrollment 1900                           Primary school enrollment 1900                           Primary school enrollment 1900                           Primary school enrollment 1900\n",
       "                                                        Protestant missionaries in the early twentieth century   Protestant missionaries in the early twentieth century   Protestant missionaries in the early twentieth century   Protestant missionaries in the early twentieth century\n",
       "-----------------------------------------------------------------------------------------------------------------------------------------------------------------------------------------------------------------------------------------------------------------------------------------\n",
       "\n",
       "Std. Errors reported in parentheses\n",
       "IVModelComparison, id: 0x21588711a60"
      ]
     },
     "metadata": {},
     "output_type": "display_data"
    }
   ],
   "source": [
    "table1=get_table8(country_data)\n",
    "table2=get_table8_LIML(country_data)\n",
    "display(table1,table2)"
   ]
  },
  {
   "cell_type": "markdown",
   "id": "73b0fd08-c374-4502-a9b2-a490cbbc48be",
   "metadata": {},
   "source": [
    "### 5. Cross-Regional Evidence<a class=\"anchor\" id=\"cross_regional_evidence\"></a>   "
   ]
  },
  {
   "cell_type": "markdown",
   "id": "c8ccebc7-4a5a-4e0f-9400-c9753fd66599",
   "metadata": {},
   "source": [
    "In this section, the authors present evidence on the effects of human capital on long-run economic development using data from 684 regions from 48 countries."
   ]
  },
  {
   "cell_type": "markdown",
   "id": "f3d6392c-f53b-4551-ac5f-24245f8472ec",
   "metadata": {},
   "source": [
    "##### 5.1 Ordinary Least Squares Regressions <a class=\"anchor\" id=\"ordinary_least_squares_regressions2\"></a>  "
   ]
  },
  {
   "cell_type": "markdown",
   "id": "e5894126-b97b-4e4c-a1ae-9492efce4a9f",
   "metadata": {},
   "source": [
    "The resuts of OLS regressions are presented in **[Table 9](#table_9)**, which has similar spirit to **[Table 2](#table_2)**  without the institutional variables. The dependent variable is the log GDP per capita at the regional level. All spesifications include country fixed effects. Column 1 , as always, is the simplest spesification with only years of schooling as an explanatory variable. In this spesification, the sample contains 1495 observations to verify that the baseline results for 684 regions are similar to the results in the larger sample. The coeffcient estimated on years of schooling is 0.282 (which is simiar to the ones in **[Table 2](#table_2)**) and statistically significant. The column 2 present the same spesification with the base sample with 684 observations and it has almost the same result. The rest of the columns include various control variables. In column 3-5 controls for capital cities ( which might be richer), two variables for inverse distance to coast ( to capture the idea that more isolated regions are poorer), a dummy for landlocked regions and two temperature variables. In the last column, population density of the region before colonization is controlled. Addition of all control variables barely change the results."
   ]
  },
  {
   "cell_type": "markdown",
   "id": "f7ef8ebc-17a4-43b3-95dd-2fc43356ab97",
   "metadata": {},
   "source": [
    "##### Table 9 Ordinary least squares (OLS) regressions, cross-region sample <a class=\"anchor\" id=\"table_9\"></a>"
   ]
  },
  {
   "cell_type": "code",
   "execution_count": 11,
   "id": "9c1a204a-3ebd-4202-b7d1-bc5897032d59",
   "metadata": {},
   "outputs": [
    {
     "name": "stderr",
     "output_type": "stream",
     "text": [
      "C:\\Users\\user\\anaconda3\\lib\\site-packages\\statsmodels\\base\\model.py:1832: ValueWarning: covariance of constraints does not have full rank. The number of constraints is 56, but rank is 51\n",
      "  warnings.warn('covariance of constraints does not have full '\n"
     ]
    },
    {
     "data": {
      "text/html": [
       "<table style=\"text-align:center\"><tr><td colspan=\"7\" style=\"border-bottom: 1px solid black\"></td></tr><tr><td style=\"text-align:left\"></td><td colspan=\"6\"><em>Dependent Variable: log GDP per capita </em></td></tr><tr><td style=\"text-align:left\"></td><tr><td style=\"text-align:left\"></td><td>(1)</td><td>(2)</td><td>(3)</td><td>(4)</td><td>(5)</td><td>(6)</td></tr><tr><td colspan=\"7\" style=\"border-bottom: 1px solid black\"></td></tr><tr><td style=\"text-align:left\">Years of schooling</td><td>0.282<sup>***</sup></td><td>0.281<sup>***</sup></td><td>0.263<sup>***</sup></td><td>0.256<sup>***</sup></td><td>0.258<sup>***</sup></td><td>0.264<sup>***</sup></td></tr><tr><td style=\"text-align:left\"></td><td>(0.014)</td><td>(0.017)</td><td>(0.019)</td><td>(0.021)</td><td>(0.021)</td><td>(0.022)</td></tr><tr><td style=\"text-align:left\">Capital city</td><td></td><td></td><td>0.153<sup>**</sup></td><td>0.156<sup>**</sup></td><td>0.159<sup>**</sup></td><td>0.148<sup>**</sup></td></tr><tr><td style=\"text-align:left\"></td><td></td><td></td><td>(0.061)</td><td>(0.062)</td><td>(0.062)</td><td>(0.061)</td></tr><tr><td style=\"text-align:left\">Inverse distance to coast</td><td></td><td></td><td></td><td>-0.727<sup></sup></td><td>0.235<sup></sup></td><td>-0.141<sup></sup></td></tr><tr><td style=\"text-align:left\"></td><td></td><td></td><td></td><td>(1.286)</td><td>(1.429)</td><td>(1.435)</td></tr><tr><td style=\"text-align:left\">Squared inverse distance to coast</td><td></td><td></td><td></td><td>0.473<sup></sup></td><td>-0.131<sup></sup></td><td>0.167<sup></sup></td></tr><tr><td style=\"text-align:left\"></td><td></td><td></td><td></td><td>(0.863)</td><td>(0.944)</td><td>(0.952)</td></tr><tr><td style=\"text-align:left\">State without a sea costline dummy</td><td></td><td></td><td></td><td>-0.062<sup>*</sup></td><td>-0.065<sup>*</sup></td><td>-0.049<sup></sup></td></tr><tr><td style=\"text-align:left\"></td><td></td><td></td><td></td><td>(0.033)</td><td>(0.036)</td><td>(0.036)</td></tr><tr><td style=\"text-align:left\">Average yearly temperature (Celsius)</td><td></td><td></td><td></td><td></td><td>-0.033<sup>*</sup></td><td>-0.024<sup></sup></td></tr><tr><td style=\"text-align:left\"></td><td></td><td></td><td></td><td></td><td>(0.017)</td><td>(0.017)</td></tr><tr><td style=\"text-align:left\">Squared average yearly temperature (Celsius)</td><td></td><td></td><td></td><td></td><td>0.001<sup>*</sup></td><td>0.001<sup></sup></td></tr><tr><td style=\"text-align:left\"></td><td></td><td></td><td></td><td></td><td>(0.000)</td><td>(0.000)</td></tr><tr><td style=\"text-align:left\">Log population density in 1500</td><td></td><td></td><td></td><td></td><td></td><td>-0.034<sup>***</sup></td></tr><tr><td style=\"text-align:left\"></td><td></td><td></td><td></td><td></td><td></td><td>(0.009)</td></tr><td colspan=\"7\" style=\"border-bottom: 1px solid black\"></td></tr><tr><td style=\"text-align: left\">Observations</td><td>1,495</td><td>684</td><td>684</td><td>684</td><td>684</td><td>642</td></tr><tr><td style=\"text-align: left\">R<sup>2</sup></td><td>0.947</td><td>0.936</td><td>0.937</td><td>0.938</td><td>0.938</td><td>0.938</td></tr><tr><td colspan=\"7\" style=\"border-bottom: 1px solid black\"></td></tr><tr><td style=\"text-align: left\">Note:</td>\n",
       " <td colspan=\"6\" style=\"text-align: right\">\n",
       "  <sup>*</sup>p&lt;0.1;\n",
       "  <sup>**</sup>p&lt;0.05;\n",
       "  <sup>***</sup>p&lt;0.01\n",
       " </td></tr></table>"
      ],
      "text/plain": [
       "<stargazer.stargazer.Stargazer at 0x215887c5880>"
      ]
     },
     "execution_count": 11,
     "metadata": {},
     "output_type": "execute_result"
    }
   ],
   "source": [
    "get_table9(region_data)"
   ]
  },
  {
   "cell_type": "markdown",
   "id": "1a8a0cac-6a6c-470d-9293-c078dc038af2",
   "metadata": {},
   "source": [
    "##### 5.2 Two-Stage Least Squares Models <a class=\"anchor\" id=\"two_stage_least_squares_models\"></a>  "
   ]
  },
  {
   "cell_type": "markdown",
   "id": "d55917b0-01ac-4e43-a85e-dcda442c4470",
   "metadata": {},
   "source": [
    "In this section, average years of schooling is instrumentad with the presence of  Protestant missions in the early twentieth century at the regional level. The results of 2SLS are presented in **[Table 10](#table_10)**. The table presented here is a little bit different than the original paper. There are some variables that are not shown here such as F-statistic excluded instruments and Kleibergen & Paap (2006) test. The first half of the table presents the second-stage regression results while the bottom half is the results from firs-stage regressions. All spesifications have country fixed effect. Column 1 has the basic spesification where the regression has only years of schooling as an explanatory variable and the presence of Protestant missionary as an instrumental variable. The spesification has a strong first-stage relationship, however, the second-stage shows that once years of schoolings is instrumented, its magnitude (0.203) decrases towards to micro estimates compared to the corresponding coefficient in **[Table 9](#table_9)**. For the remaning columns, the models have the same control variables as in **[Table 9](#table_9)**. Addition of control variables make the coefficient of years of schooling is statistically insignificant and decrease its magnitude.\n",
    "\n",
    "To conclude, once human capital today is instrumented with the presence of Protestant missionary activities in the early twentieth century along with addition of various control variable, the magnitude of human capital on GDP per capital today falls from high levels to levels more close to micro estimates. The main difference from the cross-country evidence is that in cross-region evidence, instrumenting for differences in human capital is sufficient to achieve this result, whereas in the cross-country models, controlling for institutions is also necessary, which probably means that protestant missionary activity is not a valid source of variation unless we control for institutions at the country level, but conditional on country fixed effects, it provides a more plausible source of variation in within-country variation in human capital"
   ]
  },
  {
   "cell_type": "markdown",
   "id": "5e715f85-bd51-4892-bc7a-85efe3cf9443",
   "metadata": {},
   "source": [
    "##### Table 10 Instrumental variables (IV) regressions, cross-region sample <a class=\"anchor\" id=\"table_10\"></a>"
   ]
  },
  {
   "cell_type": "code",
   "execution_count": 12,
   "id": "628b248c-44d6-4976-851c-57ebd16dd89f",
   "metadata": {},
   "outputs": [
    {
     "name": "stderr",
     "output_type": "stream",
     "text": [
      "C:\\Users\\user\\anaconda3\\lib\\site-packages\\pandas\\core\\indexing.py:1597: SettingWithCopyWarning: \n",
      "A value is trying to be set on a copy of a slice from a DataFrame.\n",
      "Try using .loc[row_indexer,col_indexer] = value instead\n",
      "\n",
      "See the caveats in the documentation: https://pandas.pydata.org/pandas-docs/stable/user_guide/indexing.html#returning-a-view-versus-a-copy\n",
      "  self.obj[key] = value\n",
      "C:\\Users\\user\\anaconda3\\lib\\site-packages\\pandas\\core\\indexing.py:1676: SettingWithCopyWarning: \n",
      "A value is trying to be set on a copy of a slice from a DataFrame.\n",
      "Try using .loc[row_indexer,col_indexer] = value instead\n",
      "\n",
      "See the caveats in the documentation: https://pandas.pydata.org/pandas-docs/stable/user_guide/indexing.html#returning-a-view-versus-a-copy\n",
      "  self._setitem_single_column(ilocs[0], value, pi)\n",
      "C:\\Users\\user\\anaconda3\\lib\\site-packages\\statsmodels\\base\\model.py:1832: ValueWarning: covariance of constraints does not have full rank. The number of constraints is 56, but rank is 51\n",
      "  warnings.warn('covariance of constraints does not have full '\n"
     ]
    },
    {
     "data": {
      "text/html": [
       "IV regressions, cross region<br><table style=\"text-align:center\"><tr><td colspan=\"7\" style=\"border-bottom: 1px solid black\"></td></tr><tr><td style=\"text-align:left\"></td><td colspan=\"6\"><em>Dependent Variable: log GDP per capita </em></td></tr><tr><td style=\"text-align:left\"></td><tr><td style=\"text-align:left\"></td><td>(1)</td><td>(2)</td><td>(3)</td><td>(4)</td><td>(5)</td><td>(6)</td></tr><tr><td colspan=\"7\" style=\"border-bottom: 1px solid black\"></td></tr><tr><td style=\"text-align:left\">Years of schooling</td><td>0.203<sup>**</sup></td><td>0.132<sup></sup></td><td>0.132<sup></sup></td><td>0.119<sup></sup></td><td>0.123<sup></sup></td><td>0.143<sup></sup></td></tr><tr><td style=\"text-align:left\"></td><td>(0.087)</td><td>(0.116)</td><td>(0.116)</td><td>(0.121)</td><td>(0.123)</td><td>(0.138)</td></tr><tr><td style=\"text-align:left\">Capital city</td><td></td><td>0.383<sup>*</sup></td><td>0.383<sup>*</sup></td><td>0.382<sup>*</sup></td><td>0.379<sup>*</sup></td><td>0.350<sup></sup></td></tr><tr><td style=\"text-align:left\"></td><td></td><td>(0.211)</td><td>(0.211)</td><td>(0.208)</td><td>(0.210)</td><td>(0.239)</td></tr><tr><td style=\"text-align:left\">Inverse distance to coast</td><td></td><td></td><td></td><td>-3.604<sup></sup></td><td>-2.779<sup></sup></td><td>-2.689<sup></sup></td></tr><tr><td style=\"text-align:left\"></td><td></td><td></td><td></td><td>(3.022)</td><td>(3.326)</td><td>(3.508)</td></tr><tr><td style=\"text-align:left\">Squared inverse distance to coast</td><td></td><td></td><td></td><td>2.503<sup></sup></td><td>1.980<sup></sup></td><td>1.950<sup></sup></td></tr><tr><td style=\"text-align:left\"></td><td></td><td></td><td></td><td>(2.076)</td><td>(2.259)</td><td>(2.382)</td></tr><tr><td style=\"text-align:left\">State without a sea costline dummy</td><td></td><td></td><td></td><td>-0.047<sup></sup></td><td>-0.051<sup></sup></td><td>-0.037<sup></sup></td></tr><tr><td style=\"text-align:left\"></td><td></td><td></td><td></td><td>(0.046)</td><td>(0.050)</td><td>(0.052)</td></tr><tr><td style=\"text-align:left\">Average yearly temperature (Celsius)</td><td></td><td></td><td></td><td></td><td>-0.025<sup></sup></td><td>-0.018<sup></sup></td></tr><tr><td style=\"text-align:left\"></td><td></td><td></td><td></td><td></td><td>(0.023)</td><td>(0.023)</td></tr><tr><td style=\"text-align:left\">Squared average yearly temperature (Celsius)</td><td></td><td></td><td></td><td></td><td>0.001<sup></sup></td><td>0.000<sup></sup></td></tr><tr><td style=\"text-align:left\"></td><td></td><td></td><td></td><td></td><td>(0.001)</td><td>(0.001)</td></tr><tr><td style=\"text-align:left\">Log population density in 1500</td><td></td><td></td><td></td><td></td><td></td><td>-0.030<sup>**</sup></td></tr><tr><td style=\"text-align:left\"></td><td></td><td></td><td></td><td></td><td></td><td>(0.015)</td></tr><td colspan=\"7\" style=\"border-bottom: 1px solid black\"></td></tr><tr><td colspan=\"7\" style=\"border-bottom: 1px solid black\"></td></tr><tr><td style=\"text-align: left\">Note:</td>\n",
       " <td colspan=\"6\" style=\"text-align: right\">\n",
       "  <sup>*</sup>p&lt;0.1;\n",
       "  <sup>**</sup>p&lt;0.05;\n",
       "  <sup>***</sup>p&lt;0.01\n",
       " </td></tr></table>"
      ],
      "text/plain": [
       "<stargazer.stargazer.Stargazer at 0x215884d49a0>"
      ]
     },
     "metadata": {},
     "output_type": "display_data"
    },
    {
     "data": {
      "text/html": [
       "First-stage regressions<br><table style=\"text-align:center\"><tr><td colspan=\"7\" style=\"border-bottom: 1px solid black\"></td></tr><tr><td style=\"text-align:left\"></td><td colspan=\"6\"><em>Dependent Variable: Years of Capital </em></td></tr><tr><td style=\"text-align:left\"></td><tr><td style=\"text-align:left\"></td><td>(1)</td><td>(2)</td><td>(3)</td><td>(4)</td><td>(5)</td><td>(6)</td></tr><tr><td colspan=\"7\" style=\"border-bottom: 1px solid black\"></td></tr><tr><td style=\"text-align:left\">Protestant missionaries in early twentieth century</td><td>0.484<sup>***</sup></td><td>0.334<sup>***</sup></td><td>0.334<sup>***</sup></td><td>0.317<sup>***</sup></td><td>0.314<sup>***</sup></td><td>0.280<sup>***</sup></td></tr><tr><td style=\"text-align:left\"></td><td>(0.094)</td><td>(0.083)</td><td>(0.083)</td><td>(0.080)</td><td>(0.079)</td><td>(0.081)</td></tr><tr><td style=\"text-align:left\">Capital city</td><td></td><td>1.675<sup>***</sup></td><td>1.675<sup>***</sup></td><td>1.570<sup>***</sup></td><td>1.563<sup>***</sup></td><td>1.613<sup>***</sup></td></tr><tr><td style=\"text-align:left\"></td><td></td><td>(0.165)</td><td>(0.165)</td><td>(0.164)</td><td>(0.164)</td><td>(0.167)</td></tr><tr><td style=\"text-align:left\">Inverse distance to coast</td><td></td><td></td><td></td><td>-20.352<sup>***</sup></td><td>-21.649<sup>***</sup></td><td>-20.617<sup>***</sup></td></tr><tr><td style=\"text-align:left\"></td><td></td><td></td><td></td><td>(4.102)</td><td>(4.620)</td><td>(4.675)</td></tr><tr><td style=\"text-align:left\">Squared inverse distance to coast</td><td></td><td></td><td></td><td>14.424<sup>***</sup></td><td>15.231<sup>***</sup></td><td>14.520<sup>***</sup></td></tr><tr><td style=\"text-align:left\"></td><td></td><td></td><td></td><td>(2.635)</td><td>(2.931)</td><td>(2.971)</td></tr><tr><td style=\"text-align:left\">State without a sea costline dummy</td><td></td><td></td><td></td><td>0.120<sup></sup></td><td>0.122<sup></sup></td><td>0.119<sup></sup></td></tr><tr><td style=\"text-align:left\"></td><td></td><td></td><td></td><td>(0.115)</td><td>(0.124)</td><td>(0.132)</td></tr><tr><td style=\"text-align:left\">Average yearly temperature (Celsius)</td><td></td><td></td><td></td><td></td><td>0.046<sup></sup></td><td>0.046<sup></sup></td></tr><tr><td style=\"text-align:left\"></td><td></td><td></td><td></td><td></td><td>(0.046)</td><td>(0.047)</td></tr><tr><td style=\"text-align:left\">Squared average yearly temperature (Celsius)</td><td></td><td></td><td></td><td></td><td>-0.001<sup></sup></td><td>-0.001<sup></sup></td></tr><tr><td style=\"text-align:left\"></td><td></td><td></td><td></td><td></td><td>(0.001)</td><td>(0.001)</td></tr><tr><td style=\"text-align:left\">Log population density in 1500</td><td></td><td></td><td></td><td></td><td></td><td>0.028<sup></sup></td></tr><tr><td style=\"text-align:left\"></td><td></td><td></td><td></td><td></td><td></td><td>(0.030)</td></tr><td colspan=\"7\" style=\"border-bottom: 1px solid black\"></td></tr><tr><td style=\"text-align: left\">Observations</td><td>684</td><td>684</td><td>684</td><td>684</td><td>684</td><td>642</td></tr><tr><td style=\"text-align: left\">R<sup>2</sup></td><td>0.901</td><td>0.920</td><td>0.920</td><td>0.927</td><td>0.927</td><td>0.929</td></tr><tr><td colspan=\"7\" style=\"border-bottom: 1px solid black\"></td></tr><tr><td style=\"text-align: left\">Note:</td>\n",
       " <td colspan=\"6\" style=\"text-align: right\">\n",
       "  <sup>*</sup>p&lt;0.1;\n",
       "  <sup>**</sup>p&lt;0.05;\n",
       "  <sup>***</sup>p&lt;0.01\n",
       " </td></tr></table>"
      ],
      "text/plain": [
       "<stargazer.stargazer.Stargazer at 0x215887fa070>"
      ]
     },
     "metadata": {},
     "output_type": "display_data"
    }
   ],
   "source": [
    "table1,table2=get_table10(region_data)\n",
    "display(table1,table2)"
   ]
  },
  {
   "cell_type": "markdown",
   "id": "95ae8126-89d8-49c0-a6dd-214815258f46",
   "metadata": {},
   "source": [
    "### 6. Conclusion <a class=\"anchor\" id=\"conclusion\"></a>   "
   ]
  },
  {
   "cell_type": "markdown",
   "id": "341698fd-c5c7-4934-9204-24b9092df866",
   "metadata": {},
   "source": [
    "In this article, the authors revisit the idea of "
   ]
  },
  {
   "cell_type": "code",
   "execution_count": null,
   "id": "807f9c32-7f68-4dd4-b1a0-dac74446151b",
   "metadata": {},
   "outputs": [],
   "source": []
  }
 ],
 "metadata": {
  "kernelspec": {
   "display_name": "Python 3",
   "language": "python",
   "name": "python3"
  },
  "language_info": {
   "codemirror_mode": {
    "name": "ipython",
    "version": 3
   },
   "file_extension": ".py",
   "mimetype": "text/x-python",
   "name": "python",
   "nbconvert_exporter": "python",
   "pygments_lexer": "ipython3",
   "version": "3.8.5"
  }
 },
 "nbformat": 4,
 "nbformat_minor": 5
}
