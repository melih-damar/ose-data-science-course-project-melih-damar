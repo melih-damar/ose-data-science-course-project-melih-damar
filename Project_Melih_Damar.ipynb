{
 "cells": [
  {
   "cell_type": "markdown",
   "id": "ade82d2c-454e-4f47-be4e-aed303fc967b",
   "metadata": {},
   "source": [
    "Term paper for the course in Microeconometrics. Summer 2021, M.Sc. Economics, University of Bonn. Melih Damar\n",
    "\n",
    "---\n",
    "# Replication of Acemoglu et al.(2014): Institutions, Human Capital, and Development\n",
    "---\n"
   ]
  },
  {
   "cell_type": "markdown",
   "id": "61434f90-bc1d-46bf-8d8d-bcd7e7c0d215",
   "metadata": {},
   "source": [
    "This paper contains my replication of the following paper:\n",
    "  * [Acemoglu,D., Gallego,F.A., & Robinson, J.A.(2014). Institutions, Human Capital, and Development. *Annual Reviews of   Economics, 6*, 875-912.](https://doi.org/10.1146/annurev-economics-080213-041119)\n",
    "  \n",
    "#### Information about the organization of the paper\n",
    "* Throught the paper, I will be in line with the original structure of the paper in order for readers to compare the results with the original paper. I excluded the section called \"Comments on the Previous Literature\" All tables and figures will be labeled in accordence with the original paper.\n",
    "\n",
    "* All sections contining my independent contributions to the original paper will be labeled as *extentions*"
   ]
  },
  {
   "cell_type": "markdown",
   "id": "f9ad1094-fb4e-4ab3-8dc5-173bfa737d03",
   "metadata": {},
   "source": [
    "## Table of Content"
   ]
  },
  {
   "cell_type": "markdown",
   "id": "eb5a9be4-e612-45be-8120-3b899e3c80af",
   "metadata": {},
   "source": [
    "* [1. Introduction](#Introduction)<br>\n",
    "    * [1.1 Background](#background)<br>\n",
    "    * [1.2 This Article](#this_article)<br>\n",
    "* [2. Colonization and Human Capital](#colonization_and_human_capital)<br>\n",
    "* [3. Data and Descriptive Statistics](#data_and_descriptive_statistics)<br>\n",
    "    * [3.1 Cross-Country Data](#cross_country_data)<br>\n",
    "    * [3.2 Sources of Variation in Human Capital](#sources_of_variation_in_human_capital)<br>\n",
    "    * [3.3 Regional Data](#regional_data)<br>\n",
    "* [4. Cross-Country Evidence](#cross_country_evidence)<br>\n",
    "    * [4.1 Ordinary Least Squares Regressions](#ordinary_least_squares_regressions)<br>  \n",
    "    * [4.2 Semistructural Models](#semistructural_models)<br>  \n",
    "    * [4.3 Full Two-Stage Least Squares Models](#full_two-stage_least_squares_models)   \n",
    "    * [4.4 Full Two-Stage Least Squares Models](#does_human_capital_cause_institutions)\n",
    "* [5. Cross-Regional Evidence](#cross_regional_evidence)<br>\n",
    "    * [5.1 Ordinary Least Squares Regressions](#ordinary_least_squares_regressions2)<br>\n",
    "    * [5.2 Two-Stage Least Squares Models](#two_stage_least_squares_models)<br>\n",
    "* [6. Extensions](#extensions)<br>\n",
    "    * [6.1 Robustness Check with Different Variable](#robustness_check_with_different_variable)\n",
    "        * [6.1.1 Measurement Error Test](#measurement_error_test) "
   ]
  },
  {
   "cell_type": "code",
   "execution_count": 1,
   "id": "1fd92d30-5834-4f78-9894-1379f8bf73c7",
   "metadata": {},
   "outputs": [
    {
     "name": "stdout",
     "output_type": "stream",
     "text": [
      "Requirement already satisfied: linearmodels in c:\\users\\user\\anaconda3\\lib\\site-packages (4.24)\n",
      "Requirement already satisfied: pyhdfe>=0.1 in c:\\users\\user\\anaconda3\\lib\\site-packages (from linearmodels) (0.1.0)\n",
      "Requirement already satisfied: numpy>=1.16 in c:\\users\\user\\anaconda3\\lib\\site-packages (from linearmodels) (1.20.2)\n",
      "Requirement already satisfied: statsmodels>=0.11 in c:\\users\\user\\anaconda3\\lib\\site-packages (from linearmodels) (0.12.2)\n",
      "Requirement already satisfied: mypy-extensions>=0.4 in c:\\users\\user\\anaconda3\\lib\\site-packages (from linearmodels) (0.4.3)\n",
      "Requirement already satisfied: property-cached>=1.6.3 in c:\\users\\user\\anaconda3\\lib\\site-packages (from linearmodels) (1.6.4)\n",
      "Requirement already satisfied: Cython>=0.29.21 in c:\\users\\user\\anaconda3\\lib\\site-packages (from linearmodels) (0.29.21)\n",
      "Requirement already satisfied: patsy in c:\\users\\user\\anaconda3\\lib\\site-packages (from linearmodels) (0.5.1)\n",
      "Requirement already satisfied: scipy>=1.2 in c:\\users\\user\\anaconda3\\lib\\site-packages (from linearmodels) (1.6.2)\n",
      "Requirement already satisfied: pandas>=0.24 in c:\\users\\user\\anaconda3\\lib\\site-packages (from linearmodels) (1.2.5)\n",
      "Requirement already satisfied: pytz>=2017.3 in c:\\users\\user\\anaconda3\\lib\\site-packages (from pandas>=0.24->linearmodels) (2021.1)\n",
      "Requirement already satisfied: python-dateutil>=2.7.3 in c:\\users\\user\\anaconda3\\lib\\site-packages (from pandas>=0.24->linearmodels) (2.8.1)\n",
      "Requirement already satisfied: six>=1.5 in c:\\users\\user\\anaconda3\\lib\\site-packages (from python-dateutil>=2.7.3->pandas>=0.24->linearmodels) (1.16.0)\n",
      "Note: you may need to restart the kernel to use updated packages.\n"
     ]
    }
   ],
   "source": [
    "pip install linearmodels"
   ]
  },
  {
   "cell_type": "code",
   "execution_count": null,
   "id": "f8db9b34-b8bd-4a1a-8a3d-9bdbfc9f884a",
   "metadata": {},
   "outputs": [],
   "source": [
    "pip install openpyxl"
   ]
  },
  {
   "cell_type": "code",
   "execution_count": null,
   "id": "4b4dff75-b041-46be-b273-d2f4943e9117",
   "metadata": {
    "tags": []
   },
   "outputs": [],
   "source": [
    "import pandas as pd\n",
    "import numpy as np\n",
    "import statsmodels.formula.api as smf\n",
    "from stargazer.stargazer import Stargazer\n",
    "from IPython.core.display import HTML\n",
    "from statsmodels.iolib import summary2\n",
    "from statsmodels.iolib import summary\n",
    "from linearmodels import IV2SLS \n",
    "from linearmodels import IVLIML\n",
    "\n",
    "from auxiliary.project_auxiliary_table import *\n",
    "from auxiliary.project_auxiliary_plot import *\n"
   ]
  },
  {
   "cell_type": "markdown",
   "id": "c5838cec-afae-4837-b344-4bdacce9ef08",
   "metadata": {
    "tags": []
   },
   "source": [
    "---\n",
    "\n",
    "## 1. Introduction <a class=\"anchor\" id=\"Introduction\"></a>\n",
    "\n",
    "---"
   ]
  },
  {
   "cell_type": "markdown",
   "id": "6966044f-920d-47c1-b300-efde5f8619a5",
   "metadata": {},
   "source": [
    "### 1.1. Background <a class=\"anchor\" id=\"background\"></a>"
   ]
  },
  {
   "cell_type": "markdown",
   "id": "c2f4f9ac-66a0-422e-8754-8c8dec8cf26a",
   "metadata": {
    "tags": []
   },
   "source": [
    "In this paper, the authors revisited the relationship between institutions, human capital and development since they think that taking human capital and instituions as an exogenous variables in emprical researches causes to estimate very large returns on human capital compered to the Mincerian estimates because of omitted variable bias problem and differantial measurement error in the variables. They take historicaly determined differences in human capital and the effect of institutions into account, they found a estimate for the returns of human capital consistent with Mincerian estimates by using cross-country and cross-regional regressions. The casual \n",
    "\n",
    "North and Thomas(1973) lists innovation (TFP), education and capital accumulation as proximate determinants of economic growth when explaning why some countries are richer than others. The diagrams below shows the intiution behind this argument.\n",
    "<center>$ fundamental \\ determinants \\Longrightarrow\\ proximate\\ determinants\\Longrightarrow\\ economic\\ development$</center>\n",
    "More spesifically;\n",
    "<center>$Institutions \\Longrightarrow\\begin{array}\\\\ \n",
    "TFP\\\\\n",
    "human \\ capital\\\\\n",
    "physical \\ capital\n",
    "\\end{array}\n",
    "\\Bigg\\}\\Longrightarrow\\ Economic \\ Development $</center>\n",
    "\n",
    "The same logic also applies when fundamental determinant is culture or geography instead of institutions.\n",
    "\n",
    "One of the interesting question arising from this argument is why some countries have more innovation, human capital and capital accumulation than others.\n",
    "\n",
    "Even though institutions are always present in the economic theory, it is generally incleduded implicitly. Most of the early economic modes assumes a set of institutions such as property right of factors of production or ownershio of some assets in economics. However, the the effect of institutions on economic growth was left wasn't paid more attention to examine. However, it is difficult to build a model to obtain convincing result about the relationships of institutions with other economic variable as institutions are generally exogenous and they are mostly related with other factors which are affecting economic performance of a nation.\n",
    "\n",
    "Recently,there has been an attempt to find different methods to be able to control to pure effect of institutions which are treated as an exogenous variable. Acemoglu et al.(2001) used historically determined factors to obtain exogenous measure of institutions. They suggest that during colonization of New World, Europens brought different type of institutions from their countries based on certain characteristics of the colonized regions. At one extreme sitution, they form extractive institutions in such a way to transfer resources to Europe, which was the reason for the formation of economic institutions which led to the creation of rules enabling slavery, discrimation, monopolies and insecure property rights. Most of the African countries is an example for this type of institutions. At the other extreme situtation, European colonizers settled down to the colonized region and brought European institutions, which contibute more to sustainable economic development. The decision whether to settle down or not was based on the mortality rate of European settlers. If the mortality rate of settlers were high, they constituted more extractive institutions whereas they formed better institutions which were so similar to , even sometimes better than European laws in colonies where mortality rate is low enough to settle down. After the independence of the old colonies, these institutions persisted to exist. Therefore, Acemoglu et al.(2001) argued that the mortality rate of early European colonizers can be used as an instrumental variable for the current institutions of the countries beacuse the mortality rate was determined exogonously and randomly which has no direct effect on current development sitution of a country. The following diagram can show this relations;\n",
    "\n",
    "<center>$ Potential \\ mortality \\ rate \\ of \\ European\\ settlers\\Longrightarrow\\ Settlements \\Longrightarrow\\ Past \\ institutions \\Longrightarrow\\ Current \\ institutions $</center> \n",
    "    \n",
    "   \n",
    "Acemoglu et al.(2014) used two-stage least squares (2SLS) regression model where log GDP per capita 2005 was the dependent variable and protection against the risk of expropriation, as a measure of current instutions, was the main explanatory variable instrumented by logarithm of settlers mortality rate. Even further, Acemoglu et al.(2012) used capped potential settler mortality rate as an alternative instrumental variable. The results demonstrate that instutions have a large effect on long-run economic development of a country with both of the formulation of instrumental variable, accounting 75% of difference between high and low institutions countries. Moreover, these results were robust to controlling various geographical characteristics of a country that could be correlated with the economic development. The authors didn't control for the proximate determinants of economic development in the framework defined by North&Thomas(1973) as the channel instutions affect economic growth of a country is the proximate determinants and controlling for them would lead to a \"bad control\" as Angrist & Pischke(2008) suggested.\n",
    "\n",
    "The framework suggested by Acemoglu(2001) was challenged by Glaeser et al.(2004) for putting institutions before human capital. They suggested that, on the contary to Acemoglu et al(2001), European settlers brought human capital and the places they brought more human capital constitute more organized and better societies which enabled them to experience economic developmnet."
   ]
  },
  {
   "cell_type": "markdown",
   "id": "96b069a0-65b1-4283-a087-0fed569d4b99",
   "metadata": {},
   "source": [
    "### 1.2. This Article <a class=\"anchor\" id=\"this_article\"></a>      "
   ]
  },
  {
   "cell_type": "markdown",
   "id": "71a6f0c2-5b65-4838-86ce-4546569394d5",
   "metadata": {},
   "source": [
    "In this article, Acemoglu et al.(2014) has there main contribution in terms of evaluating the the impact of human capital and institutions on the economic performance of a country. The first main contribution is to give a brief historical explanation about the human capital European colonizers brought to their colonies in order to show that, on the contray to what Glaeser et al.(2004) suppose, more human capital was brouught to the extractive colonies than inclusive colonies, which means the main reason for the differences in economic development of early colonized countries is not the human capital they brought rather the institutions which supports mass schooling. \n",
    "\n",
    "The second main contribution of this paper is that when they treat human capital as an exogenous variable or instrument with early Protestant missionary activities, the estimate is 25-35%, which is similar to the results of Glaeser et al.(2004) whereas when they control the human capital and historical determinants of institutions or simultaneously treat them as endogenous variables the impact of human capital on economic development is estimated closer to Mincerian evidence (contribution of one more year of schooling on individual earnings) as 6-10%, which is less than what Galeaser et. al.(2004) estimated. The authours suggested that the main reason why these two numbers are different is omitted variables whose effect is captured by human capital and they think that it is institutions. This results suggest that instituions have effect on long-run development through human capital channel.\n",
    "\n",
    "The third contribution is that they investigated the effect of human capital on long-run development by using a cross-regional data and they concluded that the huge inequalities between region is correlated with the educational background of the inhabitants of the regions. They found the results similar to the second contribution when they treat the human capital seperately as an exogenous variable and endogonous variable instrumented with Protestant missionary activities. \n",
    "\n",
    "To conclude, Acemoglu et al.(2014) suggested that human capital is one of the channel institutions has an effect on economic development once historically instrumental differences are controlled with a plausible rate implied by Mincerian evidence."
   ]
  },
  {
   "cell_type": "markdown",
   "id": "34a9202c-b013-42cd-b8cf-34bf9d94f628",
   "metadata": {},
   "source": [
    "## 2. Colonization and Human Capital <a class=\"anchor\" id=\"colonization_and_human_capital\"></a>   "
   ]
  },
  {
   "cell_type": "markdown",
   "id": "62b723ff-0430-4f1a-b870-5e035bbc4dd9",
   "metadata": {},
   "source": [
    "Colonization of New World with Europens created not only different types of institutions in colonized countries but also variation in human capital brought by early colonizers. Glaeser et al.(2004) argued that the variation in economic developments of former colonies of European countries was created by the difference in human capital they brought not the instutitons. However, historical evidences suggest that the conquistadors who colonized South America was more educated than the ones who colonized the North America, which is the opposite of what Glaeser et al.(2004) suggested. Based on the work of Avellaneda(1995), average literacy of the conquistadors in five different expeditions to South America was 78.7%. The main reasons were that early colonizers of South America came from urban areas in Spain and they were mostly second or thirs sons of nobles who could not inherit any land under Spanish law.\n",
    "\n",
    "Even though they were highly educated people amoong the early colonizers of North America, they consitute the small portion of people who migrated the North America. Grubb(1990) exploited the jury list to come up with a literacy rate and the figures suggest that the literacy rate of colonizers of North America in Virginia was 54% in the 1600s.\n",
    "\n",
    "When we looked at the literacy and education level in nineteenth century, North America was better than South America. However, this doesn't has nothing to do with the level of human capital they brough when they first settled down. Instead, it has everything to do with the institution they created, which increased the investment in human capital and school construction.\n",
    "To sum up, historical evidences don't provide support to the idea that the differences in countries' economic development level is because of the variation in human capital they brought when they first settled rather than institutions they formed. "
   ]
  },
  {
   "cell_type": "markdown",
   "id": "3b464b58-e10a-4a84-8d63-b1eddd5f1a1b",
   "metadata": {},
   "source": [
    "## Extension | Identification <a class=\"anchor\" id=\"identification\"></a>   "
   ]
  },
  {
   "cell_type": "markdown",
   "id": "54f83ec1-ad75-4da8-ad84-ff956a7f8a83",
   "metadata": {
    "tags": []
   },
   "source": [
    "In this paper, the purpose of Acemoglu et al.(2014) is to investigate the relationship between human capital, institutions and economic prosperity of a country as previous literature which treat both institutions and human capital as exogenous suggest a higher return of human capital on development than Mincerian estimates. The authors beleive that the literature suffers from omitted variable bias problems and differential measurement error in these variables. To eliminate this problem, the authors instrumented human capital with historically determined variables and controled for the effect of institutions on human capital.\n",
    "\n",
    "The casual graph below illustrates the relationship between main variables suggested by Acemoglu et al.(2014). While the main determinants of log GDP per capita is institutions and human capital, institutions have effect on the path of human capital development of a country through supporting mass schooling policies. For instance, the reason why the US has more educated population than Mexico or Peru is not beause of human capital brought by early colonizer, rather, it is because of the instutitons they brought. Moreover, population density in 1500 and early settlers mortality rate affect log GDP per capita not directly but through institutions while Prostestant missionaries in the early 20th century and primary enrollment rate in 1900 has an impact on log GDP per capita through human capital. Thus, as it can be seen from the casual graph, there is a back-door path which needs to closed to see the true effect of human capital on economic prosperity. Moreover, we can not condition on human capital to see the true effect of institutions on log GDP per capita because human capital is descendent of institutions. Also, as current institutions is an endogenous variable in the economic development process of a country, in other word, institutions can be coorelated with some unobservable error term $(U_{1})$, Acemoglu et al.(2014) implement instrumental variable approach to isolate exogenous part of institutions by using historically determined variation. The same logic also applies to human capital variable. \n",
    "\n",
    "![ERROR:Here should be causal graph](files/casual_graph.png)"
   ]
  },
  {
   "cell_type": "markdown",
   "id": "84a1f7c7-d216-4e04-bf14-c21ce915c37e",
   "metadata": {},
   "source": [
    "## 3. Data and Descriptive Statistics<a class=\"anchor\" id=\"data_and_descriptive_statistics\"></a>   "
   ]
  },
  {
   "cell_type": "markdown",
   "id": "dc9dc5d9-f42f-418c-a6fa-06b3695beec3",
   "metadata": {},
   "source": [
    "The authors utilized two different data sets. The first data consists of information for 62 countries which were once colonized. The second data includes informations for 684 regions in 48 different former colonies. **[Table 1](#table_1)** shows description statistics for each data sets."
   ]
  },
  {
   "cell_type": "markdown",
   "id": "4a1d4bbd-13ac-4566-a4cd-9561ecee248a",
   "metadata": {},
   "source": [
    "### 3.1 Cross-Country Data<a class=\"anchor\" id=\"cross_country_data\"></a>   "
   ]
  },
  {
   "cell_type": "markdown",
   "id": "e9352a44-23d9-4e30-be94-9282cb6cefae",
   "metadata": {},
   "source": [
    "The main dependent variable is the log GDP per capita( purchasing power parity basis) in 2005. The log GDP per capita of an average country in the cross-country sample is 8.29. The same variable for an average region is so similar, 8,35. Average years of schooling of the population above age 15 in 2005 is used as the main indicator of current educational attainment for cross-country analyis. The average value of current educational attainment variable is 6 years. The main measure for current instutional level of a country is rule of law index for 2005. Rule of law index measures the extent to which countries comply with the rule of law in practive. It has 8 categories; limited government powers, absence of corruptioni, order and security, fundamental rights, open government, regulatory enforcement, civil justice, and criminal justice. The index varies between -2,5 (weak adherence to rule of law) and 2,5 (strong adherence to rule of law). The average value for cross country sample is -0.32. As intrumental varibles, the authors use the log of potential settler mortality(capped at a maximum level of 250) and the lof population density in 1500."
   ]
  },
  {
   "cell_type": "markdown",
   "id": "b04bbfe0-9833-46e2-a156-0632e8411611",
   "metadata": {},
   "source": [
    "#### Table 1: Summary Statistics<a class=\"anchor\" id=\"table_1\"></a>   "
   ]
  },
  {
   "cell_type": "code",
   "execution_count": null,
   "id": "646fe446-6c8d-4d77-a190-f89b06b6791b",
   "metadata": {
    "tags": []
   },
   "outputs": [],
   "source": [
    "country_data=pd.read_stata(\"data/xcountry_data.dta\")\n",
    "region_data = pd.read_stata(\"data/xregion_data.dta\")\n",
    "table1=get_summary_statistics(country_data,region_data)\n",
    "display(table1)"
   ]
  },
  {
   "cell_type": "markdown",
   "id": "f9365fa2-5fe1-4b9a-ace8-43e62b9311ac",
   "metadata": {
    "tags": []
   },
   "source": [
    "### 3.2. Sources of Variation in Human Capital<a class=\"anchor\" id=\"sources_of_variation_in_human_capital\"></a>   "
   ]
  },
  {
   "cell_type": "markdown",
   "id": "1066a01e-db47-4354-9abf-062b6ef4451f",
   "metadata": {},
   "source": [
    "The authors' main source of potentially exogenous variation in human capital is Protestant missionary activities per 10.000 people in the early twentieth century. They use two different data. During all the analysis, a dummy variable will be added to indicate that a different source of information for Protestant missionary activities is used. One can argue that missionary activities are excludable from regressions of economic development for the following reason. First, the location of missionary activities was clearly chosen. Second, missionary activities in French and British colonies were different as well as across different continents. Third, missionary activity might have affected the evolution of some instutitons such as emergence of democracy or schooling system. Fourth, missionary activity might have influenced long-run development by affecting the current religious composition of the population. However, by controlling continent dummies , the identity of the colonial power and institutions, the allocatio of missionary activities across and within countries may be a candidate for insturmental variable for human capital. The average value of Protestant missionary activities per 10.000 people is  0.46.\n",
    "Another source of variation in human capital is primary school enrollment rates in 1900. Only one data set is utilized and for countries with missing values in the data set, enrollment rate of  0.6% is imputed by the authors. "
   ]
  },
  {
   "cell_type": "markdown",
   "id": "55ae458d-2ec1-4306-82dc-5dffcc8e3dc4",
   "metadata": {},
   "source": [
    "### 3.3. Regional Data<a class=\"anchor\" id=\"regional_data\"></a>   "
   ]
  },
  {
   "cell_type": "markdown",
   "id": "fd7cb95e-0f09-4c0f-b359-0079483ea323",
   "metadata": {},
   "source": [
    "For regional data, the main dependent variable is again log GDP per capita. The average value for log GDP per capita for regions is 8.35. The main indicator of current education attatintment is again average years of schooling of the population above age 15 in 2005 and the average value is 5.7 years of schooling. The exogenous variable to explain the variation in average years of schooling today is again historical variation in Protestant missionaries. However, in this time, authors utilized the location of mission stations rather than the total number of missionaries normalized by population. A dummy variable is created to distinguish regions with and without Protestant missionaries.\n",
    "\n",
    "There were 4 main contrubitors for the location of missions station within the countries; climate and geograpy, path dependence in terms of previous missionary work, different strategies applied by Protestant missionaries when they face a group with competing religious, and possible interest in places with a large native population. As a result, the authors created dummy variables for whether the region was landlocked and distance to the sea ( proxies for transportations costs), climate conditions, and the capital of the country around 1920.\n",
    "\n",
    "Because there is not reliable measures of institutions within country, the authors focused on the returns to human capital using variation in the presence of Protestant missionaries. In robustness check, a proxy for the population density before colonization is used because it might have affected the regional path of instutitional development."
   ]
  },
  {
   "cell_type": "markdown",
   "id": "11f4e269-d972-4214-9cfb-68629fe53c36",
   "metadata": {},
   "source": [
    "## 4. Cross-Country Evidence<a class=\"anchor\" id=\"cross_country_evidence\"></a>   "
   ]
  },
  {
   "cell_type": "markdown",
   "id": "cdff0bdd-f292-4c5a-9d72-2120b4a0b935",
   "metadata": {},
   "source": [
    "In this section, the authors first show the correlation between human capital and instituions, and GDP per capita. The results suffer from omitted variable biases. Then, they present semistructural models in which one of the one of institutions and human capital are instrumented and various historical determinants were controlled to decresea the effect of omitted variable biases problem. The effect of human capital on current economic development is decreased. Finally, the authors present 2SLS and limited information maximum likelihood(LIML) models where both institutions and human capital are treated as endogenous. "
   ]
  },
  {
   "cell_type": "markdown",
   "id": "f3d54b05-3051-4a03-ab56-139b0d974576",
   "metadata": {},
   "source": [
    "### 4.1 Ordinary Least Squares Regressions <a class=\"anchor\" id=\"ordinary_least_squares_regressions1\"></a>   "
   ]
  },
  {
   "cell_type": "markdown",
   "id": "e9077e44-a6ba-4e56-953a-ba160fa69df7",
   "metadata": {},
   "source": [
    "In **[Table 2](#table_2)**, various OLS regressions are run to present the correlation between economic development today (measured by GDP per capita in 2005) and measures of human capital and institutions. The sample consists of 62 former colonized countries for which there is data. Heteroscedasticity robust standard errors are shown in parantheses. In the first column, the results belong to the regression of years of schooling on log GDP per capita in 2005. The relationship between them is significant with a coefficient of 0.352. The coefficient is very large. **[Figure 1-A](#figure_1)** plots the log of GDP per capita in 2005 against years of schooling. The red line is the fitted values from column . Considering the fact that the coefficient of years of schooling should match with the coefficient estimated with Mincer equation (generally estimated to be between 0.06 and 0.10) with an elastic supply of capital, no externalities and no omitted variable bias, the huge difference between coefficients suggests that there are omitted variable bias as the huge human capital externalities weren't supported by existing literature. Column 2 shows the relationship between the rule of law and log GDP per capital. There is a strong correlation between them with a coefficient of 0.930. **[Figure 1-B](#figure_1)** plots the log of GDP per capita in 2005 against the rule of law index. The red line is the fitted values from column 2. Column 3 consists of the result of regression with years of schooling and the rule of law as explanatory variables. The coefficient of the rule of law significantly decreases whereas the effect of years of schooling slightly decreases, which is still relatively higher than Mincerian estimate.\n",
    "Other columns shows the result of regressions with different combination of control variables. The control variables are latitute( absolute value of distance from the country to the equator), dummy variables for the continent of Africa, America, Asia where Australasia is the omitted group, and dummies for British and French colonies where other European countries are omitted variables. The motivating reason why there are control variables for countries are that they may have had different institutions, human capital policies and different types of missionary activities. The control variables have a small impact on the result. Even though the column 12 includes all the control variables, there is small decrease in years of schooling.\n",
    "\n",
    "However, there are some potential problems in the results. The first reasons is the possible differential measurement error in human capital and institutions.Because human capital is partly determined by institutions and correlated with them (**[Figure 1- C](#figure_1)**), some of the effects of institutions on log GDP per capita will be loaded on to human capital, which means upward bias in the estimates of human capital and downward bias in the estimates of institutions. This problem can be corrected by including instrumental variable into our model. Second, there might be a reverse causality between human capital and log GDP per capita.Higher income might lead to higher schooling level.\n",
    "\n",
    "To sum up, even though there is a correlation between human capital and institutions, and economic development of a country, these cannot be seen as a casual relation beacuse of possible omitted variable problem."
   ]
  },
  {
   "cell_type": "markdown",
   "id": "495c3643-56be-4485-bd77-aebc994f5ee5",
   "metadata": {},
   "source": [
    "#### Table 2 Ordinary least squares (OLS) cross-country regressions<a class=\"anchor\" id=\"table_2\"></a>  "
   ]
  },
  {
   "cell_type": "code",
   "execution_count": null,
   "id": "4bc509a6-da69-475c-8ff4-4694da70878a",
   "metadata": {},
   "outputs": [],
   "source": [
    "get_table2(country_data)"
   ]
  },
  {
   "cell_type": "markdown",
   "id": "f1573c81-bdf2-41fb-9dca-5ec1bb994efd",
   "metadata": {},
   "source": [
    "#### Extension | Figure 1 - The Relationship between log GDP per capita and Human capital and Institutions <a class=\"anchor\" id=\"figure_1\"></a> "
   ]
  },
  {
   "cell_type": "code",
   "execution_count": null,
   "id": "21f17608-a4b2-436c-bbba-c753a37faaab",
   "metadata": {},
   "outputs": [],
   "source": [
    "get_figure1(country_data)\n",
    "plt.show()"
   ]
  },
  {
   "cell_type": "markdown",
   "id": "abd2be35-3b20-488f-8644-6c9e07b2e56d",
   "metadata": {},
   "source": [
    "### 4.2 Semistructural Models <a class=\"anchor\" id=\"semistructural_models\"></a>   "
   ]
  },
  {
   "cell_type": "markdown",
   "id": "74c8e42d-397b-4c15-96a5-da623c339854",
   "metadata": {},
   "source": [
    "In this section, the possible omitted variable bias problems in **[Table 2](#table_2)** is reduced by treating either institutions or human capital as endogenous in the following semistructural model while controlling for historical determinants of (potential instrument for) the other. These models are related to the full 2SLS models in which both institutions and human capital are treated as endogenous and instrumented with same variables. The semistructed model shown below reduces the omitted variable bias and yields a similar results to those in full 2SLS models.\n",
    "\n",
    "**[Table 3](#table_3)** shows the falsification exercise for the validity of Protestant missionary activity in the early twentieth century as a source of excludable variation in human capital. The first four column test the idea that most of the missionary activity took place at the beginning of the twentieth century and they shouldn't have had effect on education in the nineteenth century. The authors used a sample with 24 countries in which missionary activity started after 1870. As expected, the results show that there is no significant relation between Protestant missionary activity in the early twentieth century and primary enrollment rate in 1870 whether the same variables in **[Table 2](#table_2)** are controlled or not.\n",
    "\n",
    "In the next for columns(5-8), the correlation betweeen the fraction of population enrolled in primary school in 1940 ( which is after decades of Protestant missionary work) and Protestant missionary activity in the early twentieth century is shown by using the same sample of 24 countries. The coefficient of Protestant missionary activities in the early twentieth century significantly increases compared to the estimates in columns 1-4, showing stronger correlation between primary school enrollment in 1940 and Protestant missionary activities. In column 8 where latitude, colonizer identity and continent dummies are controlled, the coefficient of the Protestant missionary variable is significant at the 10% significance level. These results therefore suggest that stronger correlation between Protestant missionary activity and human capital emerged between 1870 and 1940.\n",
    "\n",
    "Finally, in the last columns (9-12), the results for the relationship between average years of schooling in 2005 (usual measure of human capital today) and Protestant missionary activity in the early twentieth century for the same sample of 24 countries. There is a strong effect of Protestant missionary actvity on human capital. Overall, the results in **[Table 3](#table_3)** support the key assumptions that Protestant missionaries in the early twentieth century did not differentially select into areas with higher human capital, but they did then impact human capital investments in the areas where they located.\n"
   ]
  },
  {
   "cell_type": "markdown",
   "id": "d3aa3c0b-9e65-4389-b55e-985bc46562da",
   "metadata": {},
   "source": [
    "#### Table 3 Falsification exercise, Protestant missionaries, cross-country sample <a class=\"anchor\" id=\"table_3\"></a>  "
   ]
  },
  {
   "cell_type": "code",
   "execution_count": null,
   "id": "f3926a3f-e158-4ab8-b72f-aaec732fae98",
   "metadata": {},
   "outputs": [],
   "source": [
    "get_table3(country_data)"
   ]
  },
  {
   "cell_type": "markdown",
   "id": "6c385af2-751a-4e12-83ac-dd53701ceff8",
   "metadata": {},
   "source": [
    "The results in **[Table 4](#table_4)** belong to models in which average years of schooling are treated as endogenous variable while there are two control variables for variables proposed as exogenous sources of variation in historical institutions: potential settler mortality and log population density in 1500. The table is different than the table presented in the original paper. There are some variable which are not included in this table like Anderson-Rubin confidence intervals,and F-statistic excluded instruments. In the first part of the table is the second stage of the two stage least square regression and the second part is the first stage of the regression. At the bottom, limited information maximum likelihood estimations results are presented. In the model, the instrumental variables for human capital today are Protestant missionary activity in the early twentieth century and primary school enrollment in 1900.\n",
    "\n",
    "Column 1-4 show the results of 2 stage least squares estimate where endogenous variable is years of schooling in 2005, dependent variable is log GDP per capita in 2005 and instrumental variables are primary enrollment in 1900 and Protestant missionary activities in early twentieth century together with some control and dummy variables. Column 1 includes the result from a regression which includes only average years of schooling and dummy variable for different sourcs of protestant missionary data in both first and second stage. It doesn't include any historically determinant variable. The results show a strong fist-stage relationship as instrumental varibles except dummies are statistically significant. Moreover, the F variable excluded instrument which are not shown in the tables is 26. In the second stage, there is again a strong relationshiop between average years of schooling and Log GDP per capita 2005 with a cofficient of 0.314 similar to OLS model in **[Table 2](#table_2)**. In column 2-4, the control variables as in **[Table 2](#table_2)** (latitude, continent and colonizer identity dummies) are added to the model. The addition of all control variables (column 4) yields smaller impact on the first and second stage with a coefficient estimate of 0.317 on the average years of schooling. As a result, if the estimates in columns 1-4 were the casual effect of human capital on log GDP per capital, the effect again would be significantly higher than the micro estimates, which might be because the models do not control for the effect of institutions even though they are instrumented with historical variation in human capital today. \n",
    "\n",
    "Column 1-5 show the estimates where institutions are controlled together with some additional control and dummy variables. In column 5, there is not any covariates. The model shows that the log of potential settler mortality is significant both in the first and in the second stage, whereas the log population density in 1500 is marginally significant in the second stage but not in the first stage. More importantly, the coefficient of the effect of average years of schooling on log GDP per capita today is smaller than columns 1-4,0.177, and only marginally significant. After addiction of usual control variables ( latitute, continent and colonizer identity dummies) in the following columns, the coefficient of the second-stage estimate remains similar or decreases a little. However, none of them statistically significant.\n",
    "\n",
    "In the last table (columns 9-12 in the original article), the same model in the columns 5-8 are estimated with LIML. Overall, the results are almost the same and close to micro evidence.\n",
    "\n",
    "To conclude, controlling for historically determinants of institutions directly and instrumenting for average years of schooling today with their historical determinants significantly decreases the estimates of the effect of human capital in GDP per capita today and brings these estimates close to micro estimates."
   ]
  },
  {
   "cell_type": "markdown",
   "id": "71e733ca-63f9-4571-9186-60c7f20920bc",
   "metadata": {},
   "source": [
    "#### Table 4 Semistructural regressions, years of schooling, cross-country sample <a class=\"anchor\" id=\"table_4\"></a>  "
   ]
  },
  {
   "cell_type": "code",
   "execution_count": null,
   "id": "0e9a1cce-a5c8-4295-bd05-b20121f338ba",
   "metadata": {},
   "outputs": [],
   "source": [
    "[table1,table2]=get_table4(country_data)\n",
    "table4=get_table4_LIML(country_data)\n",
    "display(table1)\n",
    "display(table2)\n",
    "display(table4)"
   ]
  },
  {
   "cell_type": "markdown",
   "id": "26be99b6-974d-4600-a840-c160712dcf58",
   "metadata": {},
   "source": [
    "**[Table 5](#table_5)** is the polar opposite of **[Table 4](#table_4)**. In this case, the rule of law index is treated as an endogenous variable while controlling for the historically determinants of human capital today (Protestant missionary activity and primary school enrollment in 1900). The table is again different than the table presented in original paper, however, the results are the same except some minor differences in heteroscedasticity robust standard errors. The Panel A shows the results of second stage while Panel B shows the results of first stage where instruments for the rule of law index are capped log potential settler mortality rate and log population density in 1500. Column 1 presents again basic model without any varible except the rule of law index. The first stage relation for column 1 is strong. The effect of the rule of law on GDP per capita is precise and quite large. The overidentification test again provides support for the validity of instruments.\n",
    "\n",
    "Similarly, column 2-4 add standard control variables(latitude, contitent and colonizer identity dummies). Addition of new control variables decreases the strength of the first stage altough log population density in 1500 is significant in some spesifications. However, the second stage relationship remains similar quantitatively to column 1. Columns 5-8 includes the historical determinants of human capital today as additional controls, which are Protestant missionary activities in the early twentieth century and primary school enrollment in 1900. The addittion of historical variables has little effect on the relationship between the rule of law index and gdp per capita today ( the coefficient estimates are very similar to those in columns 1-4 and statistically significant), however, remember that in **[Table 4](#table_4)**, the inclusion of historical variables related to institutions significantly reduces the effect of human capital variable.\n",
    "\n",
    "The LIML models replicating the same spesification in columns 4-8 is presented in the last panel(in original paper, they are presented in columns 9-12). The results are very similar to the results in columns 5-8.\n",
    "\n",
    "To conclude, the relationship between institutions and current prosperity is considerably more robust than that between human capital and current prosperity. Moreover, when the authors control for institutions, the effect of human capital on GDP per capita reduces and converges to micro estimate, which means that models that do not control for the effect of institutions tend to suffer from a serious omitted variable bias. causing an upward bias in the effect of human capital variables."
   ]
  },
  {
   "cell_type": "markdown",
   "id": "0815f9e9-e881-45c2-9808-9d21b715e494",
   "metadata": {},
   "source": [
    "#### Table 5 Semistructural regressions, rule of law, cross-country sample <a class=\"anchor\" id=\"table_5\"></a>  "
   ]
  },
  {
   "cell_type": "code",
   "execution_count": null,
   "id": "1e5639cd-af1a-4eaf-937e-0de7b63119b1",
   "metadata": {},
   "outputs": [],
   "source": [
    "table1,table2=get_table5(country_data)\n",
    "table3=get_table5_LIML(country_data)\n",
    "display(table1,table2,table3)"
   ]
  },
  {
   "cell_type": "markdown",
   "id": "1700f940-27e8-4cf8-a8cd-369043fb4359",
   "metadata": {},
   "source": [
    "### 4.3 Full Two-Stage Least Squares Models <a class=\"anchor\" id=\"full_two-stage_least_squares_models\"></a>   "
   ]
  },
  {
   "cell_type": "markdown",
   "id": "d0266370-d155-4ad0-a550-402d675fc86c",
   "metadata": {},
   "source": [
    "In this chapter, the authors estimate models in which both institutions and human capital are simultaneously treated as endogenous and instrumented using the same historical variables.The full 2SLS results are presented in the **[Table 6](#table_6)**, however, again, the tables presented here are different than the ones presented in the original paper although the estimated coefficients are the same. There are also some differences in standard errors. Some of the results in the original paper is not represented here. In the first table, second-stage regressions are presented while in the second table, the first-stage regressions are presented. In the last table, the results from limited information maximum likelihood  estimates are shown. The first-stage results are quite similar to the ones in  **[Tables 4](#table_4)** and **[5](#table_5)** . The results suggest that the instrumental variables are significant only for their relevant variables.\n",
    "\n",
    "Column 1 represents the model with only average years of schooling and the rule of law index ( as well as the dummy for the source of Protestant missionary data). The coefficient for years of schooling is smaller than that in column 1 of **[Table 4](#table_4)** with the coefficient of 0.223. The coefficient of the rule of law index is also a little smaller than the one in the first column of **[Table 5](#table_5)**. In column 2-4, the models includes the usual control and dummy variables; Latitude, continent and colonizer identity dummies. As new covariates are added, the coefficient of the rule of law index remains around the same magnitude and significant, whereas the coefficient of average years of schooling become insignificant and the magnitude declines. In the last table ( columns 5-8 in the original paper), results from LIML models are shown. The results are very similar to 2SLS results."
   ]
  },
  {
   "cell_type": "markdown",
   "id": "99aee2a3-3fca-42fb-8c24-5d1e0a8edaf0",
   "metadata": {},
   "source": [
    "#### Table 6 Full two-stage least squares (2SLS) and limited information maximum likelihood(LIML) estimates, cross-country sample <a class=\"anchor\" id=\"table_6\"></a>  "
   ]
  },
  {
   "cell_type": "code",
   "execution_count": null,
   "id": "05edd62d-96b7-450d-b7f6-6e64301fe43b",
   "metadata": {},
   "outputs": [],
   "source": [
    "table1,table2=get_table6(country_data)\n",
    "table3 =get_table6_LIML(country_data)\n",
    "display(table1,table2,table3)"
   ]
  },
  {
   "cell_type": "markdown",
   "id": "eadc01e1-04d1-4117-8256-25db5e0e3f98",
   "metadata": {},
   "source": [
    "The following table corresponds the Table 7 in the original paper. Again, there are some differences between the table in the original paper and the table presented here, however, the coefficient estimates are the same. **[Table 7](#table_7)** demonstrates the robustness of the results from **[Table 6](#table_6)**. It represents only LIML models. In this exercise, the authors uses the following roboustness checks;\n",
    "* They drop the four neo-Europes (the United States, Canada,Australia, and New Zealand). They believe that the path of institutional development may have been different as well as the nature of missionary activity in these countries.\n",
    "* The current prevalence of falciparum malaria is controlled because it is a test for whether some of the effect of potential settler mortality may be working through the current prevalence of malaria.\n",
    "* Different measures of temperature and humidity (average,minimum, and maximum monthly high temperatures, and minimum and maximum monthly low temperatures, and morning minimum and maximum humidity, and afternoon minimum and maximum humidity) are controlled\n",
    "* They control for the fraction of the poopulation with different religious affiliations in 1900 to be able to isolate the effect of Protestant missionary activity from the direct effect of religion\n",
    "\n",
    "In column 1-2, the results from a model where neo-Europes are excluded are presented. Then, in the following two columns, the malaria effect is controlled. The temperature and humidity variables are added to models in the columns 5-6. Finally, in the last two columns, the different religious affiliations are controlled.The results are very similar to those in **[Table 6](#table6)**. The coefficient on the rule of law index is always between 1.15 and 1.49 and always significant, whereas the coefficient estimate on average years of schooling is never statistically significant.\n",
    "\n",
    "\n",
    "To sum up, the results from the full 2SLS/LIML models, in which both institutions and human capital are instrumented using historical sources of variation, show a fairly robust effect of institutions on current prosperity and a much more limited effect of human capital. This doesn't imply that human capital does not have a robust effect on GDP per capita. "
   ]
  },
  {
   "cell_type": "markdown",
   "id": "e7ffc5a4-c7db-467a-aed5-3b5cf9c383de",
   "metadata": {},
   "source": [
    "#### Table 7 Robustness exercises: full limited information maximum likelihood models, second-stage regressions, cross-country sample <a class=\"anchor\" id=\"table_7\"></a>  "
   ]
  },
  {
   "cell_type": "code",
   "execution_count": null,
   "id": "d1a1ba8f-9358-4558-9a7b-1e15f97c05ad",
   "metadata": {},
   "outputs": [],
   "source": [
    "table7=get_table7(country_data)\n",
    "display(table7)"
   ]
  },
  {
   "cell_type": "markdown",
   "id": "319d146d-a26e-4ba2-b9ed-492136863d96",
   "metadata": {},
   "source": [
    "### 4.4 Does Human Capital Cause Institutions <a class=\"anchor\" id=\"does_human_capital_cause_institutions\"></a>   "
   ]
  },
  {
   "cell_type": "markdown",
   "id": "c677374c-7b95-44cf-a166-7a3bc6556142",
   "metadata": {},
   "source": [
    "In this chapter, the authors examine if human capital causes current institutional differences. For this purpose, the authors run 2SLS regressions where the rule of law index is dependent variable, and years of schooling is endogenous variable instrumented by primary school enrollment in 1900 and Protestant missionary activities in the early twentieth century. The second-stage results are presented in **[Table 8](#table_8)**. The firs-stage results are not presented here to save the space as the results are the same as the firs-stage results in **[Table 4](#table_4)**. The results in **[Table 8](#table_8)** are similar to the ones in **[Table 4](#table_4)**. In the first four columns, there is a possitive correlation between years of schooling and the rule of law index. However, after addition of settler mortality and log population density in 1500 to the models in Columns 4-8, the coefficietn of years of schooling becomes insignificant and for some results, the sign is negative. The second table (columns 9-12 in the original paper) represents the results of LIML estimations. The results are similar to those in columns 5-8. As a result, the regressions suggest that there is no casual impact of human capital on institutions even though human capital and institutions are positively correlated."
   ]
  },
  {
   "cell_type": "markdown",
   "id": "12cdbf6f-5bdb-4fbd-95c0-5c3cfcda652a",
   "metadata": {},
   "source": [
    "#### Table 8 Effects of years of schooling on institutions, second-stage regression, cross-country sample <a class=\"anchor\" id=\"table_8\"></a>  "
   ]
  },
  {
   "cell_type": "code",
   "execution_count": null,
   "id": "4f0c0650-b4f7-4f48-b6aa-d7ed23cefab4",
   "metadata": {},
   "outputs": [],
   "source": [
    "table1=get_table8(country_data)\n",
    "table2=get_table8_LIML(country_data)\n",
    "display(table1,table2)"
   ]
  },
  {
   "cell_type": "markdown",
   "id": "73b0fd08-c374-4502-a9b2-a490cbbc48be",
   "metadata": {},
   "source": [
    "## 5. Cross-Regional Evidence<a class=\"anchor\" id=\"cross_regional_evidence\"></a>   "
   ]
  },
  {
   "cell_type": "markdown",
   "id": "c8ccebc7-4a5a-4e0f-9400-c9753fd66599",
   "metadata": {},
   "source": [
    "In this section, the authors present evidence on the effects of human capital on long-run economic development using data from 684 regions from 48 countries."
   ]
  },
  {
   "cell_type": "markdown",
   "id": "f3d6392c-f53b-4551-ac5f-24245f8472ec",
   "metadata": {},
   "source": [
    "### 5.1 Ordinary Least Squares Regressions <a class=\"anchor\" id=\"ordinary_least_squares_regressions2\"></a>  "
   ]
  },
  {
   "cell_type": "markdown",
   "id": "e5894126-b97b-4e4c-a1ae-9492efce4a9f",
   "metadata": {},
   "source": [
    "The resuts of OLS regressions are presented in **[Table 9](#table_9)**, which has similar spirit to **[Table 2](#table_2)**  without the institutional variables. The dependent variable is the log GDP per capita at the regional level. All spesifications include country fixed effects. Column 1 , as always, is the simplest spesification with only years of schooling as an explanatory variable. In this spesification, the sample contains 1495 observations to verify that the baseline results for 684 regions are similar to the results in the larger sample. The coeffcient estimated on years of schooling is 0.282 (which is simiar to the ones in **[Table 2](#table_2)**) and statistically significant. The column 2 present the same spesification with the base sample with 684 observations and it has almost the same result. The rest of the columns include various control variables. In column 3-5 controls for capital cities ( which might be richer), two variables for inverse distance to coast ( to capture the idea that more isolated regions are poorer), a dummy for landlocked regions and two temperature variables. In the last column, population density of the region before colonization is controlled. Addition of all control variables barely change the results."
   ]
  },
  {
   "cell_type": "markdown",
   "id": "f7ef8ebc-17a4-43b3-95dd-2fc43356ab97",
   "metadata": {},
   "source": [
    "#### Table 9 Ordinary least squares (OLS) regressions, cross-region sample <a class=\"anchor\" id=\"table_9\"></a>"
   ]
  },
  {
   "cell_type": "code",
   "execution_count": null,
   "id": "9c1a204a-3ebd-4202-b7d1-bc5897032d59",
   "metadata": {},
   "outputs": [],
   "source": [
    "get_table9(region_data)"
   ]
  },
  {
   "cell_type": "markdown",
   "id": "1a8a0cac-6a6c-470d-9293-c078dc038af2",
   "metadata": {},
   "source": [
    "### 5.2 Two-Stage Least Squares Models <a class=\"anchor\" id=\"two_stage_least_squares_models\"></a>  "
   ]
  },
  {
   "cell_type": "markdown",
   "id": "d55917b0-01ac-4e43-a85e-dcda442c4470",
   "metadata": {},
   "source": [
    "In this section, average years of schooling is instrumentad with the presence of  Protestant missions in the early twentieth century at the regional level. The results of 2SLS are presented in **[Table 10](#table_10)**. The table presented here is a little bit different than the original paper. There are some variables that are not shown here such as F-statistic excluded instruments and Kleibergen & Paap (2006) test. The first half of the table presents the second-stage regression results while the bottom half is the results from firs-stage regressions. All spesifications have country fixed effect. Column 1 has the basic spesification where the regression has only years of schooling as an explanatory variable and the presence of Protestant missionary as an instrumental variable. The spesification has a strong first-stage relationship, however, the second-stage shows that once years of schoolings is instrumented, its magnitude (0.203) decrases towards to micro estimates compared to the corresponding coefficient in **[Table 9](#table_9)**. For the remaning columns, the models have the same control variables as in **[Table 9](#table_9)**. Addition of control variables make the coefficient of years of schooling is statistically insignificant and decrease its magnitude.\n",
    "\n",
    "To conclude, once human capital today is instrumented with the presence of Protestant missionary activities in the early twentieth century along with addition of various control variable, the magnitude of human capital on GDP per capital today falls from high levels to levels more close to micro estimates. The main difference from the cross-country evidence is that in cross-region evidence, instrumenting for differences in human capital is sufficient to achieve this result, whereas in the cross-country models, controlling for institutions is also necessary, which probably means that protestant missionary activity is not a valid source of variation unless we control for institutions at the country level, but conditional on country fixed effects, it provides a more plausible source of variation in within-country variation in human capital"
   ]
  },
  {
   "cell_type": "markdown",
   "id": "5e715f85-bd51-4892-bc7a-85efe3cf9443",
   "metadata": {},
   "source": [
    "#### Table 10 Instrumental variables (IV) regressions, cross-region sample <a class=\"anchor\" id=\"table_10\"></a>"
   ]
  },
  {
   "cell_type": "code",
   "execution_count": null,
   "id": "628b248c-44d6-4976-851c-57ebd16dd89f",
   "metadata": {},
   "outputs": [],
   "source": [
    "table1,table2=get_table10(region_data)\n",
    "display(table1,table2)"
   ]
  },
  {
   "cell_type": "markdown",
   "id": "95ae8126-89d8-49c0-a6dd-214815258f46",
   "metadata": {},
   "source": [
    "## 6. Extensions <a class=\"anchor\" id=\"extensions\"></a>   "
   ]
  },
  {
   "cell_type": "markdown",
   "id": "341698fd-c5c7-4934-9204-24b9092df866",
   "metadata": {},
   "source": [
    "### 6.1 Robustness Check with Different Variable <a class=\"anchor\" id=\"robustness_check_with_different_variable\"></a>   "
   ]
  },
  {
   "cell_type": "markdown",
   "id": "19912569-9925-4aab-9ee8-d44285bcc78a",
   "metadata": {},
   "source": [
    "In this paper, Acemoglu et al.(2014) uses average years of schooling of the population above age 15 in 2005 as a measure of human capital today to explain the relationship between human capital, institutions and economic development. Even though years of schooling is widely used in the literature to investigate the effect of human capital on various variables such as income and health, years of schooling is a quantity-based measure. It doesn't give us a full picture about the effect of schooling as it excludes quality of the education because schooling is not the same as learning. As a measure of human capital, years of schooling assumes that one more year spent in the school has the same impact on the development of human capital both in the USA and Chile. However, international assessments of educational attainment such as Programme for Interational Student Assessment(PISA),Trends in International Mathematics and Science Study (TIMSS) reveal that there are discrepancies in the levels of cognitive skills of students at the same age (For PISA,age 15 and for TIMSS, $8^{th}$ grade) even if they have the same amount of years of schooling. Another concern is differences in adults who has completed the same amount of schooling. For example, comparing young adults from Nigeria and Tanzania whom have completed only primary education shows literacy rates of 19 and 80 percent respectively (Kaffenberger and Pritchett,2017).  Therefore, I decided to use another variable,called learning-adjusted years of schooling (LAYS) -proposed by Angrist et al.(2018)- as a proxy of human capital which also captures the quality of education to test the robustness of results presented in the paper.\n",
    "\n",
    "* ***Definition of LAYS***:\n",
    "    \n",
    "    Angrist et al.(2018) suggested the following spesification to capture the quality of education while comparing the years of countries across countries.\n",
    "    \\begin{equation}\n",
    "    \\ LAYS_c = \\ S_c \\times\\ R^n_c\n",
    "    \\end{equation}\n",
    "    \n",
    "    where $S_{c}$ is a measure of the average years of schooling for the relevant cohort of the population of country *c*, and $R_{c}^{n}$ is a measure of learning for the relevant cohort of the population of country *c*, relative to a numeraire (benchmark) country *n*. My benchmark country is the country with the highest score, which means $R_{c}^{n}$ is less than 1 for every country except benchmark country. More precisely\n",
    "    \\begin{equation}\n",
    "    \\ R^n_c = \\frac{L_c}{L_n}\n",
    "    \\end{equation}\n",
    "    where $L_{c}$ and $L_{n}$ are the measure of a learning in countries *c* and *n* respectively. The measure of learning can be derived by using various international assessments of educational attainment such as PISA or TIMSS.\n",
    "    \n",
    "In addition to change in one of the explanatory variable, I will change the year of data to investigate the relationship with newer data. The authors uses data from 2015 and I will use data from 2017. In this exercise, my explanatory variable is the log of GD per capita (purchasing power parity(PPP) basis) in 2017 from the PennWorld Tables. My explanatory variable for human capital is Learning-adjested years of schooling from World Bank [Human Capital Index](#human_capital_index) dataset which is calculated by multiplying the estimates of expected years of school by the ratio of most recent harmonized test scores to 625 and the rule of law index. My indicator for current institutions is the rule of law index for 2017 from the [Worldwide Governance Indicators](#wgi) constructed by the World Bank. I aim to get more precise and significant results for the effect of human capital on economic development,so I will replicate the results of [Table 4](#table_4), [Table 5](#table_5) and [Table 6](#table_6) by using learning-adjusted years of schooling instead of average years of schooling as it is the core of the paper. \n",
    "\n",
    "[Table 11](#table_11) is similar to [Table 4](#table_4).The results belong to models in which learning-adjusted years of schooling is treated as endogenous variable instrumented with the same instruments in the paper; Protestant missionary activity in the early twentieth century and primary school enrollment in 1900. Here I only presented the second stage results to save space. Column 1-4 presents the results of second-stage regression of learning-adjusted years of schooling on the log GDP per capita in 2017 with our usual control variables. In column 5-8 has the same spesification however, this time I include historically determined control variables for institutions. My results are similar to the results in [Table 4](#table_4). In columns 1-4, without controlling variables for institutions, the coefficients of LAYS are signigicant whereas after controlling for historical variables of institutions, the magnitude of coefficient decreases and they become insignificant."
   ]
  },
  {
   "cell_type": "markdown",
   "id": "8f477527-fb8c-4266-8a27-ac0f428a7b4c",
   "metadata": {},
   "source": [
    "#### Table 11 Learning-adjusted years of schooling,Second-stage regressions <a class=\"anchor\" id=\"table_11\"></a>"
   ]
  },
  {
   "cell_type": "code",
   "execution_count": null,
   "id": "63ea79aa-0013-40cd-91fb-704e82c38a31",
   "metadata": {},
   "outputs": [],
   "source": [
    "ext_data=pd.read_excel(\"data/new_df.xlsx\")\n",
    "ext_data=prepare_ext_data(country_data,ext_data)\n",
    "get_table11(ext_data)"
   ]
  },
  {
   "cell_type": "markdown",
   "id": "bad7b174-9b3e-4bc4-bc24-c48f0f6f780c",
   "metadata": {},
   "source": [
    "[Table 12](#table_12) is basically replication of [Table 5](#table_5) with the rule of law index in 2017. In this case, the rule of law index is treated as an endogenous variable instrumented with settler mortality rate and population density in 2500 while controlling for the historically determinats of human capital today (columns 5-8). Even if I include control variables for human capital, the difference in the magnitude of coefficients on rule of law index is small and they are always significant, contrary to LAYS. To conclude, I can say that I have similar results to the original paper where the relationship between institutions and current prosperity is considerably more robust than that between human capital and current prosperity."
   ]
  },
  {
   "cell_type": "markdown",
   "id": "efae97ae-093c-44ee-af8b-561bee589a83",
   "metadata": {},
   "source": [
    "#### Table 12 Rule of law in 2017, Second-stage regressions <a class=\"anchor\" id=\"table_12\"></a>"
   ]
  },
  {
   "cell_type": "code",
   "execution_count": null,
   "id": "8a47a62a-f775-420d-bd54-c8da5f190e32",
   "metadata": {
    "tags": []
   },
   "outputs": [],
   "source": [
    "get_table12(ext_data)"
   ]
  },
  {
   "cell_type": "markdown",
   "id": "30758c92-1b24-44d4-a1e9-3dfa975a2df9",
   "metadata": {},
   "source": [
    "[Table 13](#table_13) shows the estimation results of models in which both institutions and human capital are simultaneously treated as endogenous and intrumented by their historically determined variables. As it can be seen from the table, all of the resuls except one are insignificant and some of of the coefficient of the rule of law index is negative even when I include the usual control variables, which is totally opposite of what I was planning to obtain. One of the reason why I get really messy results might be measurement error in learning-adjusted years of schooling. For that reason, in the following section I will conduct a measurement error."
   ]
  },
  {
   "cell_type": "markdown",
   "id": "4f078d12-fd62-4cf1-b5be-36b97d1785c5",
   "metadata": {},
   "source": [
    "#### Table 13 Full two-stage least squares, Second-stage regressions <a class=\"anchor\" id=\"table_13\"></a>"
   ]
  },
  {
   "cell_type": "code",
   "execution_count": null,
   "id": "af265ef5-fc9a-4905-913e-b5c77f05664b",
   "metadata": {},
   "outputs": [],
   "source": [
    "get_table13(ext_data)"
   ]
  },
  {
   "cell_type": "markdown",
   "id": "af5257a5-b6bd-41d3-9610-9ab911c5e0db",
   "metadata": {},
   "source": [
    "#### 6.1.1 Measurement Error Test <a class=\"anchor\" id=\"measurement_error_test\"></a>   "
   ]
  },
  {
   "cell_type": "markdown",
   "id": "b4466ad3-ca1e-407f-9bbb-8a7ed2179a82",
   "metadata": {},
   "source": [
    "In this subsection, I am going to test whether there is a measurement error in LAYS dataset by comparing with average years of schooling dataset which doesn't have measurement error by assumption (as is in original paper). The average years of schooling data comes from [Our World in Data](#our_world_in_data). I will use the test suggested by Lee & Wilhelm (2018) (hereafter I will refer it as Lee and Wilhelm test ).\n",
    "\n",
    "* **Lee and Wilhelm Test**<br>\n",
    "    Consider the following linear regression model.\n",
    "    \\begin{equation}\n",
    "    \\ Y = {\\alpha} + {\\beta}X^* + {\\epsilon},  \\;\\;\\;\\;\\;\\;   E({\\epsilon}X^*)=0, \\;\\;\\;\\;\\;\\;\\;\\;\\;\\;\\;\\;  (1)\n",
    "    \\end{equation}\n",
    "    \n",
    "     where we do not $X^*$. Instead, we observe **X** with measurement error and an instrumental variable(IV)  **Z** which satisfies E($X^*$Z$\\neq$0) and E($\\epsilon Z=0$). When there is measurement error, the ${\\beta}$ will be biased and inconsistent under the null hypothesis of no measurement error. However, even if there is a measurement error, Z won't be biased and it will be consistent under both null and alternative hypothesis. Then, statistically significant difference between two estimators indicates that there is measurement error. To better understand, suppose you run the following regression \n",
    "    \n",
    "    \\begin{equation}\n",
    "    \\ Y = \\overline{\\alpha} + \\overline{\\beta}X + \\overline{\\gamma}Z + \\overline{\\epsilon},  \\;\\;\\;\\;\\;\\;\\;\\;\\;\\;\\;\\;\\;\\;\\;\\;\\;\\;   (2)\n",
    "    \\end{equation}\n",
    "   \n",
    "    to test\n",
    "    \\begin{equation}\n",
    "     H_0:\\overline{\\gamma}=0 \\;\\;\\;\\;\\;\\;\\;\\;\\;\\;\\;\\;\\;\\;\\;\\;\\;\\; (3)\n",
    "    \\end{equation}\n",
    "    because if $\\overline{\\gamma}$ is equal to zero, there is no measurement error in the explanatory variable. The only assumption needed is that  (2) holds and IV is excluded from the outcome equation. Therfore, when testing $\\overline{\\gamma}$=0, we basically test \n",
    "     \\begin{equation}\n",
    "     H_0:P(X=X^*)=1 \\;\\;\\;\\;\\;\\;\\;\\;\\;\\;\\;\\;\\;\\;\\;\\;\\;\\; \n",
    "    \\end{equation}\n",
    "\n",
    "For this purpose, I regressed log GDP per capita 2017 on both LAYS and average years of schooling with their instrumental variables separetely. In [Table 14](#table_14), you will see the results from these regressions. The only thing we need to focus is p-values for instrumental variables. In the first three columns, the explanatory variable ( X in equation (2)) is LAYS, while it is years of schooling in the last three columns. In columns 1 and 4, the insturmental variable is Protestant missionary activities in the early twentieth century, whereas primary enrollment rate in 1900 is the only instrumental variable for columns 2 and 5. In addition, Columns 3-6 shows the result from model including both insturmental variable. The p-values for primary enrollment rate is always higher than the significance level (0.05), so we fail to rejecet null hypothesis of no measurement error, which means it is possible that $\\overline{\\gamma}$ is equal to zero as expected. However, when we use Protestant missionary activities for instrumental variable, we reject the null hypothesis of no measurement error for LAYS in column 1 in significance level of 0.05 and 0.10 (0.035<0.05 and 0.035<0.10), and in column 3 with significance level of 0.10 (0.063<0.10). To conclude, learning-adjusted years of schooling is an error-contaminated variable and it might be one of the reason why my results of 2SLS in [Table 13](#table_13) is insignificant. This exercises gives me some insight about why the authors do not use LAYS as a proxy for human capital today."
   ]
  },
  {
   "cell_type": "markdown",
   "id": "59b83af8-92c9-49f9-9940-6d62a7a7a371",
   "metadata": {},
   "source": [
    "#### Table 14 Test for measurement error in LAYS <a class=\"anchor\" id=\"table_14\"></a>"
   ]
  },
  {
   "cell_type": "code",
   "execution_count": null,
   "id": "b2cddf7d-6645-4b2a-93cf-8366af780564",
   "metadata": {},
   "outputs": [],
   "source": [
    "get_table14(ext_data)"
   ]
  },
  {
   "cell_type": "markdown",
   "id": "7ef76f58-54f5-43f4-95fe-dc5d822a105e",
   "metadata": {},
   "source": [
    "# 7. References <a class=\"anchor\" id=\"references\"></a>   "
   ]
  },
  {
   "cell_type": "markdown",
   "id": "6c4cafe4-b359-45c6-a9cd-3a5fe43e104d",
   "metadata": {},
   "source": [
    "* [ **Average years of schooling, Our World in Data**](https://ourworldindata.org/grapher/mean-years-of-schooling-long-run?tab=chart&time=2005..latest) <a class=\"anchor\" id=\"our_world_in_data\"></a>   \n",
    "\n",
    "* [**Human Capital Index, The World Bank**](https://datacatalog.worldbank.org/dataset/human-capital-index) <a class=\"anchor\" id=\"human_capital_index\"></a>   \n",
    "\n",
    "* [**Lee, Y. J., & Wilhelm, D. (2020)**.](https://doi.org/10.1177/1536867X20931002) Testing for the presence of measurement error in Stata. *The Stata Journal, 20(2)*, 382–404\n",
    "\n",
    "\n",
    "* [**Worldwide Governance Indicators, The World Bank**](http://info.worldbank.org/governance/wgi/) <a class=\"anchor\" id=\"wgi\"></a>\n",
    "\n",
    "\n",
    "* [**Angrist, N., Filmer, D., Rogers, H., & Sabarwal, S. (2018).**](http://documents.worldbank.org/curated/en/243261538075151093/Learning-Adjusted-Years-of-Schooling-LAYS-Defining-A-New-Macro-Measure-of-Education) Learning-Adjusted Years of Schooling (LAYS) : Defining A New Macro Measure of Education (English). *Policy Research working paper*;no. WPS 8591 Washington, D.C. : World Bank Group\n",
    "\n",
    "\n",
    "* **Lee, D. S., & Lemieux, T. (2010)**. Regression Discontinuity Designs in Economics. *Journal of Economic Literature*, 48(2), 281-355.\n",
    "\n",
    "\n",
    "* **Lindo, J. M., Sanders, N. J., & Oreopoulos, P. (2010)**. Ability, Gender, and Performance Standards: Evidence from Academic Probation. *American Economic Journal: Applied Economics*, 2(2), 95-117.\n",
    "\n",
    "\n",
    "* **Thistlethwaite, D. L., & Campbell, D. T. (1960)**. Regression-discontinuity analysis: An alternative to the ex post facto experiment. *Journal of Educational Psychology*, 51(6), 309.\n",
    "\n"
   ]
  }
 ],
 "metadata": {
  "kernelspec": {
   "display_name": "Python 3",
   "language": "python",
   "name": "python3"
  },
  "language_info": {
   "codemirror_mode": {
    "name": "ipython",
    "version": 3
   },
   "file_extension": ".py",
   "mimetype": "text/x-python",
   "name": "python",
   "nbconvert_exporter": "python",
   "pygments_lexer": "ipython3",
   "version": "3.8.5"
  }
 },
 "nbformat": 4,
 "nbformat_minor": 5
}
